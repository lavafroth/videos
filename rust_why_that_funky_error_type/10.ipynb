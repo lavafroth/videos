{
 "cells": [
  {
   "cell_type": "code",
   "execution_count": 1,
   "id": "8851f313-127b-4184-87b3-087d425ca4d1",
   "metadata": {},
   "outputs": [
    {
     "data": {
      "text/html": [
       "<pre style=\"white-space:pre;overflow-x:auto;line-height:normal;font-family:Menlo,'DejaVu Sans Mono',consolas,'Courier New',monospace\"><span style=\"color: #7fbfbf; text-decoration-color: #7fbfbf\">[04/26/24 10:58:22] </span><span style=\"color: #800000; text-decoration-color: #800000\">WARNING </span> Missing Plugins: <span style=\"font-weight: bold\">{</span><span style=\"color: #008000; text-decoration-color: #008000\">''</span><span style=\"font-weight: bold\">}</span>                                                   <a href=\"file:///usr/local/lib/python3.11/site-packages/manim/plugins/__init__.py\" target=\"_blank\"><span style=\"color: #7f7f7f; text-decoration-color: #7f7f7f\">__init__.py</span></a><span style=\"color: #7f7f7f; text-decoration-color: #7f7f7f\">:</span><a href=\"file:///usr/local/lib/python3.11/site-packages/manim/plugins/__init__.py#17\" target=\"_blank\"><span style=\"color: #7f7f7f; text-decoration-color: #7f7f7f\">17</span></a>\n",
       "</pre>\n"
      ],
      "text/plain": [
       "\u001b[2;36m[04/26/24 10:58:22]\u001b[0m\u001b[2;36m \u001b[0m\u001b[31mWARNING \u001b[0m Missing Plugins: \u001b[1m{\u001b[0m\u001b[32m''\u001b[0m\u001b[1m}\u001b[0m                                                   \u001b]8;id=973082;file:///usr/local/lib/python3.11/site-packages/manim/plugins/__init__.py\u001b\\\u001b[2m__init__.py\u001b[0m\u001b]8;;\u001b\\\u001b[2m:\u001b[0m\u001b]8;id=552959;file:///usr/local/lib/python3.11/site-packages/manim/plugins/__init__.py#17\u001b\\\u001b[2m17\u001b[0m\u001b]8;;\u001b\\\n"
      ]
     },
     "metadata": {},
     "output_type": "display_data"
    }
   ],
   "source": [
    "from manim import *"
   ]
  },
  {
   "cell_type": "code",
   "execution_count": 35,
   "id": "45a023df-39c2-4279-b34a-4ffd0d75cd10",
   "metadata": {},
   "outputs": [
    {
     "data": {
      "text/html": [
       "<pre style=\"white-space:pre;overflow-x:auto;line-height:normal;font-family:Menlo,'DejaVu Sans Mono',consolas,'Courier New',monospace\">Manim Community <span style=\"color: #008000; text-decoration-color: #008000\">v0.18.0</span>\n",
       "\n",
       "</pre>\n"
      ],
      "text/plain": [
       "Manim Community \u001b[32mv0.\u001b[0m\u001b[32m18.0\u001b[0m\n",
       "\n"
      ]
     },
     "metadata": {},
     "output_type": "display_data"
    },
    {
     "name": "stderr",
     "output_type": "stream",
     "text": [
      "                                                                                                                                                                                                                                                                                                                                                   \r"
     ]
    },
    {
     "data": {
      "text/html": [
       "<video src=\"media/jupyter/Ten@2024-04-26@11-46-55.mp4\" controls autoplay loop style=\"max-width: 60%;\"  >\n",
       "      Your browser does not support the <code>video</code> element.\n",
       "    </video>"
      ],
      "text/plain": [
       "<IPython.core.display.Video object>"
      ]
     },
     "metadata": {},
     "output_type": "display_data"
    }
   ],
   "source": [
    "class Ten(Scene):\n",
    "    def construct(self):\n",
    "        c = Circle(radius=1.5, color=WHITE, fill_color=WHITE, fill_opacity=.5)\n",
    "        circle = Circle(radius=0.3, color=WHITE).shift(0.3 * UL)\n",
    "        num_points = 20\n",
    "        angles = [n * (360 / num_points) for n in range(num_points)]\n",
    "        points = [circle.point_at_angle(n*DEGREES) for n in angles]\n",
    "        dots = [Circle(radius=0.01, color=WHITE, fill_opacity=1).move_to(p) for p in points]\n",
    "        self.add(c)\n",
    "        for dot in dots:\n",
    "            self.add(dot)\n",
    "        access = Code(code='let field = trait_object.field;', language='rust', font_size=20)[2].to_edge(DL).shift(2 * UP)\n",
    "        error = \"\"\"error[E0609]: no field `field` on type `Box<dyn std::error::Error>`\n",
    "  --> src/main.rs:15:30\n",
    "   |\n",
    "15 |     let field = trait_object.field;\n",
    "   |                              ^^^^^ unknown field\n",
    "\n",
    "For more information about this error, try `rustc --explain E0609`.\"\"\"\n",
    "        error = Text(error, font_size=20, font='monospace',\n",
    "                     t2c={\n",
    "                         '[172:191]': RED,\n",
    "                         '[0:12]': RED,\n",
    "                     }\n",
    "                    ).to_edge(DL).shift(0.2 * DOWN)\n",
    "        self.play(Write(access))\n",
    "        curved_arrow = CurvedArrow(start_point=access.get_center() + 0.25 * UP, end_point=circle.get_center(), angle=-PI/2)\n",
    "        self.play(Create(curved_arrow))\n",
    "        self.wait(2)\n",
    "        _c = Circle(radius=1.5, color=WHITE, fill_color=WHITE, fill_opacity=1)\n",
    "        curve = ParametricFunction(lambda t: np.array([0.1 * np.sin(PI * t), 0, 0]), t_range=[0, 4]).move_to(_c.get_center())\n",
    "        self.play(Transform(c, _c), FadeOut(curved_arrow))\n",
    "        self.play(Write(error), MoveAlongPath(c, curve))\n",
    "        self.wait(4)\n",
    "        self.play(FadeOut(access), FadeOut(error))\n",
    "        self.wait(2)\n",
    "\n",
    "%manim -ql -v WARNING Ten"
   ]
  },
  {
   "cell_type": "code",
   "execution_count": 14,
   "id": "5a031c64-441a-4384-bf70-9b781708590a",
   "metadata": {},
   "outputs": [
    {
     "data": {
      "text/plain": [
       "(172, 191)"
      ]
     },
     "execution_count": 14,
     "metadata": {},
     "output_type": "execute_result"
    }
   ],
   "source": [
    "error = \"\"\"error[E0609]: no field `field` on type `Box<dyn std::error::Error>`\n",
    "  --> src/main.rs:15:30\n",
    "   |\n",
    "15 |     let field = trait_object.field;\n",
    "   |                              ^^^^^ unknown field\n",
    "\n",
    "For more information about this error, try `rustc --explain E0609`.\"\"\"\n",
    "start = error.find('^^^^^ unknown field')\n",
    "gap = len('^^^^^ unknown field')\n",
    "(start, start+gap)"
   ]
  },
  {
   "cell_type": "code",
   "execution_count": 15,
   "id": "119a8766-b60c-41a5-af00-08a2ca264b9b",
   "metadata": {},
   "outputs": [
    {
     "data": {
      "text/plain": [
       "12"
      ]
     },
     "execution_count": 15,
     "metadata": {},
     "output_type": "execute_result"
    }
   ],
   "source": [
    "len('error[E0609]')"
   ]
  },
  {
   "cell_type": "code",
   "execution_count": null,
   "id": "a86ddc47-b364-40ac-bfe4-49284437ac7b",
   "metadata": {},
   "outputs": [],
   "source": []
  }
 ],
 "metadata": {
  "kernelspec": {
   "display_name": "Python 3 (ipykernel)",
   "language": "python",
   "name": "python3"
  },
  "language_info": {
   "codemirror_mode": {
    "name": "ipython",
    "version": 3
   },
   "file_extension": ".py",
   "mimetype": "text/x-python",
   "name": "python",
   "nbconvert_exporter": "python",
   "pygments_lexer": "ipython3",
   "version": "3.11.8"
  }
 },
 "nbformat": 4,
 "nbformat_minor": 5
}
