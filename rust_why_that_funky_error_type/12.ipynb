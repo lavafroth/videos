{
 "cells": [
  {
   "cell_type": "code",
   "execution_count": 1,
   "id": "913af1c0-7082-4d4e-82e5-53f0b47ca602",
   "metadata": {},
   "outputs": [
    {
     "data": {
      "text/html": [
       "<pre style=\"white-space:pre;overflow-x:auto;line-height:normal;font-family:Menlo,'DejaVu Sans Mono',consolas,'Courier New',monospace\"><span style=\"color: #7fbfbf; text-decoration-color: #7fbfbf\">[04/26/24 13:24:16] </span><span style=\"color: #800000; text-decoration-color: #800000\">WARNING </span> Missing Plugins: <span style=\"font-weight: bold\">{</span><span style=\"color: #008000; text-decoration-color: #008000\">''</span><span style=\"font-weight: bold\">}</span>                                                   <a href=\"file:///usr/local/lib/python3.11/site-packages/manim/plugins/__init__.py\" target=\"_blank\"><span style=\"color: #7f7f7f; text-decoration-color: #7f7f7f\">__init__.py</span></a><span style=\"color: #7f7f7f; text-decoration-color: #7f7f7f\">:</span><a href=\"file:///usr/local/lib/python3.11/site-packages/manim/plugins/__init__.py#17\" target=\"_blank\"><span style=\"color: #7f7f7f; text-decoration-color: #7f7f7f\">17</span></a>\n",
       "</pre>\n"
      ],
      "text/plain": [
       "\u001b[2;36m[04/26/24 13:24:16]\u001b[0m\u001b[2;36m \u001b[0m\u001b[31mWARNING \u001b[0m Missing Plugins: \u001b[1m{\u001b[0m\u001b[32m''\u001b[0m\u001b[1m}\u001b[0m                                                   \u001b]8;id=65133;file:///usr/local/lib/python3.11/site-packages/manim/plugins/__init__.py\u001b\\\u001b[2m__init__.py\u001b[0m\u001b]8;;\u001b\\\u001b[2m:\u001b[0m\u001b]8;id=940069;file:///usr/local/lib/python3.11/site-packages/manim/plugins/__init__.py#17\u001b\\\u001b[2m17\u001b[0m\u001b]8;;\u001b\\\n"
      ]
     },
     "metadata": {},
     "output_type": "display_data"
    }
   ],
   "source": [
    "from manim import *"
   ]
  },
  {
   "cell_type": "code",
   "execution_count": null,
   "id": "af4350b1-c06c-4657-932e-30e185f1b005",
   "metadata": {},
   "outputs": [
    {
     "data": {
      "text/html": [
       "<pre style=\"white-space:pre;overflow-x:auto;line-height:normal;font-family:Menlo,'DejaVu Sans Mono',consolas,'Courier New',monospace\">Manim Community <span style=\"color: #008000; text-decoration-color: #008000\">v0.18.0</span>\n",
       "\n",
       "</pre>\n"
      ],
      "text/plain": [
       "Manim Community \u001b[32mv0.\u001b[0m\u001b[32m18.0\u001b[0m\n",
       "\n"
      ]
     },
     "metadata": {},
     "output_type": "display_data"
    },
    {
     "name": "stderr",
     "output_type": "stream",
     "text": [
      "                                                                                                         \r"
     ]
    }
   ],
   "source": [
    "class Twelve(Scene):\n",
    "    def construct(self):\n",
    "        code = \"Result<T, Box<dyn std::error::Error>>\"\n",
    "        code = Code(code=code, language='rust', font_size=40)[2][0].shift(0.25 * LEFT)\n",
    "        self.play(Write(code))\n",
    "        self.wait(6)\n",
    "        # let's recap!\n",
    "        result, rest = code[:len('Result')], code[len('Result'):]\n",
    "        self.play(x.animate.set_opacity(0.5) for x in rest)\n",
    "        self.wait(2)\n",
    "        ok = Text('Ok(  )', font_size=40, font='monospace').move_to(rest[1].get_center() + 2 * DOWN + 0.35 * LEFT)\n",
    "        green = Circle(radius=0.4, color=GREEN, fill_color=GREEN, fill_opacity=0.8).move_to(ok.get_center() + 0.39 * RIGHT)\n",
    "        arrow = Arrow(start=green.get_center() + 0.25 * DOWN, end=rest[1].get_center())\n",
    "        old_res = result.copy()\n",
    "        rest_one = rest[1]\n",
    "        rest_one_copy = rest_one.copy()\n",
    "        rest_one_ = rest[1].copy().shift(0.1 * UP).set_opacity(1)\n",
    "        self.play(Transform(result, ok), FadeIn(green), Create(arrow), Transform(rest_one, rest_one_))\n",
    "        self.wait(2)\n",
    "        rest_two = rest[len('<T, '):-1]\n",
    "        rest_two_copy = rest_two.copy()\n",
    "        rest_two_ = rest_two.copy().shift(0.1 * UP).set_opacity(1)\n",
    "        ok = Text('Err(  )', font_size=40, font='monospace').move_to(rest_two.get_center() + 2 * DOWN + 0.3 * LEFT)\n",
    "        red = Circle(radius=0.4, color=RED, fill_color=RED, fill_opacity=0.8).move_to(ok.get_center() + 0.57 * RIGHT)\n",
    "        _arrow = Arrow(start=red.get_center() + 0.25 * DOWN + 0.08 * LEFT, end=rest_two.get_center())\n",
    "        self.play(\n",
    "            Transform(result, ok),\n",
    "            Transform(green, red),\n",
    "            Transform(arrow, _arrow),\n",
    "            Transform(rest_one, rest_one_copy),\n",
    "            Transform(rest_two, rest_two_),\n",
    "        )\n",
    "        self.wait(2)\n",
    "        self.play(Transform(rest_two, rest_two_copy), FadeOut(green), FadeOut(arrow), Transform(result, old_res))\n",
    "        self.play(x.animate.set_opacity(1) for x in rest)\n",
    "        self.wait(2)\n",
    "        _nucode = \"Box<dyn std::error::Error>\"\n",
    "        _nucode = Code(code=_nucode, language='rust', font_size=40)[2][0]\n",
    "        nucode = code[len('Result<T, '):-1]\n",
    "        self.play(\n",
    "            code[:len('Result<T, ')].animate.shift(20 * LEFT),\n",
    "            code[-1].animate.shift(20 * RIGHT),\n",
    "            Transform(nucode, _nucode)\n",
    "        )\n",
    "        self.wait(2)\n",
    "\n",
    "%manim -ql -v WARNING Twelve"
   ]
  },
  {
   "cell_type": "code",
   "execution_count": null,
   "id": "74e0df46-5e4f-4a61-b25b-125caf247e43",
   "metadata": {},
   "outputs": [],
   "source": []
  }
 ],
 "metadata": {
  "kernelspec": {
   "display_name": "Python 3 (ipykernel)",
   "language": "python",
   "name": "python3"
  },
  "language_info": {
   "codemirror_mode": {
    "name": "ipython",
    "version": 3
   },
   "file_extension": ".py",
   "mimetype": "text/x-python",
   "name": "python",
   "nbconvert_exporter": "python",
   "pygments_lexer": "ipython3",
   "version": "3.11.8"
  }
 },
 "nbformat": 4,
 "nbformat_minor": 5
}
