{
 "cells": [
  {
   "cell_type": "code",
   "execution_count": 2,
   "id": "d4d4c761-9f19-4f8e-96a7-c7f5157d3f4c",
   "metadata": {},
   "outputs": [
    {
     "data": {
      "text/html": [
       "<pre style=\"white-space:pre;overflow-x:auto;line-height:normal;font-family:Menlo,'DejaVu Sans Mono',consolas,'Courier New',monospace\"><span style=\"color: #7fbfbf; text-decoration-color: #7fbfbf\">[04/27/24 02:59:39] </span><span style=\"color: #800000; text-decoration-color: #800000\">WARNING </span> Missing Plugins: <span style=\"font-weight: bold\">{</span><span style=\"color: #008000; text-decoration-color: #008000\">''</span><span style=\"font-weight: bold\">}</span>                                                   <a href=\"file:///usr/local/lib/python3.11/site-packages/manim/plugins/__init__.py\" target=\"_blank\"><span style=\"color: #7f7f7f; text-decoration-color: #7f7f7f\">__init__.py</span></a><span style=\"color: #7f7f7f; text-decoration-color: #7f7f7f\">:</span><a href=\"file:///usr/local/lib/python3.11/site-packages/manim/plugins/__init__.py#17\" target=\"_blank\"><span style=\"color: #7f7f7f; text-decoration-color: #7f7f7f\">17</span></a>\n",
       "</pre>\n"
      ],
      "text/plain": [
       "\u001b[2;36m[04/27/24 02:59:39]\u001b[0m\u001b[2;36m \u001b[0m\u001b[31mWARNING \u001b[0m Missing Plugins: \u001b[1m{\u001b[0m\u001b[32m''\u001b[0m\u001b[1m}\u001b[0m                                                   \u001b]8;id=705024;file:///usr/local/lib/python3.11/site-packages/manim/plugins/__init__.py\u001b\\\u001b[2m__init__.py\u001b[0m\u001b]8;;\u001b\\\u001b[2m:\u001b[0m\u001b]8;id=202907;file:///usr/local/lib/python3.11/site-packages/manim/plugins/__init__.py#17\u001b\\\u001b[2m17\u001b[0m\u001b]8;;\u001b\\\n"
      ]
     },
     "metadata": {},
     "output_type": "display_data"
    }
   ],
   "source": [
    "from manim import *"
   ]
  },
  {
   "cell_type": "code",
   "execution_count": 13,
   "id": "1182405b-4eb7-4151-8a69-617d60636e2c",
   "metadata": {},
   "outputs": [
    {
     "data": {
      "text/html": [
       "<pre style=\"white-space:pre;overflow-x:auto;line-height:normal;font-family:Menlo,'DejaVu Sans Mono',consolas,'Courier New',monospace\">Manim Community <span style=\"color: #008000; text-decoration-color: #008000\">v0.18.0</span>\n",
       "\n",
       "</pre>\n"
      ],
      "text/plain": [
       "Manim Community \u001b[32mv0.\u001b[0m\u001b[32m18.0\u001b[0m\n",
       "\n"
      ]
     },
     "metadata": {},
     "output_type": "display_data"
    },
    {
     "name": "stderr",
     "output_type": "stream",
     "text": [
      "                                                                                                              \r"
     ]
    },
    {
     "data": {
      "text/html": [
       "<video src=\"media/jupyter/Sc@2024-04-27@03-09-54.mp4\" controls autoplay loop style=\"max-width: 60%;\"  >\n",
       "      Your browser does not support the <code>video</code> element.\n",
       "    </video>"
      ],
      "text/plain": [
       "<IPython.core.display.Video object>"
      ]
     },
     "metadata": {},
     "output_type": "display_data"
    }
   ],
   "source": [
    "class Sc(Scene):\n",
    "    def construct(self):\n",
    "        match = Code(code='let handle = match std::fs::File::open(\"file.txt\") {\\n\\tOk(handle) => handle,\\n\\tErr(e) => {\\n\\t\\treturn Err(e.into());\\n\\t},\\n};', language='rust', font_size=32)[2]\n",
    "        self.add(match)\n",
    "        self.play(FadeOut(match[:2]), FadeOut(match[-1]))\n",
    "        e, r, b = match[2:5]\n",
    "        _e = Circle(radius=0.2, color=WHITE, fill_color=WHITE, fill_opacity=0.6).move_to(e.get_center()+LEFT)\n",
    "        _r = Circle(radius=0.5, color=WHITE, fill_color=WHITE, fill_opacity=0.5).move_to(r.get_center()+LEFT)\n",
    "        _b = Circle(radius=0.1, color=WHITE, fill_color=WHITE, fill_opacity=0.8).move_to(b.get_center()+LEFT)\n",
    "        self.play(\n",
    "            Transform(e, _e),\n",
    "            Transform(b, _b),\n",
    "            Transform(r, _r),\n",
    "        )\n",
    "        self.play(\n",
    "            r.animate.shift(8 * UP),\n",
    "            e.animate.shift(10 * UP),\n",
    "            b.animate.shift(12 * UP),\n",
    "            run_time=2\n",
    "        )        \n",
    "\n",
    "%manim -ql -v WARNING Sc"
   ]
  },
  {
   "cell_type": "code",
   "execution_count": null,
   "id": "e5791685-4e25-4304-bc1b-1fbe7894999c",
   "metadata": {},
   "outputs": [],
   "source": []
  }
 ],
 "metadata": {
  "kernelspec": {
   "display_name": "Python 3 (ipykernel)",
   "language": "python",
   "name": "python3"
  },
  "language_info": {
   "codemirror_mode": {
    "name": "ipython",
    "version": 3
   },
   "file_extension": ".py",
   "mimetype": "text/x-python",
   "name": "python",
   "nbconvert_exporter": "python",
   "pygments_lexer": "ipython3",
   "version": "3.11.8"
  }
 },
 "nbformat": 4,
 "nbformat_minor": 5
}
