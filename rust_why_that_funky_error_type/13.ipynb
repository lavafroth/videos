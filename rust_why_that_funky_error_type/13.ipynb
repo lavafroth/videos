{
 "cells": [
  {
   "cell_type": "code",
   "execution_count": 1,
   "id": "f3f0f442-6fe3-49f6-807b-31ed54b25acb",
   "metadata": {},
   "outputs": [
    {
     "data": {
      "text/html": [
       "<pre style=\"white-space:pre;overflow-x:auto;line-height:normal;font-family:Menlo,'DejaVu Sans Mono',consolas,'Courier New',monospace\"><span style=\"color: #7fbfbf; text-decoration-color: #7fbfbf\">[04/27/24 11:57:00] </span><span style=\"color: #800000; text-decoration-color: #800000\">WARNING </span> Missing Plugins: <span style=\"font-weight: bold\">{</span><span style=\"color: #008000; text-decoration-color: #008000\">''</span><span style=\"font-weight: bold\">}</span>                                                   <a href=\"file:///usr/local/lib/python3.11/site-packages/manim/plugins/__init__.py\" target=\"_blank\"><span style=\"color: #7f7f7f; text-decoration-color: #7f7f7f\">__init__.py</span></a><span style=\"color: #7f7f7f; text-decoration-color: #7f7f7f\">:</span><a href=\"file:///usr/local/lib/python3.11/site-packages/manim/plugins/__init__.py#17\" target=\"_blank\"><span style=\"color: #7f7f7f; text-decoration-color: #7f7f7f\">17</span></a>\n",
       "</pre>\n"
      ],
      "text/plain": [
       "\u001b[2;36m[04/27/24 11:57:00]\u001b[0m\u001b[2;36m \u001b[0m\u001b[31mWARNING \u001b[0m Missing Plugins: \u001b[1m{\u001b[0m\u001b[32m''\u001b[0m\u001b[1m}\u001b[0m                                                   \u001b]8;id=559394;file:///usr/local/lib/python3.11/site-packages/manim/plugins/__init__.py\u001b\\\u001b[2m__init__.py\u001b[0m\u001b]8;;\u001b\\\u001b[2m:\u001b[0m\u001b]8;id=551039;file:///usr/local/lib/python3.11/site-packages/manim/plugins/__init__.py#17\u001b\\\u001b[2m17\u001b[0m\u001b]8;;\u001b\\\n"
      ]
     },
     "metadata": {},
     "output_type": "display_data"
    }
   ],
   "source": [
    "from manim import *"
   ]
  },
  {
   "cell_type": "code",
   "execution_count": 4,
   "id": "265aa05c-2f8d-4502-9e7e-33c24ee4501b",
   "metadata": {},
   "outputs": [
    {
     "data": {
      "text/html": [
       "<pre style=\"white-space:pre;overflow-x:auto;line-height:normal;font-family:Menlo,'DejaVu Sans Mono',consolas,'Courier New',monospace\">Manim Community <span style=\"color: #008000; text-decoration-color: #008000\">v0.18.0</span>\n",
       "\n",
       "</pre>\n"
      ],
      "text/plain": [
       "Manim Community \u001b[32mv0.\u001b[0m\u001b[32m18.0\u001b[0m\n",
       "\n"
      ]
     },
     "metadata": {},
     "output_type": "display_data"
    },
    {
     "name": "stderr",
     "output_type": "stream",
     "text": [
      "                                                                                                        \r"
     ]
    },
    {
     "data": {
      "text/html": [
       "<video src=\"media/jupyter/Convinced@2024-04-27@12-01-49.mp4\" controls autoplay loop style=\"max-width: 60%;\"  >\n",
       "      Your browser does not support the <code>video</code> element.\n",
       "    </video>"
      ],
      "text/plain": [
       "<IPython.core.display.Video object>"
      ]
     },
     "metadata": {},
     "output_type": "display_data"
    }
   ],
   "source": [
    "class Convinced(Scene):\n",
    "    def construct(self):\n",
    "        code = Code(code='Box<dyn std::error::Error>', language='rust', font_size=40)[2][0]\n",
    "        _code = Code(code='Box<dyn std::error::Error>', language='rust', font_size=34)[2][0].shift(3*LEFT)\n",
    "        self.play(Transform(code, _code))\n",
    "        heap_label = Text(\"The heap\").to_edge(UR).shift(0.75 * LEFT)\n",
    "        heapspace = Rectangle(width=8, height=10, color=TEAL_D, fill_color=TEAL_D, fill_opacity=0.5).to_edge(RIGHT).shift(3.25 * RIGHT)\n",
    "        heap_blocks = Rectangle(width=4, height=2, grid_ystep=1.0, color=TEAL_D, fill_color=TEAL_D, fill_opacity=0.3).to_edge(DR)\n",
    "        heap = Group(heapspace, heap_blocks, heap_label)\n",
    "        self.play(FadeIn(heap))\n",
    "        self.wait(2)\n",
    "\n",
    "        _data = Rectangle(width=4, height=1, color=TEAL_D, fill_color=TEAL_D, fill_opacity=0.3).to_edge(RIGHT)\n",
    "        data = code[len('Box<dyn '):]\n",
    "        table = code[:len('Box<dyn ')]\n",
    "        pointer = Circle(radius=0.1, color=BLUE, fill_color=BLUE, fill_opacity=0.8).move_to(code.get_center() + 0.25 * RIGHT).set_opacity(0)\n",
    "        _pointer = Rectangle(width=2, height=3/2, color=BLUE, fill_color=BLUE, fill_opacity=0.3, grid_ystep=3/4).move_to(pointer.get_center())\n",
    "        arrow_end = _data.get_edge_center(LEFT) + .5 * RIGHT\n",
    "        _table = Rectangle(width=4, height=3/2, color=YELLOW, fill_color=YELLOW, fill_opacity=0.3, grid_ystep=3/4).to_edge(DL).shift(4 * RIGHT)\n",
    "        _arrow_1 = Arrow(start=_pointer.get_center() + 0.5 * DOWN, end=_table.get_edge_center(UP) + .2 * DOWN)\n",
    "        _arrow = Arrow(start=_pointer.get_center() + 0.2 * UP + 0.6 * RIGHT, end=arrow_end)\n",
    "        trait_object = Text(\"data\\nvtable\", font='monospace', font_size=34, line_spacing=1.1).move_to(_pointer.get_center())\n",
    "        text = Text(\"...\\nfmt\", font='monospace', font_size=34, line_spacing=1.4).move_to(_table.get_center() + 0.1 * DOWN)\n",
    "        self.play(\n",
    "            Transform(table, _table),\n",
    "            Transform(data, _data),\n",
    "            Transform(pointer, _pointer),\n",
    "            Write(text),\n",
    "            Create(_arrow),\n",
    "            Create(_arrow_1),\n",
    "            AnimationGroup(\n",
    "                Transform(pointer, _pointer),\n",
    "                Write(trait_object),\n",
    "                lag_ratio=0.7,\n",
    "            ),\n",
    "        )\n",
    "        \n",
    "        self.wait(2)\n",
    "        \n",
    "        anims = []\n",
    "        for char in trait_object[:4]:\n",
    "            curve = ParametricFunction(lambda t: np.array([0, 0.1 * np.sin(PI * t), 0]), t_range=[0, 1]).move_to(char.get_center() + 0.05 * UP)\n",
    "            anims.append(MoveAlongPath(char, curve))\n",
    "        self.play(AnimationGroup(anims, lag_ratio=0.1), run_time=1)\n",
    "        \n",
    "        data_c = data.copy()\n",
    "        self.play(Transform(data, Rectangle(width=1, height=1, color=TEAL_D, fill_color=TEAL_D, fill_opacity=0.3).move_to(\n",
    "            heapspace.get_edge_center(LEFT) + 1.25 * RIGHT\n",
    "        )))\n",
    "        self.play(Transform(data, Rectangle(width=2, height=3, color=TEAL_D, fill_color=TEAL_D, fill_opacity=0.3).move_to(\n",
    "            heapspace.get_edge_center(LEFT) + 1.75 * RIGHT\n",
    "        )))\n",
    "        self.play(Transform(data, data_c))\n",
    "        self.wait(2)\n",
    "        \n",
    "        anims = []\n",
    "        for char in text[3:]:\n",
    "            curve = ParametricFunction(lambda t: np.array([0, 0.1 * np.sin(PI * t), 0]), t_range=[0, 1]).move_to(char.get_center() + 0.05 * UP)\n",
    "            anims.append(MoveAlongPath(char, curve))\n",
    "        self.play(AnimationGroup(anims, lag_ratio=0.1), run_time=1)\n",
    "        \n",
    "        machine_code = Text(\"machine\\ncode\", font='monospace', font_size=34).to_edge(DL)\n",
    "        arrow_2 = Arrow(start=text.get_center() + 0.5 * LEFT + 0.2 * DOWN, end=text.get_center() + 4 * LEFT + 0.2 * DOWN)\n",
    "        self.play(AnimationGroup(\n",
    "            Write(machine_code),\n",
    "            Create(arrow_2),\n",
    "        ))\n",
    "        self.wait(4)\n",
    "        self.play(FadeOut(machine_code, arrow_2, data, text, _arrow, _arrow_1, table, pointer, trait_object, heap))\n",
    "        self.wait(1)\n",
    "\n",
    "%manim -qh -v WARNING Convinced"
   ]
  },
  {
   "cell_type": "code",
   "execution_count": null,
   "id": "3dbe0f50-97cd-4075-bafa-5012a2423e0c",
   "metadata": {},
   "outputs": [],
   "source": []
  },
  {
   "cell_type": "code",
   "execution_count": null,
   "id": "32073644-11d3-45af-9c30-f4737b8f2dd3",
   "metadata": {},
   "outputs": [],
   "source": []
  }
 ],
 "metadata": {
  "kernelspec": {
   "display_name": "Python 3 (ipykernel)",
   "language": "python",
   "name": "python3"
  },
  "language_info": {
   "codemirror_mode": {
    "name": "ipython",
    "version": 3
   },
   "file_extension": ".py",
   "mimetype": "text/x-python",
   "name": "python",
   "nbconvert_exporter": "python",
   "pygments_lexer": "ipython3",
   "version": "3.11.8"
  }
 },
 "nbformat": 4,
 "nbformat_minor": 5
}
