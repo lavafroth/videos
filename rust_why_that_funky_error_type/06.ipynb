{
 "cells": [
  {
   "cell_type": "code",
   "execution_count": 1,
   "id": "56263721-9869-4f2f-82c1-d3c81f0940f0",
   "metadata": {},
   "outputs": [
    {
     "data": {
      "text/html": [
       "<pre style=\"white-space:pre;overflow-x:auto;line-height:normal;font-family:Menlo,'DejaVu Sans Mono',consolas,'Courier New',monospace\"><span style=\"color: #7fbfbf; text-decoration-color: #7fbfbf\">[04/25/24 08:13:52] </span><span style=\"color: #800000; text-decoration-color: #800000\">WARNING </span> Missing Plugins: <span style=\"font-weight: bold\">{</span><span style=\"color: #008000; text-decoration-color: #008000\">''</span><span style=\"font-weight: bold\">}</span>                                                   <a href=\"file:///usr/local/lib/python3.11/site-packages/manim/plugins/__init__.py\" target=\"_blank\"><span style=\"color: #7f7f7f; text-decoration-color: #7f7f7f\">__init__.py</span></a><span style=\"color: #7f7f7f; text-decoration-color: #7f7f7f\">:</span><a href=\"file:///usr/local/lib/python3.11/site-packages/manim/plugins/__init__.py#17\" target=\"_blank\"><span style=\"color: #7f7f7f; text-decoration-color: #7f7f7f\">17</span></a>\n",
       "</pre>\n"
      ],
      "text/plain": [
       "\u001b[2;36m[04/25/24 08:13:52]\u001b[0m\u001b[2;36m \u001b[0m\u001b[31mWARNING \u001b[0m Missing Plugins: \u001b[1m{\u001b[0m\u001b[32m''\u001b[0m\u001b[1m}\u001b[0m                                                   \u001b]8;id=96358;file:///usr/local/lib/python3.11/site-packages/manim/plugins/__init__.py\u001b\\\u001b[2m__init__.py\u001b[0m\u001b]8;;\u001b\\\u001b[2m:\u001b[0m\u001b]8;id=958337;file:///usr/local/lib/python3.11/site-packages/manim/plugins/__init__.py#17\u001b\\\u001b[2m17\u001b[0m\u001b]8;;\u001b\\\n"
      ]
     },
     "metadata": {},
     "output_type": "display_data"
    }
   ],
   "source": [
    "from manim import *"
   ]
  },
  {
   "cell_type": "code",
   "execution_count": 14,
   "id": "b9735fe4-cc69-4dd2-b617-0e26ea0f65e0",
   "metadata": {},
   "outputs": [
    {
     "data": {
      "text/html": [
       "<pre style=\"white-space:pre;overflow-x:auto;line-height:normal;font-family:Menlo,'DejaVu Sans Mono',consolas,'Courier New',monospace\">Manim Community <span style=\"color: #008000; text-decoration-color: #008000\">v0.18.0</span>\n",
       "\n",
       "</pre>\n"
      ],
      "text/plain": [
       "Manim Community \u001b[32mv0.\u001b[0m\u001b[32m18.0\u001b[0m\n",
       "\n"
      ]
     },
     "metadata": {},
     "output_type": "display_data"
    },
    {
     "name": "stderr",
     "output_type": "stream",
     "text": [
      "                                                                                                                                                                                                                                                                         \r"
     ]
    },
    {
     "data": {
      "text/html": [
       "<video src=\"media/jupyter/TraitIntro@2024-04-25@08-38-06.mp4\" controls autoplay loop style=\"max-width: 60%;\"  >\n",
       "      Your browser does not support the <code>video</code> element.\n",
       "    </video>"
      ],
      "text/plain": [
       "<IPython.core.display.Video object>"
      ]
     },
     "metadata": {},
     "output_type": "display_data"
    }
   ],
   "source": [
    "class TraitIntro(Scene):\n",
    "    def construct(self):\n",
    "        box = Code(code=' Box<dyn std::error::Error>', language='rust', font_size=40)[2][0]\n",
    "        self.add(box)\n",
    "        throwaway_l = box[:len(' Box<dyn')]\n",
    "        serr = box[len(' Box<dyn '):-1]\n",
    "        throwaway_r = box[-1]\n",
    "        self.play(AnimationGroup(\n",
    "            throwaway_l.animate.shift(11 * LEFT),  \n",
    "            throwaway_r.animate.shift(11 * RIGHT),\n",
    "            serr.animate.shift(1.25 * LEFT),\n",
    "        ))\n",
    "        self.wait(2)\n",
    "        trait_def = Code(code='trait Error {\\n\\n}', language='rust', font_size=40)[2]\n",
    "        serr_t = serr[:len('std::error::')]\n",
    "        serr = serr[len('std::error::'):]\n",
    "        self.play(AnimationGroup(\n",
    "            Write(trait_def[0][:len('trait ')]),\n",
    "            Write(trait_def[0][-1]),\n",
    "            Write(trait_def[1:]),\n",
    "            FadeOut(serr_t)),\n",
    "            Transform(serr, trait_def[0][len('trait '):-1])\n",
    "        )\n",
    "        self.wait(4)\n",
    "        _trait_def = Code(code='trait Error {\\n\\n}', language='rust')[2].to_edge(LEFT).shift(0.2 * LEFT + 0.1 * UP)\n",
    "        method = Code(code='    fn fmt(&self, f: &mut std::fmt::Formatter<\\'_>) -> std::fmt::Result;',\n",
    "                      language='rust')[2][0]\n",
    "        serr.set_opacity(0)\n",
    "        self.play(AnimationGroup(\n",
    "            Transform(trait_def, _trait_def),\n",
    "            Write(method),\n",
    "        ))\n",
    "        self.wait(2)\n",
    "        trait_def = Group(trait_def, method)\n",
    "        text = Text(\"* Technically, the Error trait relies on the Display or the Debug trait to put the constraint of having the fmt method.\\nFor the sake of brevity, I'm writing it as a part of the Error trait itself.\", font_size=16).to_edge(DOWN)\n",
    "        self.play(FadeIn(text))\n",
    "        decl = Code(code='let e: Box<dyn std::error::Error> = Box::new(CustomStruct{});', language='rust')[2][0].shift(1.5 * DOWN)\n",
    "        self.play(AnimationGroup(\n",
    "            Create(Line(start=10 * LEFT, end=10*RIGHT, stroke_width=1)),\n",
    "            trait_def.animate.shift(2 * UP),\n",
    "            Write(decl),\n",
    "        ))\n",
    "        anims = []\n",
    "        for char in decl[len('let e: Box<dyn std::error::Error> = Box::new('):len('let e: Box<dyn std::error::Error> = Box::new(CustomStruct')]:\n",
    "            curve = ParametricFunction(lambda t: np.array([0, 0.1 * np.sin(PI * t), 0]), t_range=[0, 1]).move_to(char.get_center() + 0.05 * UP)\n",
    "            anims.append(MoveAlongPath(char, curve))\n",
    "        self.play(AnimationGroup(anims, lag_ratio=0.1), run_time=1)\n",
    "        self.wait(2)\n",
    "        anims = []\n",
    "        for char in method:\n",
    "            curve = ParametricFunction(lambda t: np.array([0, 0.1 * np.sin(PI * t), 0]), t_range=[0, 1]).move_to(char.get_center() + 0.05 * UP)\n",
    "            anims.append(MoveAlongPath(char, curve))\n",
    "        self.play(AnimationGroup(anims, lag_ratio=0.1), run_time=3)\n",
    "        self.wait(4)\n",
    "        \n",
    "%manim -ql -v WARNING TraitIntro"
   ]
  },
  {
   "cell_type": "code",
   "execution_count": null,
   "id": "aa273cde-74a7-45f4-b2fc-7cd0fb16fee5",
   "metadata": {},
   "outputs": [],
   "source": []
  }
 ],
 "metadata": {
  "kernelspec": {
   "display_name": "Python 3 (ipykernel)",
   "language": "python",
   "name": "python3"
  },
  "language_info": {
   "codemirror_mode": {
    "name": "ipython",
    "version": 3
   },
   "file_extension": ".py",
   "mimetype": "text/x-python",
   "name": "python",
   "nbconvert_exporter": "python",
   "pygments_lexer": "ipython3",
   "version": "3.11.8"
  }
 },
 "nbformat": 4,
 "nbformat_minor": 5
}
