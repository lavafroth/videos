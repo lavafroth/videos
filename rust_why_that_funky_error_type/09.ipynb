{
 "cells": [
  {
   "cell_type": "code",
   "execution_count": 1,
   "id": "f3f0f442-6fe3-49f6-807b-31ed54b25acb",
   "metadata": {},
   "outputs": [
    {
     "data": {
      "text/html": [
       "<pre style=\"white-space:pre;overflow-x:auto;line-height:normal;font-family:Menlo,'DejaVu Sans Mono',consolas,'Courier New',monospace\"><span style=\"color: #7fbfbf; text-decoration-color: #7fbfbf\">[04/26/24 10:40:13] </span><span style=\"color: #800000; text-decoration-color: #800000\">WARNING </span> Missing Plugins: <span style=\"font-weight: bold\">{</span><span style=\"color: #008000; text-decoration-color: #008000\">''</span><span style=\"font-weight: bold\">}</span>                                                   <a href=\"file:///usr/local/lib/python3.11/site-packages/manim/plugins/__init__.py\" target=\"_blank\"><span style=\"color: #7f7f7f; text-decoration-color: #7f7f7f\">__init__.py</span></a><span style=\"color: #7f7f7f; text-decoration-color: #7f7f7f\">:</span><a href=\"file:///usr/local/lib/python3.11/site-packages/manim/plugins/__init__.py#17\" target=\"_blank\"><span style=\"color: #7f7f7f; text-decoration-color: #7f7f7f\">17</span></a>\n",
       "</pre>\n"
      ],
      "text/plain": [
       "\u001b[2;36m[04/26/24 10:40:13]\u001b[0m\u001b[2;36m \u001b[0m\u001b[31mWARNING \u001b[0m Missing Plugins: \u001b[1m{\u001b[0m\u001b[32m''\u001b[0m\u001b[1m}\u001b[0m                                                   \u001b]8;id=952598;file:///usr/local/lib/python3.11/site-packages/manim/plugins/__init__.py\u001b\\\u001b[2m__init__.py\u001b[0m\u001b]8;;\u001b\\\u001b[2m:\u001b[0m\u001b]8;id=565978;file:///usr/local/lib/python3.11/site-packages/manim/plugins/__init__.py#17\u001b\\\u001b[2m17\u001b[0m\u001b]8;;\u001b\\\n"
      ]
     },
     "metadata": {},
     "output_type": "display_data"
    }
   ],
   "source": [
    "from manim import *"
   ]
  },
  {
   "cell_type": "code",
   "execution_count": 9,
   "id": "265aa05c-2f8d-4502-9e7e-33c24ee4501b",
   "metadata": {},
   "outputs": [
    {
     "data": {
      "text/html": [
       "<pre style=\"white-space:pre;overflow-x:auto;line-height:normal;font-family:Menlo,'DejaVu Sans Mono',consolas,'Courier New',monospace\">Manim Community <span style=\"color: #008000; text-decoration-color: #008000\">v0.18.0</span>\n",
       "\n",
       "</pre>\n"
      ],
      "text/plain": [
       "Manim Community \u001b[32mv0.\u001b[0m\u001b[32m18.0\u001b[0m\n",
       "\n"
      ]
     },
     "metadata": {},
     "output_type": "display_data"
    },
    {
     "name": "stderr",
     "output_type": "stream",
     "text": [
      "                                                                                    \r"
     ]
    },
    {
     "data": {
      "text/html": [
       "<video src=\"media/jupyter/Convinced@2024-04-26@11-01-12.mp4\" controls autoplay loop style=\"max-width: 60%;\"  >\n",
       "      Your browser does not support the <code>video</code> element.\n",
       "    </video>"
      ],
      "text/plain": [
       "<IPython.core.display.Video object>"
      ]
     },
     "metadata": {},
     "output_type": "display_data"
    }
   ],
   "source": [
    "class Convinced(Scene):\n",
    "    def construct(self):\n",
    "        code = Code(code='Box<dyn std::error::Error>', language='rust', font_size=34)[2][0].shift(2.5*RIGHT)\n",
    "        heap_label = Text(\"The heap\").to_edge(UR).shift(0.75 * LEFT)\n",
    "        heapspace = Rectangle(width=8, height=10, color=TEAL_D, fill_color=TEAL_D, fill_opacity=0.5).to_edge(RIGHT).shift(3.25 * RIGHT)\n",
    "        heap_blocks = Rectangle(width=4, height=2, grid_ystep=1.0, color=TEAL_D, fill_color=TEAL_D, fill_opacity=0.3).to_edge(DR)\n",
    "        heap = Group(heapspace, heap_blocks, heap_label)\n",
    "        anims = AnimationGroup(\n",
    "            FadeIn(heap),\n",
    "            code.animate.shift(5.5 * LEFT),\n",
    "        )\n",
    "        self.play(anims)\n",
    "        self.wait(2)\n",
    "\n",
    "        _data = Rectangle(width=4, height=1, color=TEAL_D, fill_color=TEAL_D, fill_opacity=0.3).to_edge(RIGHT)\n",
    "        data = code[len('Box<dyn '):]\n",
    "        table = code[:len('Box<dyn ')]\n",
    "        _table = Rectangle(width=4, height=3, color=YELLOW, fill_color=YELLOW, fill_opacity=0.3, grid_ystep=3/4).to_edge(DL)\n",
    "        pointer = Circle(radius=0.1, color=BLUE, fill_color=BLUE, fill_opacity=0.8).move_to(code.get_center() + 0.25 * RIGHT).set_opacity(0)\n",
    "        _pointer = Circle(radius=0.25, color=BLUE, fill_color=BLUE, fill_opacity=0.8).move_to(code.get_center() + 0.25 *RIGHT)\n",
    "        text = Text(\"destructor\\nsize\\nalign\", font='monospace', font_size=34, line_spacing=1.1).move_to(_table.get_edge_center(UP) + 1.15 *DOWN)\n",
    "        fmt = Text(\"fmt\", font='monospace', font_size=34).move_to(_table.get_edge_center(DOWN) + 0.35 * UP + 1 * LEFT)\n",
    "        arrow_end = _data.get_edge_center(LEFT) + .5 * RIGHT\n",
    "        arrow = Arrow(start=code.get_center(), end=arrow_end)\n",
    "        arrow_1 = Arrow(start=_pointer.get_center(), end=_table.get_edge_center(UP) + .1 * DOWN)\n",
    "        self.play(AnimationGroup(\n",
    "            Transform(table, _table),\n",
    "            Transform(data, _data),\n",
    "            Transform(pointer, _pointer),\n",
    "            Write(text),\n",
    "            Create(arrow),\n",
    "            Create(arrow_1),\n",
    "        ))\n",
    "        self.play(Write(fmt))\n",
    "        self.wait(2)\n",
    "        _text = Text(\"...\", font='monospace', font_size=34, line_spacing=1.1).move_to(table.get_edge_center(UP) + 0.35 *DOWN)\n",
    "        _table = Rectangle(width=4, height=3/2, color=YELLOW, fill_color=YELLOW, fill_opacity=0.3, grid_ystep=3/4).to_edge(DL).shift(UP * 3/2)\n",
    "        _fmt = Text(\"fmt\", font='monospace', font_size=34).move_to(_table.get_edge_center(DOWN) + 0.35 * UP)\n",
    "        self.play(AnimationGroup(\n",
    "            Transform(text, _text),\n",
    "            Transform(table, _table),\n",
    "            Transform(fmt, _fmt),\n",
    "            Transform(arrow_1, arrow_1),\n",
    "        ))\n",
    "        self.wait(2)\n",
    "        vtable = Group(table, fmt, text)\n",
    "        _vtable = vtable.copy().shift(3.5 * RIGHT + 1.5 * DOWN)\n",
    "        _pointer = Rectangle(width=2, height=3/2, color=BLUE, fill_color=BLUE, fill_opacity=0.3, grid_ystep=3/4).move_to(pointer.get_center())\n",
    "        _arrow_1 = Arrow(start=_pointer.get_center() + 0.5 * DOWN, end=_vtable.get_edge_center(UP) + .2 * DOWN)\n",
    "        _arrow = Arrow(start=_pointer.get_center() + 0.2 * UP + 0.6 * RIGHT, end=arrow_end)\n",
    "        trait_object = Text(\"data\\nvtable\", font='monospace', font_size=34, line_spacing=1.1).move_to(_pointer.get_center())\n",
    "        self.play(AnimationGroup(\n",
    "            Transform(vtable, _vtable),\n",
    "            AnimationGroup(\n",
    "                Transform(pointer, _pointer),\n",
    "                Write(trait_object),\n",
    "                lag_ratio=0.7,\n",
    "            ),\n",
    "            Transform(arrow_1, _arrow_1),\n",
    "            Transform(arrow, _arrow),\n",
    "        ))\n",
    "        trait_object = Group(trait_object, pointer)\n",
    "        machine_code = Text(\"machine\\ncode\", font='monospace', font_size=34).to_edge(DL)\n",
    "        arrow_2 = Arrow(start=fmt.get_center() + 0.5 * LEFT, end=fmt.get_center() + 3.5 * LEFT)\n",
    "        self.play(AnimationGroup(\n",
    "            Write(machine_code),\n",
    "            Create(arrow_2),\n",
    "        ))\n",
    "        \n",
    "        self.wait(2)\n",
    "        _vtable = vtable.copy()\n",
    "        dispatch = Text(\"dynamic\\ndispatch\\ntable\", font='monospace', font_size=34, color=YELLOW).move_to(vtable.get_center() + 0.6 * RIGHT)\n",
    "        self.play(Transform(vtable, dispatch))\n",
    "        self.wait(3)\n",
    "        self.play(Transform(vtable, _vtable))\n",
    "        anims = []\n",
    "        for char in fmt:\n",
    "            curve = ParametricFunction(lambda t: np.array([0, 0.1 * np.sin(PI * t), 0]), t_range=[0, 1]).move_to(char.get_center() + 0.05 * UP)\n",
    "            anims.append(MoveAlongPath(char, curve))\n",
    "        self.play(AnimationGroup(anims, lag_ratio=0.1), run_time=1)\n",
    "        \n",
    "        self.wait(2)\n",
    "        anims = []\n",
    "        for char in machine_code:\n",
    "            curve = ParametricFunction(lambda t: np.array([0, 0.1 * np.sin(PI * t), 0]), t_range=[0, 1]).move_to(char.get_center() + 0.05 * UP)\n",
    "            anims.append(MoveAlongPath(char, curve))\n",
    "        self.play(AnimationGroup(anims, lag_ratio=0.1), run_time=1)\n",
    "        self.wait(2)\n",
    "        self.play(AnimationGroup(\n",
    "            [FadeOut(x) for x in (\n",
    "                vtable, arrow_2, arrow_1, arrow, data, heap, machine_code, text,\n",
    "            )] + [trait_object.animate.move_to(ORIGIN)]\n",
    "        ))\n",
    "        self.wait(3)\n",
    "        dyn = Code(code='dyn', language='rust', font_size=34)[2][0].shift(1.5 * DOWN + 0.25 * LEFT)\n",
    "        dyn_ref = Code(code='&dyn std::error::Error', language='rust', font_size=34)[2][0].shift(1.5 * DOWN + 0.25 * LEFT)\n",
    "        dyn_box = Code(code='Box<dyn std::error::Error>', language='rust', font_size=34)[2][0].shift(1.5 * DOWN +  0.25 * LEFT)\n",
    "        self.play(Write(dyn))\n",
    "        self.wait(2)\n",
    "        l, o, r = dyn_ref[:1], dyn_ref[1:4], dyn_ref[4:]\n",
    "        self.play(AnimationGroup(\n",
    "            Write(l),\n",
    "            Transform(dyn, o),\n",
    "            Write(r),\n",
    "        ))\n",
    "        self.wait(2)\n",
    "        L, O, R = dyn_box[:4], dyn_box[4:7], dyn_box[7:]\n",
    "        self.play(AnimationGroup(\n",
    "            Transform(l, L),\n",
    "            Transform(dyn, O),\n",
    "            Transform(r, R),\n",
    "        ))\n",
    "        self.wait(2)\n",
    "        dyn = Group(l, dyn, r)\n",
    "        text = Text(\"Trait object\", font_size=34).shift(1.5 * DOWN)\n",
    "        self.play(Transform(dyn, text))\n",
    "        self.wait(4)\n",
    "        c = Circle(radius=1.5, color=WHITE, fill_color=WHITE, fill_opacity=.5)\n",
    "        circle = Circle(radius=0.3, color=WHITE).shift(0.3 * UL)\n",
    "        num_points = 20\n",
    "        angles = [n * (360 / num_points) for n in range(num_points)]\n",
    "        points = [circle.point_at_angle(n*DEGREES) for n in angles]\n",
    "        dots = [Circle(radius=0.01, color=WHITE, fill_opacity=1).move_to(p) for p in points]\n",
    "        # Add the circle to the scene\n",
    "        self.play(\n",
    "            AnimationGroup(\n",
    "                Transform(trait_object, c),\n",
    "                FadeOut(dyn),\n",
    "                AnimationGroup(Create(dot) for dot in dots),\n",
    "            )\n",
    "        )\n",
    "        self.wait(1)\n",
    "\n",
    "%manim -ql -v WARNING Convinced"
   ]
  },
  {
   "cell_type": "code",
   "execution_count": null,
   "id": "32073644-11d3-45af-9c30-f4737b8f2dd3",
   "metadata": {},
   "outputs": [],
   "source": []
  }
 ],
 "metadata": {
  "kernelspec": {
   "display_name": "Python 3 (ipykernel)",
   "language": "python",
   "name": "python3"
  },
  "language_info": {
   "codemirror_mode": {
    "name": "ipython",
    "version": 3
   },
   "file_extension": ".py",
   "mimetype": "text/x-python",
   "name": "python",
   "nbconvert_exporter": "python",
   "pygments_lexer": "ipython3",
   "version": "3.11.8"
  }
 },
 "nbformat": 4,
 "nbformat_minor": 5
}
