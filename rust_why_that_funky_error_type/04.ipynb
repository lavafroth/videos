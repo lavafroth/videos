{
 "cells": [
  {
   "cell_type": "code",
   "execution_count": 2,
   "id": "7cffcdee-22da-45eb-a3c8-2a04c5437e24",
   "metadata": {},
   "outputs": [],
   "source": [
    "from manim import *"
   ]
  },
  {
   "cell_type": "code",
   "execution_count": 6,
   "id": "95e15578-1d5a-4698-a3f8-50d658f17ea3",
   "metadata": {},
   "outputs": [
    {
     "data": {
      "text/html": [
       "<pre style=\"white-space:pre;overflow-x:auto;line-height:normal;font-family:Menlo,'DejaVu Sans Mono',consolas,'Courier New',monospace\">Manim Community <span style=\"color: #008000; text-decoration-color: #008000\">v0.18.0</span>\n",
       "\n",
       "</pre>\n"
      ],
      "text/plain": [
       "Manim Community \u001b[32mv0.\u001b[0m\u001b[32m18.0\u001b[0m\n",
       "\n"
      ]
     },
     "metadata": {},
     "output_type": "display_data"
    },
    {
     "name": "stderr",
     "output_type": "stream",
     "text": [
      "                                                                                          \r"
     ]
    },
    {
     "data": {
      "text/html": [
       "<video src=\"media/jupyter/Primitive@2024-04-25@12-19-01.mp4\" controls autoplay loop style=\"max-width: 60%;\"  >\n",
       "      Your browser does not support the <code>video</code> element.\n",
       "    </video>"
      ],
      "text/plain": [
       "<IPython.core.display.Video object>"
      ]
     },
     "metadata": {},
     "output_type": "display_data"
    }
   ],
   "source": [
    "def rustcode(code, *args, **kwargs):\n",
    "    return Code(code=code, language='rust', font_size=50)[2]\n",
    "\n",
    "def blue(code):\n",
    "    return Text(code, font_size=50, font='monospace', color=BLUE)\n",
    "\n",
    "class Primitive(Scene):\n",
    "    def construct(self):\n",
    "        text = blue('u8')\n",
    "        self.play(Write(text))\n",
    "        self.play(Transform(text, blue('bool')))\n",
    "        self.play(Transform(text,  blue('f64')))\n",
    "        self.play(Transform(text, blue('i64')))\n",
    "        self.wait(2)\n",
    "        rect = Rectangle(width=4.0, height=8.0, grid_ystep=1.0, color=BLUE).to_edge(LEFT).shift(9 * DOWN)\n",
    "        _rect = Rectangle(width=4.0, height=8.0, grid_ystep=1.0, color=BLUE).to_edge(LEFT).shift(2.5 * DOWN)\n",
    "        stack_label = Text(\"The stack\").move_to(_rect.get_center()+5.75 * UP)\n",
    "        self.play(AnimationGroup(\n",
    "            Transform(rect, _rect),\n",
    "            Write(stack_label),\n",
    "        ))\n",
    "        stack = Group(stack_label, rect)\n",
    "        push = Rectangle(width=4.0, height=1.0, color=BLUE, fill_color=BLUE, fill_opacity=0.8).move_to(text.get_center() + 2 * UP)\n",
    "        self.play(Transform(text, push))\n",
    "        _push = Rectangle(width=4.0, height=1.0, color=BLUE, fill_color=BLUE, fill_opacity=0.8).move_to(rect.get_center() + 4.5 * UP)\n",
    "        self.play(Transform(text, _push))\n",
    "        push = text\n",
    "        self.wait(2)\n",
    "\n",
    "        vec = rustcode('String').shift(0.75 * LEFT)\n",
    "        _vec = rustcode('Vec<u8>').shift(0.75 * LEFT)\n",
    "        self.play(Write(vec))\n",
    "        self.play(Transform(vec, _vec))\n",
    "        heap_block = Rectangle(width=4, height=1, color=TEAL_D, fill_color=TEAL_D, fill_opacity=0.3).move_to(vec.get_center())\n",
    "        self.play(Transform(vec, heap_block))\n",
    "        heap_block = Rectangle(width=1, height=1, color=TEAL_D, fill_color=TEAL_D, fill_opacity=0.3).move_to(vec.get_center())\n",
    "        self.play(Transform(vec, heap_block))\n",
    "        heap_block = Rectangle(width=2, height=3, color=TEAL_D, fill_color=TEAL_D, fill_opacity=0.3).move_to(vec.get_center())\n",
    "        self.play(Transform(vec, heap_block))\n",
    "        heap_block = Rectangle(width=4, height=1, color=TEAL_D, fill_color=TEAL_D, fill_opacity=0.3).move_to(vec.get_center())\n",
    "        self.play(Transform(vec, heap_block))\n",
    "        \n",
    "\n",
    "        heap_label = Text(\"The heap\").to_edge(UR).shift(0.75 * LEFT)\n",
    "        heapspace = Rectangle(width=8, height=10, color=TEAL_D, fill_color=TEAL_D, fill_opacity=0.5).to_edge(RIGHT).shift(3.25 * RIGHT)\n",
    "        self.play(AnimationGroup(\n",
    "            Create(heapspace),\n",
    "            Write(heap_label),\n",
    "        ))\n",
    "        \n",
    "\n",
    "        heap_block = Rectangle(width=4, height=1, color=TEAL_D, fill_color=TEAL_D, fill_opacity=0.3).to_edge(RIGHT).shift(.2 * LEFT)\n",
    "        pointer = Circle(radius=0.1, color=BLUE, fill_color=BLUE, fill_opacity=0.8).move_to(vec.get_center() + 0.25 * RIGHT).set_opacity(0)\n",
    "        _pointer = Circle(radius=0.25, color=BLUE, fill_color=BLUE, fill_opacity=0.8).move_to(vec.get_center() + 0.25 *RIGHT)\n",
    "        address = Text(\"address: 0xcafebabe\", font='monospace', font_size=20).move_to(_pointer.get_edge_center(DOWN) + 0.25 * DOWN)\n",
    "        arrow_end = heap_block.get_edge_center(LEFT) + .5 * RIGHT\n",
    "        arrow = Arrow(start=vec.get_center(), end=arrow_end)\n",
    "        self.play(AnimationGroup(\n",
    "            Transform(vec, heap_block),\n",
    "            Transform(pointer, _pointer),\n",
    "            Create(arrow),\n",
    "            Write(address),\n",
    "        ))\n",
    "\n",
    "        _push = Rectangle(width=4.0, height=1.0, color=BLUE, fill_color=BLUE, fill_opacity=0).move_to(rect.get_center() + 3.5 * UP)\n",
    "        self.play(AnimationGroup(\n",
    "            Transform(push, _push),\n",
    "            rect.animate.shift(DOWN)\n",
    "        ))\n",
    "        rect = Group(rect, push)\n",
    "        \n",
    "        push = Rectangle(width=4.0, height=1.0, color=BLUE, fill_color=BLUE, fill_opacity=0.8).move_to(rect.get_center() + 5 * UP)\n",
    "        _address = Text(\"0xcafebabe\", font='monospace', font_size=20).move_to(push.get_center())\n",
    "        _arrow = Arrow(start=push.get_center() + 0.25 * DOWN, end=arrow_end)\n",
    "        self.play(AnimationGroup(\n",
    "            Transform(pointer, push),\n",
    "            Transform(arrow, _arrow),\n",
    "            Transform(address, _address)\n",
    "        ))\n",
    "        self.wait(2)\n",
    "\n",
    "        pointer = Group(pointer, address)\n",
    "        _pointer = pointer.copy().shift(5 * DOWN)\n",
    "        _arrow = Arrow(start=_pointer.get_center() + RIGHT, end=arrow_end + 3 * DOWN)\n",
    "        self.play(AnimationGroup(\n",
    "            vec.animate.shift(3 * DOWN),\n",
    "            rect.animate.shift(5 * DOWN),\n",
    "            Transform(pointer, _pointer),\n",
    "            Transform(arrow, _arrow),\n",
    "        ))\n",
    "        \n",
    "        text = rustcode(\"Box<u8>\")[0].shift(LEFT)\n",
    "        u8 = text[4:6]\n",
    "        self.play(Write(u8))\n",
    "        _a = text[:4]\n",
    "        a = text[:4].copy().set_opacity(0).shift(0.2 * UP)\n",
    "        _b = text[6:]\n",
    "        b = text[6:].copy().set_opacity(0).shift(0.2 * UP)\n",
    "        self.play(AnimationGroup(\n",
    "            Transform(a, _a),\n",
    "            Transform(b, _b),\n",
    "        ))\n",
    "        text = Group(u8, a, b)\n",
    "        heap_block = Rectangle(width=4, height=1, color=TEAL_D, fill_color=TEAL_D, fill_opacity=0.3).to_edge(RIGHT).shift(.2 * LEFT)\n",
    "        pointer = Circle(radius=0.1, color=BLUE, fill_color=BLUE, fill_opacity=0.8).move_to(text.get_center() + 0.25 * RIGHT).set_opacity(0)\n",
    "        _pointer = Circle(radius=0.25, color=BLUE, fill_color=BLUE, fill_opacity=0.8).move_to(text.get_center() + 0.25 *RIGHT)\n",
    "        address = Text(\"address: 0xcafebd60\", font='monospace', font_size=20).move_to(_pointer.get_edge_center(DOWN) + 0.25 * DOWN)\n",
    "        arrow_end = heap_block.get_edge_center(LEFT) + .5 * RIGHT\n",
    "        arrow = Arrow(start=text.get_center(), end=arrow_end)\n",
    "        self.play(AnimationGroup(\n",
    "            Transform(text, heap_block),\n",
    "            Transform(pointer, _pointer),\n",
    "            Create(arrow),\n",
    "            Write(address),\n",
    "        ))\n",
    "        push = Rectangle(width=4.0, height=1.0, color=BLUE, fill_color=BLUE, fill_opacity=0.8).move_to(rect.get_center() + 6 * UP)\n",
    "        _address = Text(\"0xcafebd60\", font='monospace', font_size=20).move_to(push.get_center())\n",
    "        _arrow = Arrow(start=push.get_center() + 0.25 * DOWN + RIGHT, end=arrow_end)\n",
    "        self.play(AnimationGroup(\n",
    "            Transform(pointer, push),\n",
    "            Transform(arrow, _arrow),\n",
    "            Transform(address, _address)\n",
    "        ))\n",
    "        _arrow = Arrow(start=push.get_center() + RIGHT, end=arrow_end + 2 * DOWN)\n",
    "        self.play(AnimationGroup(\n",
    "            text.animate.shift(2 * DOWN),\n",
    "            Transform(arrow, _arrow),\n",
    "        ))\n",
    "        self.wait(4)\n",
    "\n",
    "%manim -ql -v WARNING Primitive"
   ]
  },
  {
   "cell_type": "code",
   "execution_count": null,
   "id": "a8c76ad2-8230-4960-afe3-e637e72384b4",
   "metadata": {},
   "outputs": [],
   "source": []
  }
 ],
 "metadata": {
  "kernelspec": {
   "display_name": "Python 3 (ipykernel)",
   "language": "python",
   "name": "python3"
  },
  "language_info": {
   "codemirror_mode": {
    "name": "ipython",
    "version": 3
   },
   "file_extension": ".py",
   "mimetype": "text/x-python",
   "name": "python",
   "nbconvert_exporter": "python",
   "pygments_lexer": "ipython3",
   "version": "3.11.8"
  }
 },
 "nbformat": 4,
 "nbformat_minor": 5
}
