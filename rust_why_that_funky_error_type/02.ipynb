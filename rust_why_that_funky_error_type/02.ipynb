{
 "cells": [
  {
   "cell_type": "code",
   "execution_count": 2,
   "id": "81bcafc1-103a-4122-b0d4-423523fe670a",
   "metadata": {},
   "outputs": [
    {
     "data": {
      "text/html": [
       "<pre style=\"white-space:pre;overflow-x:auto;line-height:normal;font-family:Menlo,'DejaVu Sans Mono',consolas,'Courier New',monospace\"><span style=\"color: #7fbfbf; text-decoration-color: #7fbfbf\">[04/29/24 03:11:08] </span><span style=\"color: #800000; text-decoration-color: #800000\">WARNING </span> Missing Plugins: <span style=\"font-weight: bold\">{</span><span style=\"color: #008000; text-decoration-color: #008000\">''</span><span style=\"font-weight: bold\">}</span>                                                   <a href=\"file:///usr/local/lib/python3.11/site-packages/manim/plugins/__init__.py\" target=\"_blank\"><span style=\"color: #7f7f7f; text-decoration-color: #7f7f7f\">__init__.py</span></a><span style=\"color: #7f7f7f; text-decoration-color: #7f7f7f\">:</span><a href=\"file:///usr/local/lib/python3.11/site-packages/manim/plugins/__init__.py#17\" target=\"_blank\"><span style=\"color: #7f7f7f; text-decoration-color: #7f7f7f\">17</span></a>\n",
       "</pre>\n"
      ],
      "text/plain": [
       "\u001b[2;36m[04/29/24 03:11:08]\u001b[0m\u001b[2;36m \u001b[0m\u001b[31mWARNING \u001b[0m Missing Plugins: \u001b[1m{\u001b[0m\u001b[32m''\u001b[0m\u001b[1m}\u001b[0m                                                   \u001b]8;id=113210;file:///usr/local/lib/python3.11/site-packages/manim/plugins/__init__.py\u001b\\\u001b[2m__init__.py\u001b[0m\u001b]8;;\u001b\\\u001b[2m:\u001b[0m\u001b]8;id=52771;file:///usr/local/lib/python3.11/site-packages/manim/plugins/__init__.py#17\u001b\\\u001b[2m17\u001b[0m\u001b]8;;\u001b\\\n"
      ]
     },
     "metadata": {},
     "output_type": "display_data"
    }
   ],
   "source": [
    "from manim import *"
   ]
  },
  {
   "cell_type": "code",
   "execution_count": 4,
   "id": "3b0835a9-e072-4320-88b6-cd0aa01675ac",
   "metadata": {
    "scrolled": true
   },
   "outputs": [
    {
     "data": {
      "text/html": [
       "<pre style=\"white-space:pre;overflow-x:auto;line-height:normal;font-family:Menlo,'DejaVu Sans Mono',consolas,'Courier New',monospace\">Manim Community <span style=\"color: #008000; text-decoration-color: #008000\">v0.18.0</span>\n",
       "\n",
       "</pre>\n"
      ],
      "text/plain": [
       "Manim Community \u001b[32mv0.\u001b[0m\u001b[32m18.0\u001b[0m\n",
       "\n"
      ]
     },
     "metadata": {},
     "output_type": "display_data"
    },
    {
     "name": "stderr",
     "output_type": "stream",
     "text": [
      "                                                                                                        \r"
     ]
    },
    {
     "data": {
      "text/html": [
       "<video src=\"media/jupyter/EnumBlock@2024-04-29@03-12-17.mp4\" controls autoplay loop style=\"max-width: 60%;\"  >\n",
       "      Your browser does not support the <code>video</code> element.\n",
       "    </video>"
      ],
      "text/plain": [
       "<IPython.core.display.Video object>"
      ]
     },
     "metadata": {},
     "output_type": "display_data"
    }
   ],
   "source": [
    "class EnumBlock(Scene):\n",
    "    def construct(self):\n",
    "        enum_def = Code(code=\"\"\"enum Result<T, E> {\n",
    "   Ok(T),\n",
    "   Err(E),\n",
    "}\"\"\", language='rust', font_size=40)[2]\n",
    "        self.add(enum_def)\n",
    "        self.play(enum_def.animate.set_opacity(0.5))\n",
    "        self.play(enum_def[1].animate.set_opacity(1))\n",
    "        self.wait(2)\n",
    "        self.play(\n",
    "            enum_def[1].animate.set_opacity(0.5),\n",
    "            enum_def[2].animate.set_opacity(1)\n",
    "        )\n",
    "        self.play(enum_def[2].animate.set_opacity(0.5))\n",
    "        self.wait(2)\n",
    "        self.play(enum_def.animate.set_opacity(1))\n",
    "        self.play(enum_def.animate.shift(3*LEFT).scale(0.75))\n",
    "        _function = Tex(\"$f$\", font_size=100).shift(3*RIGHT + 2 * UP)\n",
    "        function = _function.copy().shift(0.5 * DOWN).set_opacity(0)\n",
    "        self.play(Transform(function, _function))\n",
    "        arrow = Arrow(start=function.get_center() + 0.5 * DOWN, end=function.get_center() + 3.5 * DOWN) \n",
    "        self.play(Create(arrow))\n",
    "        success = Circle(color=GREEN, fill_color=TEAL_A, fill_opacity=0.8, radius=.5).shift(function.get_center() + 4 * DOWN)\n",
    "        self.play(Create(success))\n",
    "       \n",
    "        ok = enum_def[1][:-3].copy()\n",
    "        _ok = ok.copy().scale(2).move_to(success.get_center()+2 * RIGHT + 0.2 * UP)\n",
    "        ok_brace = enum_def[1][7].copy()\n",
    "        _ok_brace = ok_brace.copy().scale(2).move_to(success.get_center() + 0.75 * RIGHT)\n",
    "        self.play(\n",
    "            Transform(ok, _ok),\n",
    "            Transform(ok_brace, _ok_brace),\n",
    "        )\n",
    "        self.wait(2)\n",
    "        self.play(AnimationGroup(FadeOut(ok), FadeOut(ok_brace)))\n",
    "        success_overlay = success.copy().move_to(enum_def[1][-3].get_center()).scale(0.5).set_opacity(0)\n",
    "        T = enum_def[1][-3].copy().set_fill(GREEN)\n",
    "        T2 = enum_def[0][-7].copy().set_fill(GREEN)\n",
    "        self.play(AnimationGroup(\n",
    "            Transform(success, success_overlay),\n",
    "            Transform(enum_def[1][-3], T),\n",
    "            Transform(enum_def[0][-7], T2)\n",
    "        ), lag_ratio=0.3)\n",
    "        self.wait(2)\n",
    "\n",
    "        failure = Circle(color=RED, fill_color=RED, fill_opacity=0.8, radius=.5).shift(function.get_center() + 4 * DOWN)\n",
    "        self.play(Create(failure))\n",
    "        \n",
    "        ok = enum_def[2][:-3].copy()\n",
    "        _ok = ok.copy().scale(2).move_to(failure.get_center() + 1.1 * LEFT + 0.1 * UP)\n",
    "        ok_brace = enum_def[2][8].copy()\n",
    "        _ok_brace = ok_brace.copy().scale(2).move_to(failure.get_center() + 0.75 * RIGHT)\n",
    "        self.play(\n",
    "            Transform(ok, _ok),\n",
    "            Transform(ok_brace, _ok_brace)\n",
    "        )\n",
    "        self.wait(2)\n",
    "        self.play(FadeOut(ok), FadeOut(ok_brace))\n",
    "        success_overlay = failure.copy().move_to(enum_def[2][-3].get_center()).scale(0.5).set_opacity(0)\n",
    "        T = enum_def[2][-3].copy().set_fill(RED)\n",
    "        T2 = enum_def[0][-4].copy().set_fill(RED)\n",
    "        self.play(AnimationGroup(\n",
    "            Transform(failure, success_overlay),\n",
    "            Transform(enum_def[2][-3], T),\n",
    "            Transform(enum_def[0][-4], T2)\n",
    "        ), lag_ratio=0.3)\n",
    "        self.wait(2)\n",
    "        self.play(FadeOut(Group(function, arrow)))\n",
    "        self.wait(4)\n",
    "        ferris = SVGMobject('rustacean-flat-gesture').shift(3 * RIGHT)\n",
    "        self.play(FadeIn(ferris))\n",
    "\n",
    "        highlight = []\n",
    "        for t_or_e in (enum_def[2][-3], enum_def[0][-4], enum_def[0][-7], enum_def[1][-3]):\n",
    "            curve = ParametricFunction(lambda t: np.array([0, 0.1 * np.sin(PI * t), 0]), t_range=[0, 1]).move_to(t_or_e.get_center() + 0.05 * UP)\n",
    "            highlight.append(MoveAlongPath(t_or_e, curve))\n",
    "\n",
    "        self.play(highlight)\n",
    "        self.wait(2)\n",
    "        self.play(\n",
    "            FadeOut(ferris),\n",
    "            FadeOut(enum_def[0][:5]),\n",
    "            FadeOut(enum_def[0][-2:]),\n",
    "            FadeOut(enum_def[1:]),\n",
    "        )\n",
    "        result = enum_def[0][5:-2]\n",
    "        _result = Code(code=\"Result<T, Box<dyn std::error::Error>>\", language='rust', font_size=40)[2][0].shift(0.2 * LEFT)\n",
    "        self.play(\n",
    "            Transform(result[0:len('Result<T, ')], _result[0:len('Result<T, ')]),\n",
    "            Transform(result[-1], _result[-1]),\n",
    "            Transform(result[-2], _result[len('Result<T, '):len('Result<T, Box<dyn std::error::Error>')])\n",
    "        )\n",
    "        self.wait(2)\n",
    "%manim -ql -v WARNING EnumBlock"
   ]
  },
  {
   "cell_type": "code",
   "execution_count": null,
   "id": "4386af2a-7b6c-489f-9b8f-f7273c55c48c",
   "metadata": {},
   "outputs": [],
   "source": []
  }
 ],
 "metadata": {
  "kernelspec": {
   "display_name": "Python 3 (ipykernel)",
   "language": "python",
   "name": "python3"
  },
  "language_info": {
   "codemirror_mode": {
    "name": "ipython",
    "version": 3
   },
   "file_extension": ".py",
   "mimetype": "text/x-python",
   "name": "python",
   "nbconvert_exporter": "python",
   "pygments_lexer": "ipython3",
   "version": "3.11.8"
  }
 },
 "nbformat": 4,
 "nbformat_minor": 5
}
