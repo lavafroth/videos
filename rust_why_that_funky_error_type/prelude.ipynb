{
 "cells": [
  {
   "cell_type": "code",
   "execution_count": 1,
   "id": "8d0ec02e-1900-4448-9e66-7ba9fd87dd0d",
   "metadata": {},
   "outputs": [
    {
     "data": {
      "text/html": [
       "<pre style=\"white-space:pre;overflow-x:auto;line-height:normal;font-family:Menlo,'DejaVu Sans Mono',consolas,'Courier New',monospace\"><span style=\"color: #7fbfbf; text-decoration-color: #7fbfbf\">[04/27/24 05:00:48] </span><span style=\"color: #800000; text-decoration-color: #800000\">WARNING </span> Missing Plugins: <span style=\"font-weight: bold\">{</span><span style=\"color: #008000; text-decoration-color: #008000\">''</span><span style=\"font-weight: bold\">}</span>                                                   <a href=\"file:///usr/local/lib/python3.11/site-packages/manim/plugins/__init__.py\" target=\"_blank\"><span style=\"color: #7f7f7f; text-decoration-color: #7f7f7f\">__init__.py</span></a><span style=\"color: #7f7f7f; text-decoration-color: #7f7f7f\">:</span><a href=\"file:///usr/local/lib/python3.11/site-packages/manim/plugins/__init__.py#17\" target=\"_blank\"><span style=\"color: #7f7f7f; text-decoration-color: #7f7f7f\">17</span></a>\n",
       "</pre>\n"
      ],
      "text/plain": [
       "\u001b[2;36m[04/27/24 05:00:48]\u001b[0m\u001b[2;36m \u001b[0m\u001b[31mWARNING \u001b[0m Missing Plugins: \u001b[1m{\u001b[0m\u001b[32m''\u001b[0m\u001b[1m}\u001b[0m                                                   \u001b]8;id=251772;file:///usr/local/lib/python3.11/site-packages/manim/plugins/__init__.py\u001b\\\u001b[2m__init__.py\u001b[0m\u001b]8;;\u001b\\\u001b[2m:\u001b[0m\u001b]8;id=102243;file:///usr/local/lib/python3.11/site-packages/manim/plugins/__init__.py#17\u001b\\\u001b[2m17\u001b[0m\u001b]8;;\u001b\\\n"
      ]
     },
     "metadata": {},
     "output_type": "display_data"
    }
   ],
   "source": [
    "from manim import *"
   ]
  },
  {
   "cell_type": "code",
   "execution_count": 13,
   "id": "e0016eb4-948d-4fcb-8185-59fcf428b6ab",
   "metadata": {},
   "outputs": [
    {
     "data": {
      "text/html": [
       "<pre style=\"white-space:pre;overflow-x:auto;line-height:normal;font-family:Menlo,'DejaVu Sans Mono',consolas,'Courier New',monospace\">Manim Community <span style=\"color: #008000; text-decoration-color: #008000\">v0.18.0</span>\n",
       "\n",
       "</pre>\n"
      ],
      "text/plain": [
       "Manim Community \u001b[32mv0.\u001b[0m\u001b[32m18.0\u001b[0m\n",
       "\n"
      ]
     },
     "metadata": {},
     "output_type": "display_data"
    },
    {
     "name": "stderr",
     "output_type": "stream",
     "text": [
      "                                                                                      \r"
     ]
    },
    {
     "data": {
      "text/html": [
       "<video src=\"media/jupyter/Sc@2024-04-27@05-11-27.mp4\" controls autoplay loop style=\"max-width: 60%;\"  >\n",
       "      Your browser does not support the <code>video</code> element.\n",
       "    </video>"
      ],
      "text/plain": [
       "<IPython.core.display.Video object>"
      ]
     },
     "metadata": {},
     "output_type": "display_data"
    }
   ],
   "source": [
    "class Sc(Scene):\n",
    "    def construct(self):\n",
    "        uni = SVGMobject('university-svgrepo-com.svg', fill_color=BLUE, fill_opacity=0.8).shift(3* LEFT)\n",
    "        rust = SVGMobject('rustacean-flat-noshadow.svg').shift(3*RIGHT)\n",
    "        arrow = Arrow(start=2 * LEFT, end=1.6*RIGHT)\n",
    "        self.play(AnimationGroup(\n",
    "            Write(uni),\n",
    "            Create(arrow),\n",
    "            FadeIn(rust),\n",
    "            lag_ratio=0.8,\n",
    "        ))\n",
    "        self.wait(2)\n",
    "        dwaava = SVGMobject('java.svg').shift(2.5 * DOWN)\n",
    "        self.play(FadeIn(dwaava))\n",
    "        x_scale = 0.7\n",
    "        x = [\n",
    "            Line(start=x_scale * UR, end=x_scale * DL, stroke_width=5, color=RED).shift(2.5 * DOWN),\n",
    "            Line(start=x_scale * UL, end=x_scale * DR, stroke_width=5, color=RED).shift(2.5 * DOWN)\n",
    "        ]\n",
    "        for line in x:\n",
    "            self.play(Create(line), run_time=0.5)\n",
    "        self.wait(1)\n",
    "        self.play(FadeOut(y) for y in x + [dwaava])\n",
    "        self.wait(4)\n",
    "        self.play(FadeOut(y) for y in (uni, arrow, rust))\n",
    "\n",
    "%manim -ql -v WARNING Sc"
   ]
  },
  {
   "cell_type": "code",
   "execution_count": null,
   "id": "12ac3ed9-da49-4a26-bb7b-cb66acf875fa",
   "metadata": {},
   "outputs": [],
   "source": []
  }
 ],
 "metadata": {
  "kernelspec": {
   "display_name": "Python 3 (ipykernel)",
   "language": "python",
   "name": "python3"
  },
  "language_info": {
   "codemirror_mode": {
    "name": "ipython",
    "version": 3
   },
   "file_extension": ".py",
   "mimetype": "text/x-python",
   "name": "python",
   "nbconvert_exporter": "python",
   "pygments_lexer": "ipython3",
   "version": "3.11.8"
  }
 },
 "nbformat": 4,
 "nbformat_minor": 5
}
