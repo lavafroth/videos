{
 "cells": [
  {
   "cell_type": "code",
   "execution_count": 1,
   "id": "64284288-bff9-4e75-81ed-08ac0d6b9513",
   "metadata": {},
   "outputs": [],
   "source": [
    "from manim import *\n",
    "from custom import CodeTransformer"
   ]
  },
  {
   "cell_type": "code",
   "execution_count": 2,
   "id": "2007221b-9871-4c4b-8fd8-42121fbbbdae",
   "metadata": {},
   "outputs": [
    {
     "name": "stdout",
     "output_type": "stream",
     "text": [
      "Manim Community \u001b[32mv0.\u001b[0m\u001b[32m18.0\u001b[0m\n",
      "\n"
     ]
    },
    {
     "name": "stderr",
     "output_type": "stream",
     "text": [
      "                                                                                                              \r"
     ]
    },
    {
     "data": {
      "text/html": [
       "<video src=\"media/jupyter/OpeningScene@2024-04-29@03-17-08.mp4\" controls autoplay loop style=\"max-width: 60%;\"  >\n",
       "      Your browser does not support the <code>video</code> element.\n",
       "    </video>"
      ],
      "text/plain": [
       "<IPython.core.display.Video object>"
      ]
     },
     "metadata": {},
     "output_type": "display_data"
    }
   ],
   "source": [
    "def whitespace_indices(s: str) -> List[int]:\n",
    "    return [i for i, c in enumerate(s) if c.isspace()]\n",
    "\n",
    "class OpeningScene(Scene):\n",
    "    def construct(self):\n",
    "        t_0 = \"Result<T, Box<dyn std::error::Error>>\"\n",
    "        t_1 = \"Result<(), Box<dyn std::error::Error>>\"\n",
    "        t_2 = \"Result<i64, Box<dyn std::error::Error>>\"\n",
    "        t_3 = \"Result<f64, Box<dyn std::error::Error>>\"\n",
    "        t_4 = \" Box<dyn std::error::Error>\"\n",
    "        t_0_splits = [len('Result<'), len('Result<T'), len('Result<T, Box<dyn std::error::Error>')] + whitespace_indices(t_0)\n",
    "        t_1_splits = [len('Result<'), len('Result<()'), len('Result<(), Box<dyn std::error::Error>')] + whitespace_indices(t_1)\n",
    "        t_2_splits = [len('Result<'), len('Result<i64'), len('Result<i64, Box<dyn std::error::Error>')] + whitespace_indices(t_2)\n",
    "        t_3_splits = [len('Result<'), len('Result<i64'), len('Result<i64, Box<dyn std::error::Error>')] + whitespace_indices(t_3)\n",
    "        t_4_splits = whitespace_indices(t_4)\n",
    "        tfmr = CodeTransformer(t_0, t_0_splits, language='rust', font_size=40)\n",
    "        tfmr.ingest(t_1, t_1_splits,  language='rust', font_size=40)\n",
    "        for thing in tfmr.writables():\n",
    "            self.add(thing)\n",
    "        self.play(tfmr.unwrites())\n",
    "        self.play(tfmr.transforms())\n",
    "        self.play(tfmr.rewrites())\n",
    "        tfmr.ingest(t_2, t_2_splits, language='rust',  font_size=40)\n",
    "        self.play(tfmr.unwrites())\n",
    "        self.play(tfmr.transforms())\n",
    "        self.play(tfmr.rewrites())\n",
    "        \n",
    "        tfmr.ingest(t_3, t_3_splits, language='rust',  font_size=40)\n",
    "        self.play(tfmr.unwrites())\n",
    "        self.play(tfmr.transforms())\n",
    "        self.play(tfmr.rewrites())\n",
    "        \n",
    "        tfmr.ingest(t_0, t_0_splits, language='rust',  font_size=40)\n",
    "        self.play(tfmr.unwrites())\n",
    "        self.play(tfmr.transforms())\n",
    "        self.play(tfmr.rewrites())\n",
    "        self.wait(2)\n",
    "        \n",
    "        T = tfmr.post.chunks[1].chunk\n",
    "        def parametric_curve(t, scale=0.1):\n",
    "            return np.array([0, scale * np.sin(PI * t), 0])\n",
    "        curve = ParametricFunction(parametric_curve, t_range=[0, 1]).move_to(T.get_center() + 0.05 * UP)\n",
    "        self.play(MoveAlongPath(T, curve))\n",
    "        self.wait(2)\n",
    "\n",
    "        tfmr.ingest(t_4, t_4_splits, language='rust', font_size=40)\n",
    "        self.play(tfmr.unwrites())\n",
    "        self.play(tfmr.transforms())\n",
    "        self.wait(4)\n",
    "        self.play(\n",
    "            chunk.chunk.animate.shift(5 * UP) for chunk in tfmr.post.chunks\n",
    "        )\n",
    "%manim -ql -v WARNING OpeningScene"
   ]
  },
  {
   "cell_type": "code",
   "execution_count": null,
   "id": "e33917e8-96a2-44d8-aa89-e58814d51e56",
   "metadata": {},
   "outputs": [],
   "source": []
  }
 ],
 "metadata": {
  "kernelspec": {
   "display_name": "Python 3 (ipykernel)",
   "language": "python",
   "name": "python3"
  },
  "language_info": {
   "codemirror_mode": {
    "name": "ipython",
    "version": 3
   },
   "file_extension": ".py",
   "mimetype": "text/x-python",
   "name": "python",
   "nbconvert_exporter": "python",
   "pygments_lexer": "ipython3",
   "version": "3.11.8"
  }
 },
 "nbformat": 4,
 "nbformat_minor": 5
}
