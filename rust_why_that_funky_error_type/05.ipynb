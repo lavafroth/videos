{
 "cells": [
  {
   "cell_type": "code",
   "execution_count": 1,
   "id": "56263721-9869-4f2f-82c1-d3c81f0940f0",
   "metadata": {},
   "outputs": [
    {
     "data": {
      "text/html": [
       "<pre style=\"white-space:pre;overflow-x:auto;line-height:normal;font-family:Menlo,'DejaVu Sans Mono',consolas,'Courier New',monospace\"><span style=\"color: #7fbfbf; text-decoration-color: #7fbfbf\">[04/25/24 02:18:34] </span><span style=\"color: #800000; text-decoration-color: #800000\">WARNING </span> Missing Plugins: <span style=\"font-weight: bold\">{</span><span style=\"color: #008000; text-decoration-color: #008000\">''</span><span style=\"font-weight: bold\">}</span>                                                   <a href=\"file:///usr/local/lib/python3.11/site-packages/manim/plugins/__init__.py\" target=\"_blank\"><span style=\"color: #7f7f7f; text-decoration-color: #7f7f7f\">__init__.py</span></a><span style=\"color: #7f7f7f; text-decoration-color: #7f7f7f\">:</span><a href=\"file:///usr/local/lib/python3.11/site-packages/manim/plugins/__init__.py#17\" target=\"_blank\"><span style=\"color: #7f7f7f; text-decoration-color: #7f7f7f\">17</span></a>\n",
       "</pre>\n"
      ],
      "text/plain": [
       "\u001b[2;36m[04/25/24 02:18:34]\u001b[0m\u001b[2;36m \u001b[0m\u001b[31mWARNING \u001b[0m Missing Plugins: \u001b[1m{\u001b[0m\u001b[32m''\u001b[0m\u001b[1m}\u001b[0m                                                   \u001b]8;id=792891;file:///usr/local/lib/python3.11/site-packages/manim/plugins/__init__.py\u001b\\\u001b[2m__init__.py\u001b[0m\u001b]8;;\u001b\\\u001b[2m:\u001b[0m\u001b]8;id=836137;file:///usr/local/lib/python3.11/site-packages/manim/plugins/__init__.py#17\u001b\\\u001b[2m17\u001b[0m\u001b]8;;\u001b\\\n"
      ]
     },
     "metadata": {},
     "output_type": "display_data"
    }
   ],
   "source": [
    "from manim import *"
   ]
  },
  {
   "cell_type": "code",
   "execution_count": 44,
   "id": "b9735fe4-cc69-4dd2-b617-0e26ea0f65e0",
   "metadata": {},
   "outputs": [
    {
     "data": {
      "text/html": [
       "<pre style=\"white-space:pre;overflow-x:auto;line-height:normal;font-family:Menlo,'DejaVu Sans Mono',consolas,'Courier New',monospace\">Manim Community <span style=\"color: #008000; text-decoration-color: #008000\">v0.18.0</span>\n",
       "\n",
       "</pre>\n"
      ],
      "text/plain": [
       "Manim Community \u001b[32mv0.\u001b[0m\u001b[32m18.0\u001b[0m\n",
       "\n"
      ]
     },
     "metadata": {},
     "output_type": "display_data"
    },
    {
     "name": "stderr",
     "output_type": "stream",
     "text": [
      "                                                                                                  \r"
     ]
    },
    {
     "data": {
      "text/html": [
       "<video src=\"media/jupyter/ErrorSizes@2024-04-25@03-02-37.mp4\" controls autoplay loop style=\"max-width: 60%;\"  >\n",
       "      Your browser does not support the <code>video</code> element.\n",
       "    </video>"
      ],
      "text/plain": [
       "<IPython.core.display.Video object>"
      ]
     },
     "metadata": {},
     "output_type": "display_data"
    }
   ],
   "source": [
    "class ErrorSizes(Scene):\n",
    "    def construct(self):\n",
    "        box = Code(code=' Box<dyn std::error::Error>', language='rust', font_size=40)[2][0]\n",
    "        self.play(FadeIn(box))\n",
    "        self.wait(2)\n",
    "        dyn_error = box[len(' Box<'):-1]\n",
    "        pos = box[len(' Box<')].get_center()\n",
    "        closing = box[-1]\n",
    "        rect = Rectangle(width=7, height=1, color=TEAL_D, fill_color=TEAL_D, fill_opacity=0.8).move_to(pos + 3.5 * RIGHT)\n",
    "        self.play(Transform(dyn_error, rect))\n",
    "        rect = Rectangle(width=4, height=1, color=TEAL_D, fill_color=TEAL_D, fill_opacity=0.8).move_to(pos + 2 * RIGHT)\n",
    "        self.play(AnimationGroup(\n",
    "            Transform(dyn_error, rect),\n",
    "            closing.animate.shift(3 * LEFT),\n",
    "        ))\n",
    "        rect = Rectangle(width=1, height=1, color=TEAL_D, fill_color=TEAL_D, fill_opacity=0.8).move_to(pos + 0.5 * RIGHT)\n",
    "        self.play(AnimationGroup(\n",
    "            Transform(dyn_error, rect),\n",
    "            closing.animate.shift(3 * LEFT),\n",
    "        ))\n",
    "        rect = Rectangle(width=7, height=1, color=TEAL_D, fill_color=TEAL_D, fill_opacity=0.8).move_to(pos + 3.5 * RIGHT)\n",
    "        self.play(AnimationGroup(\n",
    "            Transform(dyn_error, rect),\n",
    "            closing.animate.shift(6 * RIGHT),\n",
    "        ))\n",
    "        ferris = SVGMobject('rustacean-flat-gesture').rotate(0.8 * PI).to_edge(UR).shift(0.5 * (UP + RIGHT))\n",
    "        self.play(FadeIn(ferris))\n",
    "        self.wait(2)\n",
    "        rect = Rectangle(width=4, height=1, color=TEAL_D, fill_color=TEAL_D, fill_opacity=0.8).shift(2 * (DL))\n",
    "        self.play(Transform(dyn_error, rect))\n",
    "        not_equals = Tex(r\"$\\neq$\", font_size=40).shift(2 * DOWN + 0.75 * RIGHT)\n",
    "        struct = Code(code=\"struct\", language='rust', font_size=40)[2][0].shift( 2* DOWN + 2 * RIGHT)\n",
    "        self.play(AnimationGroup(\n",
    "            Write(not_equals),\n",
    "            Write(struct),\n",
    "        ))\n",
    "        self.wait(2)\n",
    "        self.play(FadeOut(Group(not_equals, struct)))\n",
    "        link = SVGMobject('link-24.svg', fill_color=TEAL_D, color=TEAL_D, fill_opacity=0.8).rotate(-0.25*PI).scale(0.75).shift(.75 * RIGHT)\n",
    "        self.play(Transform(dyn_error, link))\n",
    "        self.wait(4)\n",
    "        box = Code(code=' Box<dyn std::error::Error>', language='rust', font_size=40)[2][0]\n",
    "        _dyn_error = box[len(' Box<'):-1]\n",
    "        self.play(AnimationGroup(\n",
    "            Transform(dyn_error, _dyn_error),\n",
    "            FadeOut(ferris),\n",
    "        ))\n",
    "        self.wait(4)\n",
    "%manim -ql -v WARNING ErrorSizes"
   ]
  },
  {
   "cell_type": "code",
   "execution_count": null,
   "id": "8fcac3e5-3456-44f4-a48f-37a1585cd893",
   "metadata": {},
   "outputs": [],
   "source": []
  }
 ],
 "metadata": {
  "kernelspec": {
   "display_name": "Python 3 (ipykernel)",
   "language": "python",
   "name": "python3"
  },
  "language_info": {
   "codemirror_mode": {
    "name": "ipython",
    "version": 3
   },
   "file_extension": ".py",
   "mimetype": "text/x-python",
   "name": "python",
   "nbconvert_exporter": "python",
   "pygments_lexer": "ipython3",
   "version": "3.11.8"
  }
 },
 "nbformat": 4,
 "nbformat_minor": 5
}
