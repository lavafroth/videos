{
 "cells": [
  {
   "cell_type": "code",
   "execution_count": 1,
   "id": "f3f0f442-6fe3-49f6-807b-31ed54b25acb",
   "metadata": {},
   "outputs": [
    {
     "data": {
      "text/html": [
       "<pre style=\"white-space:pre;overflow-x:auto;line-height:normal;font-family:Menlo,'DejaVu Sans Mono',consolas,'Courier New',monospace\"><span style=\"color: #7fbfbf; text-decoration-color: #7fbfbf\">[04/25/24 12:31:12] </span><span style=\"color: #800000; text-decoration-color: #800000\">WARNING </span> Missing Plugins: <span style=\"font-weight: bold\">{</span><span style=\"color: #008000; text-decoration-color: #008000\">''</span><span style=\"font-weight: bold\">}</span>                                                   <a href=\"file:///usr/local/lib/python3.11/site-packages/manim/plugins/__init__.py\" target=\"_blank\"><span style=\"color: #7f7f7f; text-decoration-color: #7f7f7f\">__init__.py</span></a><span style=\"color: #7f7f7f; text-decoration-color: #7f7f7f\">:</span><a href=\"file:///usr/local/lib/python3.11/site-packages/manim/plugins/__init__.py#17\" target=\"_blank\"><span style=\"color: #7f7f7f; text-decoration-color: #7f7f7f\">17</span></a>\n",
       "</pre>\n"
      ],
      "text/plain": [
       "\u001b[2;36m[04/25/24 12:31:12]\u001b[0m\u001b[2;36m \u001b[0m\u001b[31mWARNING \u001b[0m Missing Plugins: \u001b[1m{\u001b[0m\u001b[32m''\u001b[0m\u001b[1m}\u001b[0m                                                   \u001b]8;id=690796;file:///usr/local/lib/python3.11/site-packages/manim/plugins/__init__.py\u001b\\\u001b[2m__init__.py\u001b[0m\u001b]8;;\u001b\\\u001b[2m:\u001b[0m\u001b]8;id=41063;file:///usr/local/lib/python3.11/site-packages/manim/plugins/__init__.py#17\u001b\\\u001b[2m17\u001b[0m\u001b]8;;\u001b\\\n"
      ]
     },
     "metadata": {},
     "output_type": "display_data"
    }
   ],
   "source": [
    "from manim import *"
   ]
  },
  {
   "cell_type": "code",
   "execution_count": null,
   "id": "265aa05c-2f8d-4502-9e7e-33c24ee4501b",
   "metadata": {},
   "outputs": [
    {
     "data": {
      "text/html": [
       "<pre style=\"white-space:pre;overflow-x:auto;line-height:normal;font-family:Menlo,'DejaVu Sans Mono',consolas,'Courier New',monospace\">Manim Community <span style=\"color: #008000; text-decoration-color: #008000\">v0.18.0</span>\n",
       "\n",
       "</pre>\n"
      ],
      "text/plain": [
       "Manim Community \u001b[32mv0.\u001b[0m\u001b[32m18.0\u001b[0m\n",
       "\n"
      ]
     },
     "metadata": {},
     "output_type": "display_data"
    },
    {
     "name": "stderr",
     "output_type": "stream",
     "text": [
      "                                                                         "
     ]
    }
   ],
   "source": [
    "class Convinced(Scene):\n",
    "    def construct(self):\n",
    "        ferris_thinking = SVGMobject('rustacean-flat-gesture.svg').shift(3 * LEFT)\n",
    "        reject = SVGMobject('1faf8.svg').scale(0.5).shift(0.5 * RIGHT)\n",
    "        _reject = reject.copy().set_opacity(0).shift(0.5 * LEFT)\n",
    "        code = Code(code='struct', language='rust', font_size=40)[2][0].shift(3*RIGHT)\n",
    "        self.play(AnimationGroup(\n",
    "            FadeIn(ferris_thinking),\n",
    "            Write(code),\n",
    "        ))\n",
    "        self.play(Transform(_reject, reject))\n",
    "        self.wait(2)\n",
    "        self.play(FadeOut(_reject, code))\n",
    "        _reject = SVGMobject('261d.svg').scale(0.5).shift(2 * LEFT).rotate(PI, axis=np.array([0, 1, 0])).rotate(-0.2*PI)\n",
    "        reject = _reject.copy().set_opacity(0).shift(0.5 * LEFT)\n",
    "        code = Code(code='&dyn std::error::Error', language='rust', font_size=40)[2][0].shift(2.5*RIGHT)\n",
    "        self.play(AnimationGroup(\n",
    "            ferris_thinking.animate.shift(2*LEFT),\n",
    "            Transform(reject, _reject),\n",
    "            Write(code),\n",
    "        ))\n",
    "        self.wait(2)\n",
    "\n",
    "        heap_label = Text(\"The heap\").to_edge(UR).shift(0.75 * LEFT)\n",
    "        heapspace = Rectangle(width=8, height=10, color=TEAL_D, fill_color=TEAL_D, fill_opacity=0.5).to_edge(RIGHT).shift(3.25 * RIGHT)\n",
    "        heap_blocks = Rectangle(width=4, height=2, grid_ystep=1.0, color=TEAL_D, fill_color=TEAL_D, fill_opacity=0.3).to_edge(DR)\n",
    "        heap = Group(heapspace, heap_blocks, heap_label)\n",
    "        anims = AnimationGroup(\n",
    "            FadeIn(heap),\n",
    "            FadeOut(reject),\n",
    "            code.animate.shift(5.5 * LEFT),\n",
    "            FadeOut(ferris_thinking),\n",
    "        )\n",
    "        self.play(anims)\n",
    "        self.wait(2)\n",
    "\n",
    "        heap_block = Rectangle(width=4, height=1, color=TEAL_D, fill_color=TEAL_D, fill_opacity=0.3).to_edge(RIGHT)\n",
    "        pointer = Circle(radius=0.1, color=BLUE, fill_color=BLUE, fill_opacity=0.8).move_to(code.get_center() + 0.25 * RIGHT).set_opacity(0)\n",
    "        _pointer = Circle(radius=0.25, color=BLUE, fill_color=BLUE, fill_opacity=0.8).move_to(code.get_center() + 0.25 *RIGHT)\n",
    "        address = Text(\"address: 0xcafec0c0\", font='monospace', font_size=20).move_to(_pointer.get_edge_center(DOWN) + 0.25 * DOWN)\n",
    "        arrow_end = heap_block.get_edge_center(LEFT) + .5 * RIGHT\n",
    "        arrow = Arrow(start=code.get_center(), end=arrow_end)\n",
    "        self.play(AnimationGroup(\n",
    "            Transform(code, heap_block),\n",
    "            Transform(pointer, _pointer),\n",
    "            Create(arrow),\n",
    "            Write(address),\n",
    "        ))\n",
    "        self.wait(2)\n",
    "\n",
    "        for displacement in (2 * UL, 4 * DOWN, 3 * RIGHT + UP):\n",
    "            _pointer = pointer.copy().shift(displacement)\n",
    "            _address = Text(\"address: 0xcafec0c0\", font='monospace', font_size=20).move_to(_pointer.get_edge_center(DOWN) + 0.25 * DOWN)\n",
    "            _arrow = Arrow(start=_pointer.get_center() + 0.25 * LEFT, end=arrow_end)\n",
    "            self.play(AnimationGroup(\n",
    "                Transform(pointer, _pointer),\n",
    "                Transform(arrow, _arrow),\n",
    "                Transform(address, _address),\n",
    "            ))\n",
    "        self.wait(2)\n",
    "        self.play(AnimationGroup(\n",
    "            FadeOut(pointer),\n",
    "            FadeOut(address),\n",
    "            FadeOut(arrow),\n",
    "            FadeOut(heap),\n",
    "            FadeOut(code),\n",
    "        ))\n",
    "        self.wait(2)\n",
    "        \n",
    "\n",
    "%manim -ql -v WARNING Convinced"
   ]
  },
  {
   "cell_type": "code",
   "execution_count": null,
   "id": "f9552c23-3b6b-44bc-935f-1826921be25a",
   "metadata": {},
   "outputs": [],
   "source": []
  }
 ],
 "metadata": {
  "kernelspec": {
   "display_name": "Python 3 (ipykernel)",
   "language": "python",
   "name": "python3"
  },
  "language_info": {
   "codemirror_mode": {
    "name": "ipython",
    "version": 3
   },
   "file_extension": ".py",
   "mimetype": "text/x-python",
   "name": "python",
   "nbconvert_exporter": "python",
   "pygments_lexer": "ipython3",
   "version": "3.11.8"
  }
 },
 "nbformat": 4,
 "nbformat_minor": 5
}
