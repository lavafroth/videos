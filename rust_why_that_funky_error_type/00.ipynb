{
 "cells": [
  {
   "cell_type": "code",
   "execution_count": 1,
   "id": "f98257c4-7d5b-47cb-8eb9-d1c9f2eadd2b",
   "metadata": {
    "scrolled": true
   },
   "outputs": [
    {
     "data": {
      "text/html": [
       "<pre style=\"white-space:pre;overflow-x:auto;line-height:normal;font-family:Menlo,'DejaVu Sans Mono',consolas,'Courier New',monospace\"><span style=\"color: #7fbfbf; text-decoration-color: #7fbfbf\">[04/29/24 03:01:33] </span><span style=\"color: #800000; text-decoration-color: #800000\">WARNING </span> Missing Plugins: <span style=\"font-weight: bold\">{</span><span style=\"color: #008000; text-decoration-color: #008000\">''</span><span style=\"font-weight: bold\">}</span>                                                   <a href=\"file:///usr/local/lib/python3.11/site-packages/manim/plugins/__init__.py\" target=\"_blank\"><span style=\"color: #7f7f7f; text-decoration-color: #7f7f7f\">__init__.py</span></a><span style=\"color: #7f7f7f; text-decoration-color: #7f7f7f\">:</span><a href=\"file:///usr/local/lib/python3.11/site-packages/manim/plugins/__init__.py#17\" target=\"_blank\"><span style=\"color: #7f7f7f; text-decoration-color: #7f7f7f\">17</span></a>\n",
       "</pre>\n"
      ],
      "text/plain": [
       "\u001b[2;36m[04/29/24 03:01:33]\u001b[0m\u001b[2;36m \u001b[0m\u001b[31mWARNING \u001b[0m Missing Plugins: \u001b[1m{\u001b[0m\u001b[32m''\u001b[0m\u001b[1m}\u001b[0m                                                   \u001b]8;id=287495;file:///usr/local/lib/python3.11/site-packages/manim/plugins/__init__.py\u001b\\\u001b[2m__init__.py\u001b[0m\u001b]8;;\u001b\\\u001b[2m:\u001b[0m\u001b]8;id=440628;file:///usr/local/lib/python3.11/site-packages/manim/plugins/__init__.py#17\u001b\\\u001b[2m17\u001b[0m\u001b]8;;\u001b\\\n"
      ]
     },
     "metadata": {},
     "output_type": "display_data"
    }
   ],
   "source": [
    "from manim import *\n",
    "from custom import *\n",
    "from typing import List"
   ]
  },
  {
   "cell_type": "code",
   "execution_count": null,
   "id": "34a9daaa-8dd0-4cf6-8ade-5dbd1253a83c",
   "metadata": {},
   "outputs": [
    {
     "data": {
      "text/html": [
       "<pre style=\"white-space:pre;overflow-x:auto;line-height:normal;font-family:Menlo,'DejaVu Sans Mono',consolas,'Courier New',monospace\">Manim Community <span style=\"color: #008000; text-decoration-color: #008000\">v0.18.0</span>\n",
       "\n",
       "</pre>\n"
      ],
      "text/plain": [
       "Manim Community \u001b[32mv0.\u001b[0m\u001b[32m18.0\u001b[0m\n",
       "\n"
      ]
     },
     "metadata": {},
     "output_type": "display_data"
    },
    {
     "name": "stderr",
     "output_type": "stream",
     "text": [
      "                                                                         \r"
     ]
    }
   ],
   "source": [
    "def whitespace_indices(s: str) -> List[int]:\n",
    "    return [i for i, c in enumerate(s) if c.isspace()]\n",
    "\n",
    "class OpeningScene(Scene):\n",
    "    def construct(self):\n",
    "        code = \"Result<T, Box<dyn std::error::Error>>\"\n",
    "        splits = [len('Result<'), len('Result<T'), len('Result<T, Box<dyn std::error::Error>')] + whitespace_indices(code)\n",
    "        tfmr = CodeTransformer(code, splits, language='rust')\n",
    "        \n",
    "        code = \"\"\"fn main() -> Result<(), Box<dyn std::error::Error>> {\n",
    "    let file = std::fs::File::open(\"meaning_of_life.txt\")?;\n",
    "    let mut contents = String::new();\n",
    "    file.read_to_string(&mut contents)?;\n",
    "    let number: u16 = contents.parse()?;\n",
    "    println!(\"{}\", number + 27);\n",
    "}\"\"\"\n",
    "        \n",
    "        splits = [\n",
    "            len('fn main() -> '),\n",
    "            len('fn main() -> Result<'),\n",
    "            len('fn main() -> Result<()'),\n",
    "            len('fn main() -> Result<(), Box<dyn std::error::Error>')\n",
    "         ] + whitespace_indices(code)\n",
    "        \n",
    "        tfmr.ingest(code, splits, language='rust')\n",
    "        self.play(tfmr.writes())\n",
    "        self.wait(2)\n",
    "        self.play(tfmr.unwrites())\n",
    "        self.play(tfmr.transforms())\n",
    "        self.play(tfmr.rewrites())\n",
    "        self.wait(4)\n",
    "        \n",
    "        code = \"Result<T, E>\"\n",
    "        splits = [len('Result<'), len('Result<T'),len('Result<T, E')] + whitespace_indices(code)\n",
    "        tfmr.ingest(code, splits, language='rust')\n",
    "        \n",
    "        self.play(FadeOut(x) for x in tfmr.unwritables())\n",
    "        self.play(tfmr.transforms())\n",
    "        self.play(tfmr.rewrites())\n",
    "        self.wait(2)\n",
    "\n",
    "        # A little hack: set the old chunks to invisible ...\n",
    "        for chunk in tfmr.post.chunks:\n",
    "            chunk.chunk.set_opacity(0)\n",
    "        code = Code(code=code, language='rust')[2]\n",
    "        # ... and add the unprocessed code object\n",
    "        # classic switcheroo\n",
    "        self.add(code)\n",
    "        _code = code.copy().shift(3 * UP).scale(1.5)\n",
    "        self.play(Transform(code, _code))\n",
    "        self.wait(3)\n",
    "        text = Text(\"enumerable\", font_size=50)\n",
    "        _text = Text(\"enum\", font_size=50, font='monospace')\n",
    "        self.play(Write(text))\n",
    "        self.wait(2)\n",
    "        tfm = AnimationGroup(FadeOut(text[4:]), Transform(text[:4], _text))\n",
    "        self.play(tfm)\n",
    "        self.wait(4)\n",
    "%manim -ql -v WARNING OpeningScene"
   ]
  },
  {
   "cell_type": "code",
   "execution_count": null,
   "id": "ad0fa14f-eea2-45b4-9ac3-e946d9e72d29",
   "metadata": {},
   "outputs": [],
   "source": []
  }
 ],
 "metadata": {
  "kernelspec": {
   "display_name": "Python 3 (ipykernel)",
   "language": "python",
   "name": "python3"
  },
  "language_info": {
   "codemirror_mode": {
    "name": "ipython",
    "version": 3
   },
   "file_extension": ".py",
   "mimetype": "text/x-python",
   "name": "python",
   "nbconvert_exporter": "python",
   "pygments_lexer": "ipython3",
   "version": "3.11.8"
  }
 },
 "nbformat": 4,
 "nbformat_minor": 5
}
