{
 "cells": [
  {
   "cell_type": "code",
   "execution_count": 2,
   "id": "8851f313-127b-4184-87b3-087d425ca4d1",
   "metadata": {},
   "outputs": [
    {
     "data": {
      "text/html": [
       "<pre style=\"white-space:pre;overflow-x:auto;line-height:normal;font-family:Menlo,'DejaVu Sans Mono',consolas,'Courier New',monospace\"><span style=\"color: #7fbfbf; text-decoration-color: #7fbfbf\">[04/26/24 13:19:22] </span><span style=\"color: #800000; text-decoration-color: #800000\">WARNING </span> Missing Plugins: <span style=\"font-weight: bold\">{</span><span style=\"color: #008000; text-decoration-color: #008000\">''</span><span style=\"font-weight: bold\">}</span>                                                   <a href=\"file:///usr/local/lib/python3.11/site-packages/manim/plugins/__init__.py\" target=\"_blank\"><span style=\"color: #7f7f7f; text-decoration-color: #7f7f7f\">__init__.py</span></a><span style=\"color: #7f7f7f; text-decoration-color: #7f7f7f\">:</span><a href=\"file:///usr/local/lib/python3.11/site-packages/manim/plugins/__init__.py#17\" target=\"_blank\"><span style=\"color: #7f7f7f; text-decoration-color: #7f7f7f\">17</span></a>\n",
       "</pre>\n"
      ],
      "text/plain": [
       "\u001b[2;36m[04/26/24 13:19:22]\u001b[0m\u001b[2;36m \u001b[0m\u001b[31mWARNING \u001b[0m Missing Plugins: \u001b[1m{\u001b[0m\u001b[32m''\u001b[0m\u001b[1m}\u001b[0m                                                   \u001b]8;id=10886;file:///usr/local/lib/python3.11/site-packages/manim/plugins/__init__.py\u001b\\\u001b[2m__init__.py\u001b[0m\u001b]8;;\u001b\\\u001b[2m:\u001b[0m\u001b]8;id=250010;file:///usr/local/lib/python3.11/site-packages/manim/plugins/__init__.py#17\u001b\\\u001b[2m17\u001b[0m\u001b]8;;\u001b\\\n"
      ]
     },
     "metadata": {},
     "output_type": "display_data"
    }
   ],
   "source": [
    "from manim import *"
   ]
  },
  {
   "cell_type": "code",
   "execution_count": 5,
   "id": "45a023df-39c2-4279-b34a-4ffd0d75cd10",
   "metadata": {},
   "outputs": [
    {
     "data": {
      "text/html": [
       "<pre style=\"white-space:pre;overflow-x:auto;line-height:normal;font-family:Menlo,'DejaVu Sans Mono',consolas,'Courier New',monospace\">Manim Community <span style=\"color: #008000; text-decoration-color: #008000\">v0.18.0</span>\n",
       "\n",
       "</pre>\n"
      ],
      "text/plain": [
       "Manim Community \u001b[32mv0.\u001b[0m\u001b[32m18.0\u001b[0m\n",
       "\n"
      ]
     },
     "metadata": {},
     "output_type": "display_data"
    },
    {
     "name": "stderr",
     "output_type": "stream",
     "text": [
      "                                                                                           \r"
     ]
    },
    {
     "data": {
      "text/html": [
       "<video src=\"media/jupyter/Eleven@2024-04-26@13-22-48.mp4\" controls autoplay loop style=\"max-width: 60%;\"  >\n",
       "      Your browser does not support the <code>video</code> element.\n",
       "    </video>"
      ],
      "text/plain": [
       "<IPython.core.display.Video object>"
      ]
     },
     "metadata": {},
     "output_type": "display_data"
    }
   ],
   "source": [
    "class Eleven(Scene):\n",
    "    def construct(self):\n",
    "        c = Circle(radius=1.5, color=WHITE, fill_color=WHITE, fill_opacity=1)\n",
    "        self.play(c.animate.shift(2 * LEFT))\n",
    "        rect = RoundedRectangle(width=3, height=1, corner_radius=0.2, fill_opacity=0.3).shift(2 * RIGHT)\n",
    "        line = Line(start=0.5 * LEFT, end=0.5*RIGHT, color=WHITE)\n",
    "        fmt = Text('fmt(...)', font='monospace', font_size=26).move_to(rect.get_center())\n",
    "        access = Code(code='let error_string = format!(trait_object);', language='rust', font_size=26)[2].shift(2.5 * DOWN)\n",
    "        curved_arrow = CurvedArrow(start_point=access.get_edge_center(RIGHT) + 0.25 * RIGHT, end_point=rect.get_edge_center(RIGHT), angle=PI)\n",
    "        self.play(Write(access), AnimationGroup(Create(line), Create(rect), Write(fmt), lag_ratio=0.8))\n",
    "        self.play(Create(curved_arrow))\n",
    "        self.wait(2)\n",
    "        self.play(FadeOut(x) for x in (c, rect, line, curved_arrow, access, fmt))\n",
    "        self.wait(1)\n",
    "\n",
    "%manim -ql -v WARNING Eleven"
   ]
  },
  {
   "cell_type": "code",
   "execution_count": null,
   "id": "3cfa4c05-7215-4d9d-bb76-dd437faaa071",
   "metadata": {},
   "outputs": [],
   "source": []
  }
 ],
 "metadata": {
  "kernelspec": {
   "display_name": "Python 3 (ipykernel)",
   "language": "python",
   "name": "python3"
  },
  "language_info": {
   "codemirror_mode": {
    "name": "ipython",
    "version": 3
   },
   "file_extension": ".py",
   "mimetype": "text/x-python",
   "name": "python",
   "nbconvert_exporter": "python",
   "pygments_lexer": "ipython3",
   "version": "3.11.8"
  }
 },
 "nbformat": 4,
 "nbformat_minor": 5
}
