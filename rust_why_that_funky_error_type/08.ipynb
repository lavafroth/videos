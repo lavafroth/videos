{
 "cells": [
  {
   "cell_type": "code",
   "execution_count": 2,
   "id": "b37f118d-42a1-41d0-9383-dabc5cb7c85b",
   "metadata": {},
   "outputs": [
    {
     "data": {
      "text/html": [
       "<pre style=\"white-space:pre;overflow-x:auto;line-height:normal;font-family:Menlo,'DejaVu Sans Mono',consolas,'Courier New',monospace\"><span style=\"color: #7fbfbf; text-decoration-color: #7fbfbf\">[04/25/24 14:14:33] </span><span style=\"color: #800000; text-decoration-color: #800000\">WARNING </span> Missing Plugins: <span style=\"font-weight: bold\">{</span><span style=\"color: #008000; text-decoration-color: #008000\">''</span><span style=\"font-weight: bold\">}</span>                                                   <a href=\"file:///usr/local/lib/python3.11/site-packages/manim/plugins/__init__.py\" target=\"_blank\"><span style=\"color: #7f7f7f; text-decoration-color: #7f7f7f\">__init__.py</span></a><span style=\"color: #7f7f7f; text-decoration-color: #7f7f7f\">:</span><a href=\"file:///usr/local/lib/python3.11/site-packages/manim/plugins/__init__.py#17\" target=\"_blank\"><span style=\"color: #7f7f7f; text-decoration-color: #7f7f7f\">17</span></a>\n",
       "</pre>\n"
      ],
      "text/plain": [
       "\u001b[2;36m[04/25/24 14:14:33]\u001b[0m\u001b[2;36m \u001b[0m\u001b[31mWARNING \u001b[0m Missing Plugins: \u001b[1m{\u001b[0m\u001b[32m''\u001b[0m\u001b[1m}\u001b[0m                                                   \u001b]8;id=569833;file:///usr/local/lib/python3.11/site-packages/manim/plugins/__init__.py\u001b\\\u001b[2m__init__.py\u001b[0m\u001b]8;;\u001b\\\u001b[2m:\u001b[0m\u001b]8;id=521728;file:///usr/local/lib/python3.11/site-packages/manim/plugins/__init__.py#17\u001b\\\u001b[2m17\u001b[0m\u001b]8;;\u001b\\\n"
      ]
     },
     "metadata": {},
     "output_type": "display_data"
    }
   ],
   "source": [
    "from manim import *"
   ]
  },
  {
   "cell_type": "code",
   "execution_count": null,
   "id": "1abc88ed-3e56-4a8b-9284-eed84bbde05f",
   "metadata": {},
   "outputs": [
    {
     "data": {
      "text/html": [
       "<pre style=\"white-space:pre;overflow-x:auto;line-height:normal;font-family:Menlo,'DejaVu Sans Mono',consolas,'Courier New',monospace\">Manim Community <span style=\"color: #008000; text-decoration-color: #008000\">v0.18.0</span>\n",
       "\n",
       "</pre>\n"
      ],
      "text/plain": [
       "Manim Community \u001b[32mv0.\u001b[0m\u001b[32m18.0\u001b[0m\n",
       "\n"
      ]
     },
     "metadata": {},
     "output_type": "display_data"
    },
    {
     "name": "stderr",
     "output_type": "stream",
     "text": [
      "                                                                         \r"
     ]
    }
   ],
   "source": [
    "class Problem(Scene):\n",
    "    def construct(self):\n",
    "        ferris = SVGMobject('rustacean-flat-gesture.svg').scale(0.5).to_edge(LEFT)\n",
    "        header_sep = Line(start=4.6 * LEFT, end=10*RIGHT)\n",
    "        sep = Line(start=10 * UP, end=10*DOWN).to_edge(LEFT).shift(2 * RIGHT)\n",
    "        self.play(AnimationGroup(\n",
    "            FadeIn(ferris),\n",
    "            Create(header_sep),\n",
    "            Create(sep),\n",
    "        ))\n",
    "        net = Code(code='TcpConnError', language='rust', font_size=30)[2][0].to_edge(UP).shift(2.5 * LEFT + DOWN)\n",
    "        log = Code(code='LoggingError', language='rust', font_size=30)[2][0].to_edge(DOWN).shift(2.5 * LEFT + UP)\n",
    "        net_impl = \"\"\"fn fmt(&self, f: &mut std::fmt::Formatter<'_>)\n",
    "-> std::fmt::Result {\n",
    "    write!(f,\n",
    "    \"connection dropped by peer: {}\",\n",
    "    self.peer_address()\n",
    "    )\n",
    "}\"\"\"\n",
    "        log_impl = \"\"\"fn fmt(&self, f: &mut std::fmt::Formatter<'_>)\n",
    "-> std::fmt::Result {\n",
    "    write!(f,\n",
    "    \"could not open file: {}\",\n",
    "    self.log_destination.display()\n",
    "    )\n",
    "}\"\"\"\n",
    "        net_impl = Code(code=net_impl, language='rust', font_size=20)[2].to_edge(UP).shift(3 * RIGHT + 0.5 * DOWN)\n",
    "        log_impl = Code(code=log_impl, language='rust', font_size=20)[2].to_edge(DOWN).shift(3 * RIGHT + 0.5 * UP)\n",
    "        self.play(AnimationGroup(\n",
    "            Write(net),\n",
    "            Write(net_impl),\n",
    "            Write(log),\n",
    "            Write(log_impl)\n",
    "        ))\n",
    "        self.wait(2)\n",
    "        anims = []\n",
    "        for char in net:\n",
    "            curve = ParametricFunction(lambda t: np.array([0, 0.1 * np.sin(PI * t), 0]), t_range=[0, 1]).move_to(char.get_center() + 0.05 * UP)\n",
    "            anims.append(MoveAlongPath(char, curve))\n",
    "        self.play(AnimationGroup(anims, lag_ratio=0.1), run_time=1)\n",
    "        self.wait(2)\n",
    "        anims = []\n",
    "        for char in log:\n",
    "            curve = ParametricFunction(lambda t: np.array([0, 0.1 * np.sin(PI * t), 0]), t_range=[0, 1]).move_to(char.get_center() + 0.05 * UP)\n",
    "            anims.append(MoveAlongPath(char, curve))\n",
    "        self.play(AnimationGroup(anims, lag_ratio=0.1), run_time=1)\n",
    "        self.wait(4)\n",
    "        self.play(AnimationGroup([FadeOut(x) for x in (net, log, net_impl, log_impl, header_sep, sep)]))\n",
    "        _ferris = SVGMobject('rustacean-flat-gesture.svg')\n",
    "        qs = []\n",
    "        for x in range(3):\n",
    "            phaser = np.sin(x/3 * PI)\n",
    "            q = Text('?').rotate(x * PI * -0.2).shift(x * 0.3 * phaser * DR ).shift(UP + RIGHT)\n",
    "            qs.append(q)\n",
    "        self.play(Transform(ferris, _ferris))\n",
    "        self.play(AnimationGroup([Write(q) for q in qs]))\n",
    "        self.wait(4)\n",
    "        self.play(AnimationGroup([FadeOut(q) for q in qs] + [FadeOut(ferris)]))\n",
    "        self.wait(4)\n",
    "\n",
    "%manim -ql -v WARNING Problem"
   ]
  },
  {
   "cell_type": "code",
   "execution_count": null,
   "id": "e01e48cc-eeab-4d2f-b225-ee7eb1e2ff99",
   "metadata": {},
   "outputs": [],
   "source": []
  }
 ],
 "metadata": {
  "kernelspec": {
   "display_name": "Python 3 (ipykernel)",
   "language": "python",
   "name": "python3"
  },
  "language_info": {
   "codemirror_mode": {
    "name": "ipython",
    "version": 3
   },
   "file_extension": ".py",
   "mimetype": "text/x-python",
   "name": "python",
   "nbconvert_exporter": "python",
   "pygments_lexer": "ipython3",
   "version": "3.11.8"
  }
 },
 "nbformat": 4,
 "nbformat_minor": 5
}
