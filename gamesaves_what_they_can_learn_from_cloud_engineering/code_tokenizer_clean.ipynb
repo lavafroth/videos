{
 "cells": [
  {
   "cell_type": "code",
   "execution_count": 14,
   "id": "cfcc9621-945c-475e-8e67-cbfe8c5bf69a",
   "metadata": {},
   "outputs": [],
   "source": [
    "from manim import *\n",
    "from difflib import SequenceMatcher"
   ]
  },
  {
   "cell_type": "code",
   "execution_count": 43,
   "id": "b4fd7c4f-7d3b-449b-a78a-23edbf250114",
   "metadata": {},
   "outputs": [],
   "source": [
    "def tokenize(code: Code) -> List[VMobjectFromSVGPath|Dot]:\n",
    "    tokens = []\n",
    "    for line in code[2]: # 0 = frame, 1 = dot, 2 = paragraph\n",
    "        current_vmobject_group = []\n",
    "        for vmobject in line:\n",
    "            if isinstance(vmobject, Dot):\n",
    "                if len(current_vmobject_group) > 0:\n",
    "                    tokens.append(VGroup(*current_vmobject_group))\n",
    "                    current_vmobject_group = []\n",
    "\n",
    "                # tokens.append(vmobject)\n",
    "                continue\n",
    "\n",
    "            current_vmobject_group.append(vmobject)\n",
    "            \n",
    "        if len(current_vmobject_group) > 0:\n",
    "            tokens.append(VGroup(*current_vmobject_group))\n",
    "\n",
    "    return tokens"
   ]
  },
  {
   "cell_type": "code",
   "execution_count": 49,
   "id": "06706aa4-d2fd-47eb-abf3-6fecb0821b17",
   "metadata": {},
   "outputs": [],
   "source": [
    "rust_code = \"\"\"impl From<u64> for Health {\n",
    "  fn from(bitfield: u64) -> Health {\n",
    "    // ...\n",
    "  }\n",
    "}\"\"\"\n",
    "\n",
    "token_replacements = \"\"\"impl TryFrom<u64> for Health {\n",
    "  type Error = anyhow::Error;\n",
    "  fn from(bitfield: u64) -> Result<Self, Self::Error> {\n",
    "    // ...\n",
    "  }\n",
    "}\"\"\""
   ]
  },
  {
   "cell_type": "code",
   "execution_count": 51,
   "id": "13a133e7-0269-487c-88e6-acfd762447c2",
   "metadata": {},
   "outputs": [
    {
     "data": {
      "text/plain": [
       "[('equal', 0, 1, 0, 1),\n",
       " ('replace', 1, 2, 1, 2),\n",
       " ('equal', 2, 5, 2, 5),\n",
       " ('insert', 5, 5, 5, 9),\n",
       " ('equal', 5, 9, 9, 13),\n",
       " ('replace', 9, 10, 13, 15),\n",
       " ('equal', 10, 15, 15, 20)]"
      ]
     },
     "execution_count": 51,
     "metadata": {},
     "output_type": "execute_result"
    }
   ],
   "source": [
    "sequence_matcher = SequenceMatcher(None, rust_code.split(), token_replacements.split())\n",
    "opcodes = list(sequence_matcher.get_opcodes())\n",
    "opcodes"
   ]
  },
  {
   "cell_type": "code",
   "execution_count": 53,
   "id": "69f3d499-a175-4eb3-9742-c7630e82718d",
   "metadata": {},
   "outputs": [
    {
     "data": {
      "text/html": [
       "<pre style=\"white-space:pre;overflow-x:auto;line-height:normal;font-family:Menlo,'DejaVu Sans Mono',consolas,'Courier New',monospace\">Manim Community <span style=\"color: #008000; text-decoration-color: #008000\">v0.18.0</span>\n",
       "\n",
       "</pre>\n"
      ],
      "text/plain": [
       "Manim Community \u001b[32mv0.\u001b[0m\u001b[32m18.0\u001b[0m\n",
       "\n"
      ]
     },
     "metadata": {},
     "output_type": "display_data"
    },
    {
     "name": "stderr",
     "output_type": "stream",
     "text": [
      "                                                                           \r"
     ]
    },
    {
     "data": {
      "text/html": [
       "<video src=\"media/jupyter/CodeBlock@2024-03-28@05-41-23.mp4\" controls autoplay loop style=\"max-width: 60%;\"  >\n",
       "      Your browser does not support the <code>video</code> element.\n",
       "    </video>"
      ],
      "text/plain": [
       "<IPython.core.display.Video object>"
      ]
     },
     "metadata": {},
     "output_type": "display_data"
    }
   ],
   "source": [
    "%%manim -qm -v WARNING CodeBlock\n",
    "\n",
    "class CodeBlock(Scene):\n",
    "    def construct(self):\n",
    "        code = tokenize(Code(code=rust_code, language=\"rust\", insert_line_no=False))\n",
    "        replacement = tokenize(Code(code=token_replacements, language=\"rust\", insert_line_no=False))\n",
    "\n",
    "        writes = [Write(token) for token in code]\n",
    "        self.play(AnimationGroup(writes, lag_ratio=0.30))\n",
    "        self.wait()\n",
    "\n",
    "        sequence_matcher = SequenceMatcher(None, rust_code.split(), token_replacements.split())\n",
    "        opcodes = list(sequence_matcher.get_opcodes())\n",
    "\n",
    "        unwrites = []\n",
    "        for op, i0, i1, j0, j1 in opcodes:\n",
    "            if op == 'delete' or op == 'replace':\n",
    "                for x in range(i0, i1):\n",
    "                    unwrites.append(Unwrite(code[x]))\n",
    "        \n",
    "        self.play(AnimationGroup(*unwrites))\n",
    "\n",
    "        transforms = []\n",
    "        for op, i0, i1, j0, j1 in opcodes:\n",
    "            if op == 'equal':\n",
    "                for x, y in zip(range(i0, i1), range(j0, j1)):\n",
    "                    transforms.append(Transform(code[x], replacement[y]))\n",
    "\n",
    "        self.play(AnimationGroup(*transforms))\n",
    "\n",
    "        writes = []\n",
    "        for op, i0, i1, j0, j1 in opcodes:\n",
    "            if op == 'insert' or op == 'replace':\n",
    "                for x in range(j0, j1):\n",
    "                    writes.append(Write(replacement[x]))\n",
    "\n",
    "        self.play(AnimationGroup(*writes, lag_ratio=0.30))\n",
    "        self.wait()"
   ]
  },
  {
   "cell_type": "code",
   "execution_count": null,
   "id": "fd1f0042-3fc3-466d-8cad-e6fbcfa909b8",
   "metadata": {},
   "outputs": [],
   "source": []
  }
 ],
 "metadata": {
  "kernelspec": {
   "display_name": "Python 3 (ipykernel)",
   "language": "python",
   "name": "python3"
  },
  "language_info": {
   "codemirror_mode": {
    "name": "ipython",
    "version": 3
   },
   "file_extension": ".py",
   "mimetype": "text/x-python",
   "name": "python",
   "nbconvert_exporter": "python",
   "pygments_lexer": "ipython3",
   "version": "3.11.8"
  }
 },
 "nbformat": 4,
 "nbformat_minor": 5
}
