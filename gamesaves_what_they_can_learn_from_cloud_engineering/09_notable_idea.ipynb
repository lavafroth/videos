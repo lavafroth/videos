{
 "cells": [
  {
   "cell_type": "code",
   "execution_count": 2,
   "id": "cfcc9621-945c-475e-8e67-cbfe8c5bf69a",
   "metadata": {},
   "outputs": [
    {
     "data": {
      "text/html": [
       "<pre style=\"white-space:pre;overflow-x:auto;line-height:normal;font-family:Menlo,'DejaVu Sans Mono',consolas,'Courier New',monospace\"><span style=\"color: #7fbfbf; text-decoration-color: #7fbfbf\">[04/01/24 13:03:38] </span><span style=\"color: #800000; text-decoration-color: #800000\">WARNING </span> Missing Plugins: <span style=\"font-weight: bold\">{</span><span style=\"color: #008000; text-decoration-color: #008000\">''</span><span style=\"font-weight: bold\">}</span>                                                   <a href=\"file:///usr/local/lib/python3.11/site-packages/manim/plugins/__init__.py\" target=\"_blank\"><span style=\"color: #7f7f7f; text-decoration-color: #7f7f7f\">__init__.py</span></a><span style=\"color: #7f7f7f; text-decoration-color: #7f7f7f\">:</span><a href=\"file:///usr/local/lib/python3.11/site-packages/manim/plugins/__init__.py#17\" target=\"_blank\"><span style=\"color: #7f7f7f; text-decoration-color: #7f7f7f\">17</span></a>\n",
       "</pre>\n"
      ],
      "text/plain": [
       "\u001b[2;36m[04/01/24 13:03:38]\u001b[0m\u001b[2;36m \u001b[0m\u001b[31mWARNING \u001b[0m Missing Plugins: \u001b[1m{\u001b[0m\u001b[32m''\u001b[0m\u001b[1m}\u001b[0m                                                   \u001b]8;id=707612;file:///usr/local/lib/python3.11/site-packages/manim/plugins/__init__.py\u001b\\\u001b[2m__init__.py\u001b[0m\u001b]8;;\u001b\\\u001b[2m:\u001b[0m\u001b]8;id=380677;file:///usr/local/lib/python3.11/site-packages/manim/plugins/__init__.py#17\u001b\\\u001b[2m17\u001b[0m\u001b]8;;\u001b\\\n"
      ]
     },
     "metadata": {},
     "output_type": "display_data"
    }
   ],
   "source": [
    "from manim import *"
   ]
  },
  {
   "cell_type": "code",
   "execution_count": 4,
   "id": "69f3d499-a175-4eb3-9742-c7630e82718d",
   "metadata": {},
   "outputs": [
    {
     "data": {
      "text/html": [
       "<pre style=\"white-space:pre;overflow-x:auto;line-height:normal;font-family:Menlo,'DejaVu Sans Mono',consolas,'Courier New',monospace\">Manim Community <span style=\"color: #008000; text-decoration-color: #008000\">v0.18.0</span>\n",
       "\n",
       "</pre>\n"
      ],
      "text/plain": [
       "Manim Community \u001b[32mv0.\u001b[0m\u001b[32m18.0\u001b[0m\n",
       "\n"
      ]
     },
     "metadata": {},
     "output_type": "display_data"
    },
    {
     "name": "stderr",
     "output_type": "stream",
     "text": [
      "                                                                                                                                                                                                               \r"
     ]
    },
    {
     "data": {
      "text/html": [
       "<video src=\"media/jupyter/CodeBlock@2024-04-01@13-05-59.mp4\" controls autoplay loop style=\"max-width: 60%;\"  >\n",
       "      Your browser does not support the <code>video</code> element.\n",
       "    </video>"
      ],
      "text/plain": [
       "<IPython.core.display.Video object>"
      ]
     },
     "metadata": {},
     "output_type": "display_data"
    }
   ],
   "source": [
    "%%manim -qh -v WARNING CodeBlock\n",
    "\n",
    "def str_to_text_mobject(i: int, s: str):\n",
    "    if i == 2:\n",
    "        shift = 0.5 * DOWN + RIGHT\n",
    "    elif i > 2:\n",
    "        shift = (i - 1) * 0.5 * DOWN\n",
    "    else:\n",
    "        shift = i * 0.5 * DOWN\n",
    "    return Text(s, font_size=\"28\", font=\"monospace\").to_edge(UL).shift(shift)\n",
    "\n",
    "class CodeBlock(Scene):\n",
    "    def construct(self):\n",
    "        drawables = [\n",
    "        \"docker run --rm -it alpine:latest sh\",\n",
    "        \"/ # \",\n",
    "         \"tree -L 1\",\n",
    "        \"\"\".\n",
    "├── bin\n",
    "├── dev\n",
    "├── etc\n",
    "├── home\n",
    "├── lib\n",
    "├── media\n",
    "├── mnt\n",
    "├── opt\n",
    "├── proc\n",
    "├── root\n",
    "├── run\n",
    "├── sbin\n",
    "├── srv\n",
    "├── sys\n",
    "├── tmp\n",
    "├── usr\n",
    "└── var\n",
    "    \n",
    "18 directories, 0 files\"\"\"\n",
    "        ]\n",
    "        drawables = [\n",
    "            str_to_text_mobject(i, s)\n",
    "            for i, s in enumerate(drawables)\n",
    "        ]\n",
    "        for drawable in drawables:\n",
    "            self.play(Write(drawable))\n",
    "\n",
    "        unwrites = []\n",
    "        for i, drawable in enumerate(drawables):\n",
    "            if i == 1:\n",
    "                continue\n",
    "            unwrites.append(Unwrite(drawable))\n",
    "\n",
    "        self.wait(4)\n",
    "        self.play(AnimationGroup(unwrites))\n",
    "        self.play(drawables[1].animate.shift(0.5 * UP))\n",
    "        touch = \"touch foobar\"\n",
    "\n",
    "        self.play(Write(Text(touch, font_size=\"28\", font=\"monospace\").to_edge(UL).shift(RIGHT)))\n",
    "        prompt = drawables[1].copy().shift(0.5 * DOWN)\n",
    "\n",
    "        ls = \"ls -l foobar\"\n",
    "        self.play(Write(prompt))\n",
    "        self.play(Write(Text(ls, font_size=\"28\", font=\"monospace\").to_edge(UL).shift(RIGHT+0.5*DOWN)))\n",
    "        ls_out = '-rw-r--r--    1 root  root  0 Apr  1 12:33 foobar'\n",
    "        self.play(Write(Text(ls_out, font_size=\"28\", font=\"monospace\").to_edge(UL).shift(DOWN)))\n",
    "        prompt = prompt.copy().shift(DOWN)\n",
    "        self.play(Write(prompt))\n",
    "        self.wait(2)\n",
    "\n",
    "        exit = \"exit\"\n",
    "        self.play(Write(Text(exit, font_size=\"28\", font=\"monospace\").to_edge(UL).shift(RIGHT+1.5*DOWN)))\n",
    "        self.wait(4)"
   ]
  },
  {
   "cell_type": "code",
   "execution_count": null,
   "id": "fd1f0042-3fc3-466d-8cad-e6fbcfa909b8",
   "metadata": {},
   "outputs": [],
   "source": []
  }
 ],
 "metadata": {
  "kernelspec": {
   "display_name": "Python 3 (ipykernel)",
   "language": "python",
   "name": "python3"
  },
  "language_info": {
   "codemirror_mode": {
    "name": "ipython",
    "version": 3
   },
   "file_extension": ".py",
   "mimetype": "text/x-python",
   "name": "python",
   "nbconvert_exporter": "python",
   "pygments_lexer": "ipython3",
   "version": "3.11.8"
  }
 },
 "nbformat": 4,
 "nbformat_minor": 5
}
