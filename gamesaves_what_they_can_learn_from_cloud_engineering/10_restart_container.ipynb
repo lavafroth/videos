{
 "cells": [
  {
   "cell_type": "code",
   "execution_count": 1,
   "id": "cfcc9621-945c-475e-8e67-cbfe8c5bf69a",
   "metadata": {},
   "outputs": [
    {
     "data": {
      "text/html": [
       "<pre style=\"white-space:pre;overflow-x:auto;line-height:normal;font-family:Menlo,'DejaVu Sans Mono',consolas,'Courier New',monospace\"><span style=\"color: #7fbfbf; text-decoration-color: #7fbfbf\">[04/01/24 13:00:58] </span><span style=\"color: #800000; text-decoration-color: #800000\">WARNING </span> Missing Plugins: <span style=\"font-weight: bold\">{</span><span style=\"color: #008000; text-decoration-color: #008000\">''</span><span style=\"font-weight: bold\">}</span>                                                   <a href=\"file:///usr/local/lib/python3.11/site-packages/manim/plugins/__init__.py\" target=\"_blank\"><span style=\"color: #7f7f7f; text-decoration-color: #7f7f7f\">__init__.py</span></a><span style=\"color: #7f7f7f; text-decoration-color: #7f7f7f\">:</span><a href=\"file:///usr/local/lib/python3.11/site-packages/manim/plugins/__init__.py#17\" target=\"_blank\"><span style=\"color: #7f7f7f; text-decoration-color: #7f7f7f\">17</span></a>\n",
       "</pre>\n"
      ],
      "text/plain": [
       "\u001b[2;36m[04/01/24 13:00:58]\u001b[0m\u001b[2;36m \u001b[0m\u001b[31mWARNING \u001b[0m Missing Plugins: \u001b[1m{\u001b[0m\u001b[32m''\u001b[0m\u001b[1m}\u001b[0m                                                   \u001b]8;id=957056;file:///usr/local/lib/python3.11/site-packages/manim/plugins/__init__.py\u001b\\\u001b[2m__init__.py\u001b[0m\u001b]8;;\u001b\\\u001b[2m:\u001b[0m\u001b]8;id=557724;file:///usr/local/lib/python3.11/site-packages/manim/plugins/__init__.py#17\u001b\\\u001b[2m17\u001b[0m\u001b]8;;\u001b\\\n"
      ]
     },
     "metadata": {},
     "output_type": "display_data"
    }
   ],
   "source": [
    "from manim import *"
   ]
  },
  {
   "cell_type": "code",
   "execution_count": null,
   "id": "69f3d499-a175-4eb3-9742-c7630e82718d",
   "metadata": {},
   "outputs": [
    {
     "data": {
      "text/html": [
       "<pre style=\"white-space:pre;overflow-x:auto;line-height:normal;font-family:Menlo,'DejaVu Sans Mono',consolas,'Courier New',monospace\">Manim Community <span style=\"color: #008000; text-decoration-color: #008000\">v0.18.0</span>\n",
       "\n",
       "</pre>\n"
      ],
      "text/plain": [
       "Manim Community \u001b[32mv0.\u001b[0m\u001b[32m18.0\u001b[0m\n",
       "\n"
      ]
     },
     "metadata": {},
     "output_type": "display_data"
    },
    {
     "name": "stdout",
     "output_type": "stream",
     "text": [
      "ls -l foobar\n"
     ]
    },
    {
     "name": "stderr",
     "output_type": "stream",
     "text": [
      "                                                                                                                                                                                                               \r"
     ]
    }
   ],
   "source": [
    "%%manim -qh -v WARNING CodeBlock\n",
    "\n",
    "def str_to_text_mobject(i: int, s: str):\n",
    "    if i == 2:\n",
    "        shift = 0.5 * DOWN + RIGHT\n",
    "    elif i > 2:\n",
    "        shift = (i - 1) * 0.5 * DOWN\n",
    "    else:\n",
    "        shift = i * 0.5 * DOWN\n",
    "    return Text(s, font_size=\"28\", font=\"monospace\").to_edge(UL).shift(shift)\n",
    "\n",
    "class CodeBlock(Scene):\n",
    "    def construct(self):\n",
    "        drawables = [\n",
    "            \"docker run --rm -it alpine:latest sh\",\n",
    "            \"/ # \",\n",
    "            \"ls -l foobar\",\n",
    "            \"ls: foobar: No such file or directory\"\n",
    "        ]\n",
    "        drawables = [\n",
    "            str_to_text_mobject(i, s)\n",
    "            for i, s in enumerate(drawables)\n",
    "        ]\n",
    "        for drawable in drawables:\n",
    "            self.play(Write(drawable))\n",
    "\n",
    "        unwrites = []\n",
    "        for i, drawable in enumerate(drawables):\n",
    "            if i == 1:\n",
    "                continue\n",
    "            unwrites.append(Unwrite(drawable))\n",
    "\n",
    "        self.wait(4)"
   ]
  },
  {
   "cell_type": "code",
   "execution_count": null,
   "id": "fd1f0042-3fc3-466d-8cad-e6fbcfa909b8",
   "metadata": {},
   "outputs": [],
   "source": []
  }
 ],
 "metadata": {
  "kernelspec": {
   "display_name": "Python 3 (ipykernel)",
   "language": "python",
   "name": "python3"
  },
  "language_info": {
   "codemirror_mode": {
    "name": "ipython",
    "version": 3
   },
   "file_extension": ".py",
   "mimetype": "text/x-python",
   "name": "python",
   "nbconvert_exporter": "python",
   "pygments_lexer": "ipython3",
   "version": "3.11.8"
  }
 },
 "nbformat": 4,
 "nbformat_minor": 5
}
