{
 "cells": [
  {
   "cell_type": "code",
   "execution_count": 2,
   "id": "cfcc9621-945c-475e-8e67-cbfe8c5bf69a",
   "metadata": {},
   "outputs": [
    {
     "data": {
      "text/html": [
       "<pre style=\"white-space:pre;overflow-x:auto;line-height:normal;font-family:Menlo,'DejaVu Sans Mono',consolas,'Courier New',monospace\"><span style=\"color: #7fbfbf; text-decoration-color: #7fbfbf\">[04/02/24 07:08:26] </span><span style=\"color: #800000; text-decoration-color: #800000\">WARNING </span> Missing Plugins: <span style=\"font-weight: bold\">{</span><span style=\"color: #008000; text-decoration-color: #008000\">''</span><span style=\"font-weight: bold\">}</span>                                                   <a href=\"file:///usr/local/lib/python3.11/site-packages/manim/plugins/__init__.py\" target=\"_blank\"><span style=\"color: #7f7f7f; text-decoration-color: #7f7f7f\">__init__.py</span></a><span style=\"color: #7f7f7f; text-decoration-color: #7f7f7f\">:</span><a href=\"file:///usr/local/lib/python3.11/site-packages/manim/plugins/__init__.py#17\" target=\"_blank\"><span style=\"color: #7f7f7f; text-decoration-color: #7f7f7f\">17</span></a>\n",
       "</pre>\n"
      ],
      "text/plain": [
       "\u001b[2;36m[04/02/24 07:08:26]\u001b[0m\u001b[2;36m \u001b[0m\u001b[31mWARNING \u001b[0m Missing Plugins: \u001b[1m{\u001b[0m\u001b[32m''\u001b[0m\u001b[1m}\u001b[0m                                                   \u001b]8;id=949156;file:///usr/local/lib/python3.11/site-packages/manim/plugins/__init__.py\u001b\\\u001b[2m__init__.py\u001b[0m\u001b]8;;\u001b\\\u001b[2m:\u001b[0m\u001b]8;id=40741;file:///usr/local/lib/python3.11/site-packages/manim/plugins/__init__.py#17\u001b\\\u001b[2m17\u001b[0m\u001b]8;;\u001b\\\n"
      ]
     },
     "metadata": {},
     "output_type": "display_data"
    }
   ],
   "source": [
    "from manim import *"
   ]
  },
  {
   "cell_type": "code",
   "execution_count": 21,
   "id": "69f3d499-a175-4eb3-9742-c7630e82718d",
   "metadata": {},
   "outputs": [
    {
     "data": {
      "text/html": [
       "<pre style=\"white-space:pre;overflow-x:auto;line-height:normal;font-family:Menlo,'DejaVu Sans Mono',consolas,'Courier New',monospace\">Manim Community <span style=\"color: #008000; text-decoration-color: #008000\">v0.18.0</span>\n",
       "\n",
       "</pre>\n"
      ],
      "text/plain": [
       "Manim Community \u001b[32mv0.\u001b[0m\u001b[32m18.0\u001b[0m\n",
       "\n"
      ]
     },
     "metadata": {},
     "output_type": "display_data"
    },
    {
     "name": "stderr",
     "output_type": "stream",
     "text": [
      "                                                                                                     \r"
     ]
    },
    {
     "data": {
      "text/html": [
       "<video src=\"media/jupyter/CodeBlock@2024-04-02@07-28-34.mp4\" controls autoplay loop style=\"max-width: 60%;\"  >\n",
       "      Your browser does not support the <code>video</code> element.\n",
       "    </video>"
      ],
      "text/plain": [
       "<IPython.core.display.Video object>"
      ]
     },
     "metadata": {},
     "output_type": "display_data"
    }
   ],
   "source": [
    "%%manim -ql -v WARNING CodeBlock\n",
    "\n",
    "def str_to_text_mobject(i: int, s: Text):\n",
    "    shift = i * 0.5 * DOWN\n",
    "    return s.to_edge(UL).shift(shift)\n",
    "\n",
    "class CodeBlock(Scene):\n",
    "    def construct(self):\n",
    "        drawables = [\n",
    "            Text(\"mkdir upperdir work\", t2c={\"upperdir\": TEAL, \"work\": YELLOW}, font_size=\"28\", font=\"monospace\"),\n",
    "            Text(\"mv game lowerdir\", t2c={\"lowerdir\": BLUE}, font_size=\"28\", font=\"monospace\"),\n",
    "            Text(\"mount -t overlay overlay \\\\\", t2c={\"upperdir\": TEAL, \"workdir\": YELLOW, \"lowerdir\": BLUE}, font_size=\"28\", font=\"monospace\"),\n",
    "            Text(\"-o lowerdir=lowerdir,upperdir=upperdir,work=work game\", t2c={\"upperdir\": TEAL, \"work\":YELLOW, \"lowerdir\": BLUE}, font_size=\"28\", font=\"monospace\"),\n",
    "        ]\n",
    "        drawables = [\n",
    "            str_to_text_mobject(i, s)\n",
    "            for i, s in enumerate(drawables)\n",
    "        ]\n",
    "        for i, drawable in enumerate(drawables):\n",
    "            self.play(Write(drawable))\n",
    "            if i == 2:\n",
    "                continue\n",
    "            self.wait(4)\n",
    "\n",
    "        horizontal_line = DashedLine(start=np.array([-8, 1.25, 0]), end=np.array([8, 1.25, 0]), color=GRAY)\n",
    "        self.play(Create(horizontal_line))\n",
    "        \n",
    "        error = Text(\"\"\"mount: game: must be superuser to use mount.\n",
    "       dmesg(1) may have more information after failed mount system call.\"\"\", font_size=\"28\", font=\"monospace\").to_edge(UL).shift(len(drawables) * 0.5 * DOWN + 0.75 * DOWN)\n",
    "        self.play(Write(error))\n",
    "        self.wait(4)"
   ]
  },
  {
   "cell_type": "code",
   "execution_count": null,
   "id": "6964e09a-dbd8-4907-a20f-4767b78d0b79",
   "metadata": {},
   "outputs": [],
   "source": []
  }
 ],
 "metadata": {
  "kernelspec": {
   "display_name": "Python 3 (ipykernel)",
   "language": "python",
   "name": "python3"
  },
  "language_info": {
   "codemirror_mode": {
    "name": "ipython",
    "version": 3
   },
   "file_extension": ".py",
   "mimetype": "text/x-python",
   "name": "python",
   "nbconvert_exporter": "python",
   "pygments_lexer": "ipython3",
   "version": "3.11.8"
  }
 },
 "nbformat": 4,
 "nbformat_minor": 5
}
