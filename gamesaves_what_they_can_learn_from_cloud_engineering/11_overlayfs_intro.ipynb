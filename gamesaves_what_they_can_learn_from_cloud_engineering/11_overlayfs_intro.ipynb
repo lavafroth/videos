{
 "cells": [
  {
   "cell_type": "code",
   "execution_count": 2,
   "id": "93e5b549-c822-4698-8ff7-f847cdf7ad30",
   "metadata": {},
   "outputs": [
    {
     "data": {
      "text/html": [
       "<pre style=\"white-space:pre;overflow-x:auto;line-height:normal;font-family:Menlo,'DejaVu Sans Mono',consolas,'Courier New',monospace\"><span style=\"color: #7fbfbf; text-decoration-color: #7fbfbf\">[04/02/24 06:17:47] </span><span style=\"color: #800000; text-decoration-color: #800000\">WARNING </span> Missing Plugins: <span style=\"font-weight: bold\">{</span><span style=\"color: #008000; text-decoration-color: #008000\">''</span><span style=\"font-weight: bold\">}</span>                                                   <a href=\"file:///usr/local/lib/python3.11/site-packages/manim/plugins/__init__.py\" target=\"_blank\"><span style=\"color: #7f7f7f; text-decoration-color: #7f7f7f\">__init__.py</span></a><span style=\"color: #7f7f7f; text-decoration-color: #7f7f7f\">:</span><a href=\"file:///usr/local/lib/python3.11/site-packages/manim/plugins/__init__.py#17\" target=\"_blank\"><span style=\"color: #7f7f7f; text-decoration-color: #7f7f7f\">17</span></a>\n",
       "</pre>\n"
      ],
      "text/plain": [
       "\u001b[2;36m[04/02/24 06:17:47]\u001b[0m\u001b[2;36m \u001b[0m\u001b[31mWARNING \u001b[0m Missing Plugins: \u001b[1m{\u001b[0m\u001b[32m''\u001b[0m\u001b[1m}\u001b[0m                                                   \u001b]8;id=563179;file:///usr/local/lib/python3.11/site-packages/manim/plugins/__init__.py\u001b\\\u001b[2m__init__.py\u001b[0m\u001b]8;;\u001b\\\u001b[2m:\u001b[0m\u001b]8;id=430105;file:///usr/local/lib/python3.11/site-packages/manim/plugins/__init__.py#17\u001b\\\u001b[2m17\u001b[0m\u001b]8;;\u001b\\\n"
      ]
     },
     "metadata": {},
     "output_type": "display_data"
    }
   ],
   "source": [
    "from manim import *"
   ]
  },
  {
   "cell_type": "code",
   "execution_count": 34,
   "id": "f37d1283-9f49-4653-87bd-8459958a3406",
   "metadata": {},
   "outputs": [
    {
     "data": {
      "text/html": [
       "<pre style=\"white-space:pre;overflow-x:auto;line-height:normal;font-family:Menlo,'DejaVu Sans Mono',consolas,'Courier New',monospace\">Manim Community <span style=\"color: #008000; text-decoration-color: #008000\">v0.18.0</span>\n",
       "\n",
       "</pre>\n"
      ],
      "text/plain": [
       "Manim Community \u001b[32mv0.\u001b[0m\u001b[32m18.0\u001b[0m\n",
       "\n"
      ]
     },
     "metadata": {},
     "output_type": "display_data"
    },
    {
     "name": "stderr",
     "output_type": "stream",
     "text": [
      "                                                                                                     \r"
     ]
    },
    {
     "data": {
      "text/html": [
       "<video src=\"media/jupyter/OverlayFS@2024-04-02@07-01-30.mp4\" controls autoplay loop style=\"max-width: 60%;\"  >\n",
       "      Your browser does not support the <code>video</code> element.\n",
       "    </video>"
      ],
      "text/plain": [
       "<IPython.core.display.Video object>"
      ]
     },
     "metadata": {},
     "output_type": "display_data"
    }
   ],
   "source": [
    "class OverlayFS(Scene):\n",
    "    def construct(self):\n",
    "        docker = SVGMobject(\"docker\", fill_color='#1D63ED', stroke_color=BLUE, fill_opacity=0.6)\n",
    "        self.play(Write(docker))\n",
    "        self.play(docker.animate.shift(2 * LEFT))\n",
    "\n",
    "        overlayfs = Text(\"Overlay Filesystem\", font_size=28).shift(2*RIGHT)\n",
    "        self.play(Write(overlayfs))\n",
    "        \n",
    "        self.wait(3)\n",
    "        _overlayfs = Text(\"overlayfs\", font_size=36, font=\"monospace\").shift(3*UP)\n",
    "        self.play(AnimationGroup(\n",
    "            FadeOut(docker),\n",
    "            Transform(overlayfs, _overlayfs),\n",
    "            lag_ratio=0.6\n",
    "        ))\n",
    "\n",
    "\n",
    "        lowerdir = Square(color=BLUE, fill_opacity=0.6).shift(3 * DOWN + 3 * LEFT).rotate(PI / 4)\n",
    "        lowerdir.apply_function(lambda p: np.array([\n",
    "            p[0],\n",
    "            p[1] * 0.5,\n",
    "            0\n",
    "        ]))\n",
    "\n",
    "        pos = 1.5 * DOWN + 2 * RIGHT\n",
    "\n",
    "        lowerdir_desc = Text(\"Read-only lower directory\", font_size=28).shift(pos)\n",
    "        self.play(AnimationGroup(\n",
    "            Write(lowerdir_desc),\n",
    "            Create(lowerdir)\n",
    "        ))\n",
    "\n",
    "        pos += UP\n",
    "        upperdir = lowerdir.copy().set_fill(TEAL).set_stroke(TEAL)\n",
    "\n",
    "        upperdir_desc = Text(\"Writable upper directory\", font_size=28).shift(pos)\n",
    "        self.play(Create(upperdir))\n",
    "        self.play(AnimationGroup(\n",
    "            Write(upperdir_desc),\n",
    "            upperdir.animate.shift(UP)\n",
    "        ))\n",
    "\n",
    "        pos += UP\n",
    "        workdir_desc = Text(\"Scratch work directory\", font_size=28).shift(pos)\n",
    "        workdir = upperdir.copy().set_fill(YELLOW).set_stroke(YELLOW)\n",
    "\n",
    "        self.play(Create(workdir))\n",
    "        self.play(AnimationGroup(\n",
    "            Write(workdir_desc),\n",
    "            workdir.animate.shift(UP)\n",
    "        ))\n",
    "\n",
    "        stage = Group(lowerdir, lowerdir_desc, upperdir, upperdir_desc, workdir, workdir_desc, overlayfs)\n",
    "        _stage = stage.copy().scale(0.5).shift(1.5 * UP)\n",
    "        self.wait(4)\n",
    "        self.play(Transform(stage, _stage))\n",
    "        \n",
    "        square = (\n",
    "            Square(color=BLUE, fill_opacity=0.6)\n",
    "            .rotate(PI / 4)\n",
    "            .shift(4 * LEFT + 2 * DOWN)\n",
    "            .apply_function(lambda p: np.array([\n",
    "                p[0],\n",
    "                p[1] * 0.5,\n",
    "                0\n",
    "            ]))\n",
    "        )\n",
    "        problem_def = Text(\"Read-only layer of the assets\", font_size=32).shift(DOWN + 2 * RIGHT)\n",
    "        \n",
    "        upper_layer = square.copy().shift(UP)\n",
    "        upper_layer_text = Text(\"writable layer to capture\\nchanges during runtime\", font_size=32).shift(0.25 * UP + 2*RIGHT)\n",
    "\n",
    "        title = Text(\"Problem definition\", font_size=36, font=\"monospace\").shift(3*UP)\n",
    "        def_stage = Group(title, square, problem_def, upper_layer, upper_layer_text).scale(0.5).shift(3*DOWN)\n",
    "        self.play(FadeIn(def_stage))\n",
    "        self.wait(4)\n",
    "        self.play(AnimationGroup(FadeOut(stage), FadeOut(def_stage)))\n",
    "%manim -qh -v WARNING OverlayFS"
   ]
  },
  {
   "cell_type": "code",
   "execution_count": null,
   "id": "372c3b5a-fb23-46de-85dd-e269d21f0aa4",
   "metadata": {},
   "outputs": [],
   "source": []
  }
 ],
 "metadata": {
  "kernelspec": {
   "display_name": "Python 3 (ipykernel)",
   "language": "python",
   "name": "python3"
  },
  "language_info": {
   "codemirror_mode": {
    "name": "ipython",
    "version": 3
   },
   "file_extension": ".py",
   "mimetype": "text/x-python",
   "name": "python",
   "nbconvert_exporter": "python",
   "pygments_lexer": "ipython3",
   "version": "3.11.8"
  }
 },
 "nbformat": 4,
 "nbformat_minor": 5
}
