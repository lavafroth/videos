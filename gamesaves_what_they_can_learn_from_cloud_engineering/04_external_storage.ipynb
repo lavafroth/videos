{
 "cells": [
  {
   "cell_type": "code",
   "execution_count": 4,
   "id": "93e5b549-c822-4698-8ff7-f847cdf7ad30",
   "metadata": {},
   "outputs": [],
   "source": [
    "from manim import *"
   ]
  },
  {
   "cell_type": "code",
   "execution_count": 85,
   "id": "f37d1283-9f49-4653-87bd-8459958a3406",
   "metadata": {},
   "outputs": [
    {
     "data": {
      "text/html": [
       "<pre style=\"white-space:pre;overflow-x:auto;line-height:normal;font-family:Menlo,'DejaVu Sans Mono',consolas,'Courier New',monospace\">Manim Community <span style=\"color: #008000; text-decoration-color: #008000\">v0.18.0</span>\n",
       "\n",
       "</pre>\n"
      ],
      "text/plain": [
       "Manim Community \u001b[32mv0.\u001b[0m\u001b[32m18.0\u001b[0m\n",
       "\n"
      ]
     },
     "metadata": {},
     "output_type": "display_data"
    },
    {
     "name": "stderr",
     "output_type": "stream",
     "text": [
      "                                                                           \r"
     ]
    },
    {
     "data": {
      "text/html": [
       "<video src=\"media/jupyter/ExternalStorage@2024-03-31@12-30-48.mp4\" controls autoplay loop style=\"max-width: 60%;\"  >\n",
       "      Your browser does not support the <code>video</code> element.\n",
       "    </video>"
      ],
      "text/plain": [
       "<IPython.core.display.Video object>"
      ]
     },
     "metadata": {},
     "output_type": "display_data"
    }
   ],
   "source": [
    "class ExternalStorage(Scene):\n",
    "    def construct(self):\n",
    "        directory = SVGMobject(\"file-directory-fill.svg\", fill_color=BLUE, stroke_color=BLUE, fill_opacity=0.6)\n",
    "        group = [directory]\n",
    "\n",
    "        package = SVGMobject(\"package.svg\", fill_color=BLUE, stroke_color=BLUE, fill_opacity=0.6)\n",
    "        package.scale(0.25)\n",
    "        package.set_opacity(1)\n",
    "        package.shift(0.5 * DOWN + 0.4 * LEFT)\n",
    "        group.append(package)\n",
    "        \n",
    "        file = SVGMobject(\"file.svg\", fill_color=BLUE, stroke_color=BLUE, fill_opacity=0.6)\n",
    "        file.shift(0.5 * DOWN + 0.4 * LEFT)\n",
    "        file.scale(0.3)\n",
    "        file.set_opacity(1)\n",
    "        \n",
    "        files = [file]\n",
    "        file = file.copy()\n",
    "        file.shift(0.75 * RIGHT)\n",
    "        files.append(file)\n",
    "        file = file.copy()\n",
    "        file.shift(0.75 * UP)\n",
    "        files.append(file)\n",
    "        file = files[0].copy()\n",
    "        file.shift(0.75 * UP)\n",
    "        files.append(file)\n",
    "\n",
    "        files[0] = package\n",
    "        group += files\n",
    "\n",
    "        vmob = VMobject()\n",
    "        for thing in group:\n",
    "            for inner in thing:\n",
    "                vmob.add(inner)\n",
    "        self.play(FadeIn(vmob))\n",
    "        self.wait(2)\n",
    "        \n",
    "        vmob_ = vmob.copy()\n",
    "        vmob_.scale(0.25)\n",
    "        vmob_.shift(0.5 * UP + 1.45 * RIGHT)\n",
    "        \n",
    "        server = SVGMobject(\"server\", fill_color=BLUE, stroke_color=BLUE, fill_opacity=0.6)\n",
    "        server.scale(2)\n",
    "        \n",
    "        self.play(AnimationGroup(\n",
    "            Transform(vmob, vmob_),\n",
    "            Write(server)\n",
    "        ))\n",
    "\n",
    "        self.wait(2)\n",
    "\n",
    "        server_ = server.copy()\n",
    "        server_.scale(0.5)\n",
    "        server_.shift(2 * LEFT)\n",
    "\n",
    "        self.play(FadeOut(vmob))\n",
    "        self.play(\n",
    "            Transform(server, server_)\n",
    "        )\n",
    "\n",
    "        bgrect = Rectangle(width=6.0, height=9.0, stroke_color=BLUE).to_edge(UR)\n",
    "        bgrect.shift(UP + RIGHT)\n",
    "\n",
    "        self.play(Create(bgrect))\n",
    "\n",
    "        selector = RoundedRectangle(width=6.0, height=1.2, stroke_color=TEAL, fill_color=TEAL, fill_opacity=0.6, corner_radius=0.25).to_edge(UR)\n",
    "        selector.shift(0.24 * UP+ 1.25 * RIGHT)\n",
    "\n",
    "        saves = Text(\n",
    "\"\"\"Save 1\n",
    "2022 06 04 18:32:55\n",
    "\n",
    "Save 2\n",
    "2022 10 11 20:29:01\n",
    "\n",
    "Save 3\n",
    "2024 03 31 09:22:18\n",
    "\n",
    "         .\n",
    "         .\n",
    "         .\n",
    "\"\"\", font_size=28, font=\"monospace\").to_edge(UR)\n",
    "        saves.shift(0.2 * RIGHT)\n",
    "\n",
    "        self.add_foreground_mobject(saves)\n",
    "        self.play(Write(saves))\n",
    "        self.play(FadeIn(selector))\n",
    "\n",
    "        self.play(selector.animate.shift(1.15 * DOWN))\n",
    "        self.play(selector.animate.shift(1.15 * DOWN))\n",
    "        self.wait(2)\n",
    "        self.play(selector.animate.shift(1.15 * UP))\n",
    "        self.wait(5)\n",
    "\n",
    "%manim -qh -v WARNING ExternalStorage"
   ]
  },
  {
   "cell_type": "code",
   "execution_count": null,
   "id": "3ffecb68-583e-45d1-8a8a-211f76af0300",
   "metadata": {},
   "outputs": [],
   "source": []
  }
 ],
 "metadata": {
  "kernelspec": {
   "display_name": "Python 3 (ipykernel)",
   "language": "python",
   "name": "python3"
  },
  "language_info": {
   "codemirror_mode": {
    "name": "ipython",
    "version": 3
   },
   "file_extension": ".py",
   "mimetype": "text/x-python",
   "name": "python",
   "nbconvert_exporter": "python",
   "pygments_lexer": "ipython3",
   "version": "3.11.8"
  }
 },
 "nbformat": 4,
 "nbformat_minor": 5
}
