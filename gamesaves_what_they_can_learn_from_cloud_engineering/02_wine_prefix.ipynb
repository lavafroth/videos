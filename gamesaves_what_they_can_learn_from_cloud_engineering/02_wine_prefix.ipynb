{
 "cells": [
  {
   "cell_type": "code",
   "execution_count": 1,
   "id": "93e5b549-c822-4698-8ff7-f847cdf7ad30",
   "metadata": {},
   "outputs": [
    {
     "data": {
      "text/html": [
       "<pre style=\"white-space:pre;overflow-x:auto;line-height:normal;font-family:Menlo,'DejaVu Sans Mono',consolas,'Courier New',monospace\"><span style=\"color: #7fbfbf; text-decoration-color: #7fbfbf\">[03/31/24 01:52:21] </span><span style=\"color: #800000; text-decoration-color: #800000\">WARNING </span> Missing Plugins: <span style=\"font-weight: bold\">{</span><span style=\"color: #008000; text-decoration-color: #008000\">''</span><span style=\"font-weight: bold\">}</span>                                                   <a href=\"file:///usr/local/lib/python3.11/site-packages/manim/plugins/__init__.py\" target=\"_blank\"><span style=\"color: #7f7f7f; text-decoration-color: #7f7f7f\">__init__.py</span></a><span style=\"color: #7f7f7f; text-decoration-color: #7f7f7f\">:</span><a href=\"file:///usr/local/lib/python3.11/site-packages/manim/plugins/__init__.py#17\" target=\"_blank\"><span style=\"color: #7f7f7f; text-decoration-color: #7f7f7f\">17</span></a>\n",
       "</pre>\n"
      ],
      "text/plain": [
       "\u001b[2;36m[03/31/24 01:52:21]\u001b[0m\u001b[2;36m \u001b[0m\u001b[31mWARNING \u001b[0m Missing Plugins: \u001b[1m{\u001b[0m\u001b[32m''\u001b[0m\u001b[1m}\u001b[0m                                                   \u001b]8;id=563443;file:///usr/local/lib/python3.11/site-packages/manim/plugins/__init__.py\u001b\\\u001b[2m__init__.py\u001b[0m\u001b]8;;\u001b\\\u001b[2m:\u001b[0m\u001b]8;id=888371;file:///usr/local/lib/python3.11/site-packages/manim/plugins/__init__.py#17\u001b\\\u001b[2m17\u001b[0m\u001b]8;;\u001b\\\n"
      ]
     },
     "metadata": {},
     "output_type": "display_data"
    }
   ],
   "source": [
    "from manim import *"
   ]
  },
  {
   "cell_type": "code",
   "execution_count": 48,
   "id": "f37d1283-9f49-4653-87bd-8459958a3406",
   "metadata": {},
   "outputs": [
    {
     "data": {
      "text/html": [
       "<pre style=\"white-space:pre;overflow-x:auto;line-height:normal;font-family:Menlo,'DejaVu Sans Mono',consolas,'Courier New',monospace\">Manim Community <span style=\"color: #008000; text-decoration-color: #008000\">v0.18.0</span>\n",
       "\n",
       "</pre>\n"
      ],
      "text/plain": [
       "Manim Community \u001b[32mv0.\u001b[0m\u001b[32m18.0\u001b[0m\n",
       "\n"
      ]
     },
     "metadata": {},
     "output_type": "display_data"
    },
    {
     "name": "stderr",
     "output_type": "stream",
     "text": [
      "                                                                                                     \r"
     ]
    },
    {
     "data": {
      "text/html": [
       "<video src=\"media/jupyter/WinePrefix@2024-03-31@03-13-20.mp4\" controls autoplay loop style=\"max-width: 60%;\"  >\n",
       "      Your browser does not support the <code>video</code> element.\n",
       "    </video>"
      ],
      "text/plain": [
       "<IPython.core.display.Video object>"
      ]
     },
     "metadata": {},
     "output_type": "display_data"
    }
   ],
   "source": [
    "class WinePrefix(Scene):\n",
    "    def construct(self):\n",
    "        wine = SVGMobject(\"wine-glass.svg\", fill_opacity=0.8)\n",
    "        self.play(Write(wine))\n",
    "        self.wait(3)\n",
    "        self.play(FadeOut(wine))\n",
    "        directory = SVGMobject(\"file-directory-fill.svg\", fill_color=BLUE, stroke_color=BLUE, fill_opacity=0.6)\n",
    "        self.play(Write(directory))\n",
    "\n",
    "        package = SVGMobject(\"package.svg\", fill_color=BLUE, stroke_color=BLUE, fill_opacity=0.6)\n",
    "        package.scale(0.25)\n",
    "        package.set_opacity(0)\n",
    "        package.shift(0.4 * LEFT)\n",
    "        \n",
    "        file = SVGMobject(\"file.svg\", fill_color=BLUE, stroke_color=BLUE, fill_opacity=0.6)\n",
    "        file.scale(0.3)\n",
    "        file.shift(0.4 * LEFT)\n",
    "        file.set_opacity(0)\n",
    "        \n",
    "        files = [file]\n",
    "        file = file.copy()\n",
    "        file.shift(0.75 * RIGHT)\n",
    "        files.append(file)\n",
    "        file = file.copy()\n",
    "        file.shift(0.75 * UP)\n",
    "        files.append(file)\n",
    "        file = files[0].copy()\n",
    "        file.shift(0.75 * UP)\n",
    "        files.append(file)\n",
    "\n",
    "        files[0] = package\n",
    "\n",
    "        for file in files:\n",
    "            file_ = file.copy()\n",
    "            file_.shift(0.5 * DOWN)\n",
    "            file_.set_opacity(1)\n",
    "            self.play(Transform(file, file_), run_time=0.5)\n",
    "\n",
    "        text = Text(\"WINE prefix\")\n",
    "        text.shift(2 * DOWN)\n",
    "        self.play(Write(text))\n",
    "\n",
    "        self.wait(2)\n",
    "        self.play(FadeOut(text))\n",
    "        \n",
    "        self.wait(2)\n",
    "        self.play(files[2].animate.shift(0.025 * LEFT), run_time=0.1)\n",
    "        for x in range(4):\n",
    "            direction = RIGHT if x % 2 == 0 else LEFT\n",
    "            self.play(files[2].animate.shift(0.05 * direction), run_time=0.1)\n",
    "        self.play(files[2].animate.shift(0.025 * RIGHT), run_time=0.1)\n",
    "        \n",
    "        self.play(files[2].animate.set_fill(RED))\n",
    "        self.wait(4)\n",
    "\n",
    "%manim -qm -v WARNING WinePrefix"
   ]
  },
  {
   "cell_type": "code",
   "execution_count": null,
   "id": "3ffecb68-583e-45d1-8a8a-211f76af0300",
   "metadata": {},
   "outputs": [],
   "source": []
  }
 ],
 "metadata": {
  "kernelspec": {
   "display_name": "Python 3 (ipykernel)",
   "language": "python",
   "name": "python3"
  },
  "language_info": {
   "codemirror_mode": {
    "name": "ipython",
    "version": 3
   },
   "file_extension": ".py",
   "mimetype": "text/x-python",
   "name": "python",
   "nbconvert_exporter": "python",
   "pygments_lexer": "ipython3",
   "version": "3.11.8"
  }
 },
 "nbformat": 4,
 "nbformat_minor": 5
}
