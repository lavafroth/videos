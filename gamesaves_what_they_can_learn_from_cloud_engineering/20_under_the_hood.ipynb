{
 "cells": [
  {
   "cell_type": "code",
   "execution_count": 1,
   "id": "93e5b549-c822-4698-8ff7-f847cdf7ad30",
   "metadata": {},
   "outputs": [
    {
     "data": {
      "text/html": [
       "<pre style=\"white-space:pre;overflow-x:auto;line-height:normal;font-family:Menlo,'DejaVu Sans Mono',consolas,'Courier New',monospace\"><span style=\"color: #7fbfbf; text-decoration-color: #7fbfbf\">[04/03/24 02:27:02] </span><span style=\"color: #800000; text-decoration-color: #800000\">WARNING </span> Missing Plugins: <span style=\"font-weight: bold\">{</span><span style=\"color: #008000; text-decoration-color: #008000\">''</span><span style=\"font-weight: bold\">}</span>                                                   <a href=\"file:///usr/local/lib/python3.11/site-packages/manim/plugins/__init__.py\" target=\"_blank\"><span style=\"color: #7f7f7f; text-decoration-color: #7f7f7f\">__init__.py</span></a><span style=\"color: #7f7f7f; text-decoration-color: #7f7f7f\">:</span><a href=\"file:///usr/local/lib/python3.11/site-packages/manim/plugins/__init__.py#17\" target=\"_blank\"><span style=\"color: #7f7f7f; text-decoration-color: #7f7f7f\">17</span></a>\n",
       "</pre>\n"
      ],
      "text/plain": [
       "\u001b[2;36m[04/03/24 02:27:02]\u001b[0m\u001b[2;36m \u001b[0m\u001b[31mWARNING \u001b[0m Missing Plugins: \u001b[1m{\u001b[0m\u001b[32m''\u001b[0m\u001b[1m}\u001b[0m                                                   \u001b]8;id=428092;file:///usr/local/lib/python3.11/site-packages/manim/plugins/__init__.py\u001b\\\u001b[2m__init__.py\u001b[0m\u001b]8;;\u001b\\\u001b[2m:\u001b[0m\u001b]8;id=114241;file:///usr/local/lib/python3.11/site-packages/manim/plugins/__init__.py#17\u001b\\\u001b[2m17\u001b[0m\u001b]8;;\u001b\\\n"
      ]
     },
     "metadata": {},
     "output_type": "display_data"
    }
   ],
   "source": [
    "from manim import *"
   ]
  },
  {
   "cell_type": "code",
   "execution_count": 5,
   "id": "f37d1283-9f49-4653-87bd-8459958a3406",
   "metadata": {},
   "outputs": [
    {
     "data": {
      "text/html": [
       "<pre style=\"white-space:pre;overflow-x:auto;line-height:normal;font-family:Menlo,'DejaVu Sans Mono',consolas,'Courier New',monospace\">Manim Community <span style=\"color: #008000; text-decoration-color: #008000\">v0.18.0</span>\n",
       "\n",
       "</pre>\n"
      ],
      "text/plain": [
       "Manim Community \u001b[32mv0.\u001b[0m\u001b[32m18.0\u001b[0m\n",
       "\n"
      ]
     },
     "metadata": {},
     "output_type": "display_data"
    },
    {
     "name": "stderr",
     "output_type": "stream",
     "text": [
      "                                                                           \r"
     ]
    },
    {
     "data": {
      "text/html": [
       "<video src=\"media/jupyter/MyScene@2024-04-03@02-39-23.mp4\" controls autoplay loop style=\"max-width: 60%;\"  >\n",
       "      Your browser does not support the <code>video</code> element.\n",
       "    </video>"
      ],
      "text/plain": [
       "<IPython.core.display.Video object>"
      ]
     },
     "metadata": {},
     "output_type": "display_data"
    }
   ],
   "source": [
    "class MyScene(Scene):\n",
    "    def construct(self):\n",
    "        code = Code(code=\"\"\"  lo.uid_mappings = lo.uid_str ? read_mappings (lo.uid_str) : NULL;\n",
    "  lo.gid_mappings = lo.gid_str ? read_mappings (lo.gid_str) : NULL;\n",
    "\n",
    "  errno = 0;\n",
    "  if (lo.timeout_str)\n",
    "    {\n",
    "      lo.timeout = strtod (lo.timeout_str, NULL);\n",
    "      if (errno == ERANGE)\n",
    "        error (EXIT_FAILURE, errno, \"cannot convert %s\", lo.timeout_str);\n",
    "    }\n",
    "\n",
    "  if (lo.plugins == NULL)\n",
    "    lo.plugins = load_default_plugins ();\n",
    "\n",
    "  lo.plugins_ctx = load_plugins (lo.plugins);\n",
    "\n",
    "  layers = read_dirs (&lo, lo.lowerdir, true, NULL);\n",
    "  if (layers == NULL)\n",
    "    {\n",
    "      error (EXIT_FAILURE, errno, \"cannot read lower dirs\");\n",
    "    }\n",
    "\"\"\", language='C')[2]\n",
    "        copy_0 = code[16].copy()\n",
    "        copy_1 = code[0].copy()\n",
    "        copy_2 = code[1].copy()\n",
    "        self.play(FadeIn(code))\n",
    "        self.wait(2)\n",
    "        self.play(code.animate.set_opacity(0.75))\n",
    "        self.play(Write(copy_0))\n",
    "        self.wait(2)\n",
    "        self.play(AnimationGroup(\n",
    "            Write(copy_1), Write(copy_2)\n",
    "        ))\n",
    "        self.wait(2)\n",
    "        self.play(AnimationGroup(\n",
    "            FadeOut(code),\n",
    "            FadeOut(copy_0),\n",
    "            FadeOut(copy_1),\n",
    "            FadeOut(copy_2),\n",
    "        ))\n",
    "\n",
    "        code = Code(code=\"\"\"if (lo.workdir)\n",
    "    {\n",
    "      int dfd;\n",
    "      cleanup_free char *path = NULL;\n",
    "\n",
    "      path = realpath (lo.workdir, NULL);\n",
    "      if (path == NULL)\n",
    "        goto err_out1;\n",
    "      mkdir (path, 0700);\n",
    "      path = realloc (path, strlen (path) + strlen (\"/work\") + 1);\n",
    "      if (! path)\n",
    "        error (EXIT_FAILURE, errno, \"allocating workdir path\");\n",
    "      strcat (path, \"/work\");\n",
    "      mkdir (path, 0700);\n",
    "      // SNIP\n",
    "\"\"\", language='C')[2].shift(0.5 * LEFT)\n",
    "        copy_0 = code[5].copy()\n",
    "        copy_1 = code[9].copy()\n",
    "        copy_2 = code[12].copy()\n",
    "        self.play(FadeIn(code))\n",
    "        self.wait(2)\n",
    "        self.play(code.animate.set_opacity(0.75))\n",
    "        self.play(AnimationGroup(\n",
    "            Write(copy_0), Write(copy_1), Write(copy_2)\n",
    "        ))\n",
    "        self.wait(2)\n",
    "        self.play(AnimationGroup(\n",
    "            FadeOut(code),\n",
    "            FadeOut(copy_0),\n",
    "            FadeOut(copy_1),\n",
    "            FadeOut(copy_2),\n",
    "        ))\n",
    "        \n",
    "        code = Code(code=\"\"\"\n",
    "  umask (0);\n",
    "  disable_locking = ! lo.threaded;\n",
    "\n",
    "  se = fuse_session_new (&args, &ovl_oper, sizeof (ovl_oper), &lo);\n",
    "  lo.se = se;\n",
    "  if (se == NULL)\n",
    "    {\n",
    "      error (0, errno, \"cannot create FUSE session\");\n",
    "      goto err_out1;\n",
    "    }\n",
    "  if (fuse_set_signal_handlers (se) != 0)\n",
    "    {\n",
    "      error (0, errno, \"cannot set signal handler\");\n",
    "      goto err_out2;\n",
    "    }\n",
    "\n",
    "  signal (SIGUSR1, print_stats);\"\"\", language='C')[2].shift(0.5 * LEFT)\n",
    "        copy_0 = code[3].copy()\n",
    "        self.play(FadeIn(code))\n",
    "        self.wait(2)\n",
    "        self.play(code.animate.set_opacity(0.75))\n",
    "        self.play(\n",
    "            Write(copy_0)\n",
    "        )\n",
    "        self.wait(2)\n",
    "        self.play(AnimationGroup(\n",
    "            FadeOut(code),\n",
    "            FadeOut(copy_0),\n",
    "        ))\n",
    "%manim -qh -v WARNING MyScene"
   ]
  },
  {
   "cell_type": "code",
   "execution_count": null,
   "id": "a4ad1483-f674-4cc2-9509-e6b4ca4b8898",
   "metadata": {},
   "outputs": [],
   "source": []
  }
 ],
 "metadata": {
  "kernelspec": {
   "display_name": "Python 3 (ipykernel)",
   "language": "python",
   "name": "python3"
  },
  "language_info": {
   "codemirror_mode": {
    "name": "ipython",
    "version": 3
   },
   "file_extension": ".py",
   "mimetype": "text/x-python",
   "name": "python",
   "nbconvert_exporter": "python",
   "pygments_lexer": "ipython3",
   "version": "3.11.8"
  }
 },
 "nbformat": 4,
 "nbformat_minor": 5
}
