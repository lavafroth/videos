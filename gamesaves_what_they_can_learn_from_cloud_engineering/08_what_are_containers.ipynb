{
 "cells": [
  {
   "cell_type": "code",
   "execution_count": 2,
   "id": "0a235ade-7ca6-4757-9c97-806f4b51cb79",
   "metadata": {},
   "outputs": [
    {
     "data": {
      "text/html": [
       "<pre style=\"white-space:pre;overflow-x:auto;line-height:normal;font-family:Menlo,'DejaVu Sans Mono',consolas,'Courier New',monospace\"><span style=\"color: #7fbfbf; text-decoration-color: #7fbfbf\">[04/01/24 09:38:20] </span><span style=\"color: #800000; text-decoration-color: #800000\">WARNING </span> Missing Plugins: <span style=\"font-weight: bold\">{</span><span style=\"color: #008000; text-decoration-color: #008000\">''</span><span style=\"font-weight: bold\">}</span>                                                   <a href=\"file:///usr/local/lib/python3.11/site-packages/manim/plugins/__init__.py\" target=\"_blank\"><span style=\"color: #7f7f7f; text-decoration-color: #7f7f7f\">__init__.py</span></a><span style=\"color: #7f7f7f; text-decoration-color: #7f7f7f\">:</span><a href=\"file:///usr/local/lib/python3.11/site-packages/manim/plugins/__init__.py#17\" target=\"_blank\"><span style=\"color: #7f7f7f; text-decoration-color: #7f7f7f\">17</span></a>\n",
       "</pre>\n"
      ],
      "text/plain": [
       "\u001b[2;36m[04/01/24 09:38:20]\u001b[0m\u001b[2;36m \u001b[0m\u001b[31mWARNING \u001b[0m Missing Plugins: \u001b[1m{\u001b[0m\u001b[32m''\u001b[0m\u001b[1m}\u001b[0m                                                   \u001b]8;id=468562;file:///usr/local/lib/python3.11/site-packages/manim/plugins/__init__.py\u001b\\\u001b[2m__init__.py\u001b[0m\u001b]8;;\u001b\\\u001b[2m:\u001b[0m\u001b]8;id=541093;file:///usr/local/lib/python3.11/site-packages/manim/plugins/__init__.py#17\u001b\\\u001b[2m17\u001b[0m\u001b]8;;\u001b\\\n"
      ]
     },
     "metadata": {},
     "output_type": "display_data"
    }
   ],
   "source": [
    "from manim import *\n",
    "from difflib import SequenceMatcher\n",
    "from typing import List\n",
    "import itertools"
   ]
  },
  {
   "cell_type": "code",
   "execution_count": 3,
   "id": "4a2acd27-7305-4586-a9a1-38dcca575b0a",
   "metadata": {},
   "outputs": [],
   "source": [
    "def tokenize(code: Code, str_tokens: List[str]) -> List[VMobjectFromSVGPath|Dot]:\n",
    "    tokens = []\n",
    "    lens = [len(s) for s in str_tokens]\n",
    "    ctr = 0\n",
    "    for line in code[2]: # 0 = frame, 1 = dot, 2 = paragraph\n",
    "        current_vmobject_group = []\n",
    "        for vmobject in line:\n",
    "            head = lens[0]\n",
    "\n",
    "            if isinstance(vmobject, Dot):\n",
    "                continue\n",
    "\n",
    "            ctr += 1\n",
    "            if ctr == head + 1 and len(current_vmobject_group) > 0:\n",
    "                tokens.append(VGroup(*current_vmobject_group))\n",
    "                if len(lens) > 1:\n",
    "                    lens = lens[1:]\n",
    "                else:\n",
    "                    lens = []\n",
    "\n",
    "                ctr = 1\n",
    "                current_vmobject_group = []\n",
    "\n",
    "            current_vmobject_group.append(vmobject)\n",
    "            \n",
    "        if len(current_vmobject_group) > 0:\n",
    "            tokens.append(VGroup(*current_vmobject_group))\n",
    "    return tokens"
   ]
  },
  {
   "cell_type": "code",
   "execution_count": 9,
   "id": "2a56ab5c-737f-4de5-877e-3bdd5323f86c",
   "metadata": {},
   "outputs": [],
   "source": [
    "def rewrites(code, replacement, initial_tokens, final_tokens):\n",
    "    sequence_matcher = SequenceMatcher(None, initial_tokens, final_tokens)\n",
    "    opcodes = list(sequence_matcher.get_opcodes())\n",
    "\n",
    "    unwrites = []\n",
    "    for op, i0, i1, j0, j1 in opcodes:\n",
    "        if op == 'delete' or op == 'replace':\n",
    "            for x in range(i0, i1):\n",
    "                unwrites.append(Unwrite(code[x]))\n",
    "    \n",
    "    unwrites = AnimationGroup(*unwrites)\n",
    "\n",
    "    transforms = []\n",
    "    for op, i0, i1, j0, j1 in opcodes:\n",
    "        if op == 'equal':\n",
    "            for x, y in zip(range(i0, i1), range(j0, j1)):\n",
    "                transforms.append(Transform(code[x], replacement[y]))\n",
    "\n",
    "    transforms = AnimationGroup(*transforms)\n",
    "\n",
    "    writes = []\n",
    "    for op, i0, i1, j0, j1 in opcodes:\n",
    "        if op == 'insert' or op == 'replace':\n",
    "            for x in range(j0, j1):\n",
    "                writes.append(Write(replacement[x]))\n",
    "\n",
    "    writes = AnimationGroup(*writes, lag_ratio=0.30)\n",
    "\n",
    "    for op, i0, i1, j0, j1 in opcodes:\n",
    "        if op == 'insert' or op == 'replace':\n",
    "            for x in range(j0, j1):\n",
    "                code[x] = replacement[x]\n",
    "\n",
    "    return unwrites, transforms, writes"
   ]
  },
  {
   "cell_type": "code",
   "execution_count": null,
   "id": "f37d1283-9f49-4653-87bd-8459958a3406",
   "metadata": {},
   "outputs": [
    {
     "data": {
      "text/html": [
       "<pre style=\"white-space:pre;overflow-x:auto;line-height:normal;font-family:Menlo,'DejaVu Sans Mono',consolas,'Courier New',monospace\">Manim Community <span style=\"color: #008000; text-decoration-color: #008000\">v0.18.0</span>\n",
       "\n",
       "</pre>\n"
      ],
      "text/plain": [
       "Manim Community \u001b[32mv0.\u001b[0m\u001b[32m18.0\u001b[0m\n",
       "\n"
      ]
     },
     "metadata": {},
     "output_type": "display_data"
    },
    {
     "name": "stderr",
     "output_type": "stream",
     "text": [
      "                                                                           \r"
     ]
    }
   ],
   "source": [
    "class Intro(Scene):\n",
    "    def construct(self):\n",
    "        dead_cells = SVGMobject(\"cloud\", fill_color=BLUE, stroke_color=BLUE, fill_opacity=0.6)\n",
    "        self.play(Write(dead_cells))\n",
    "        self.wait(3)\n",
    "        self.play(dead_cells.animate.shift(2 * LEFT))\n",
    "\n",
    "        archlinux = SVGMobject(\"container\", fill_color=BLUE, stroke_color=BLUE, fill_opacity=0.6)\n",
    "        archlinux.shift(2 * RIGHT)\n",
    "        self.play(Write(archlinux))\n",
    "\n",
    "        self.wait(4)\n",
    "\n",
    "        dead_cells_ = dead_cells.copy()\n",
    "        dead_cells_.shift(2 * LEFT)\n",
    "        dead_cells_.set_opacity(0)\n",
    "\n",
    "        archlinux_ = archlinux.copy()\n",
    "        archlinux_.shift(2 * LEFT)\n",
    "        archlinux_.scale(1.2)\n",
    "        \n",
    "        self.play(AnimationGroup(\n",
    "            Transform(dead_cells, dead_cells_),\n",
    "            Transform(archlinux, archlinux_)\n",
    "        ))\n",
    "\n",
    "        self.play(archlinux.animate.shift(LEFT * 3.5))\n",
    "\n",
    "        linux = SVGMobject(\"linux\", fill_color=BLUE, stroke_color=BLUE, fill_opacity=0.6)\n",
    "        linux.shift(3.5 * RIGHT)\n",
    "\n",
    "        arrow = Arrow(start=archlinux.get_center() + 1.5 * RIGHT, end=linux.get_center() + 0.75 * LEFT)\n",
    "\n",
    "        self.play(\n",
    "            AnimationGroup(\n",
    "                FadeIn(linux),\n",
    "                FadeIn(arrow),\n",
    "            ),\n",
    "        )\n",
    "\n",
    "        self.wait(4)\n",
    "\n",
    "        unshare_calls = [\n",
    "            [\"unshare(\", \"...\", \")\"],\n",
    "            [\"unshare(\", \"CLONE_NEWNS\", \")\"],\n",
    "            [\"unshare(\", \"CLONE_NEWPID\", \")\"],\n",
    "            [\"unshare(\", \"CLONE_NEWNET\", \")\"],\n",
    "            [\"unshare(\", \"CLONE_NEWUTS\", \")\"],\n",
    "            [\"unshare(\", \"CLONE_NEWIPC\", \")\"],\n",
    "        ]\n",
    "\n",
    "        namespaces = (\n",
    "            \"mount\",\n",
    "            \"process ID\",\n",
    "            \"network\",\n",
    "            \"hostname\",\n",
    "            \"   interprocess\\ncommunication\",\n",
    "        )\n",
    "\n",
    "        namespaces = list(Text(text, font_size=28) for text in namespaces)\n",
    "        for namespace in namespaces:\n",
    "            namespace.shift(0.3 * DOWN + 0.25 * RIGHT)\n",
    "        namespaces[-1].shift(0.2 * DOWN)\n",
    "        \n",
    "        unshare_code = [\n",
    "            (Code(code=\"\".join(initial_tokens), language=\"C\", insert_line_no=False), initial_tokens)\n",
    "            for initial_tokens in unshare_calls\n",
    "        ]\n",
    "        for code, _ in unshare_code:\n",
    "            code.shift(0.3 * UP + 0.25 * RIGHT)\n",
    "\n",
    "        unshare_code = [\n",
    "            (tokenize(code, initial_code), initial_code)\n",
    "            for code, initial_code in unshare_code\n",
    "        ]\n",
    "        \n",
    "        for thing in unshare_code[0][0]:\n",
    "            self.play(Write(thing))\n",
    "\n",
    "        for x in range(1, len(unshare_code)):\n",
    "            code, initial_tokens = unshare_code[0]\n",
    "            replacement, final_tokens = unshare_code[x]\n",
    "            unwrites, transforms, writes = rewrites(code, replacement, initial_tokens, final_tokens)\n",
    "            if x - 2 > -1:\n",
    "                unwrites = AnimationGroup(unwrites, Unwrite(namespaces[x-2]))\n",
    "            self.play(unwrites)\n",
    "            self.play(transforms)\n",
    "            writes = AnimationGroup(writes, Write(namespaces[x-1]))\n",
    "            self.play(writes)\n",
    "            self.wait()\n",
    "\n",
    "        self.wait(4)\n",
    "\n",
    "%manim -qh -v WARNING Intro"
   ]
  },
  {
   "cell_type": "code",
   "execution_count": null,
   "id": "3f5f650e-b82f-432f-8012-74efe59fec21",
   "metadata": {},
   "outputs": [],
   "source": []
  }
 ],
 "metadata": {
  "kernelspec": {
   "display_name": "Python 3 (ipykernel)",
   "language": "python",
   "name": "python3"
  },
  "language_info": {
   "codemirror_mode": {
    "name": "ipython",
    "version": 3
   },
   "file_extension": ".py",
   "mimetype": "text/x-python",
   "name": "python",
   "nbconvert_exporter": "python",
   "pygments_lexer": "ipython3",
   "version": "3.11.8"
  }
 },
 "nbformat": 4,
 "nbformat_minor": 5
}
