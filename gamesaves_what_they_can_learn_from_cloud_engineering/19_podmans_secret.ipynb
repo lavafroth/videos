{
 "cells": [
  {
   "cell_type": "code",
   "execution_count": 6,
   "id": "93e5b549-c822-4698-8ff7-f847cdf7ad30",
   "metadata": {},
   "outputs": [],
   "source": [
    "from manim import *"
   ]
  },
  {
   "cell_type": "code",
   "execution_count": null,
   "id": "f37d1283-9f49-4653-87bd-8459958a3406",
   "metadata": {},
   "outputs": [
    {
     "data": {
      "text/html": [
       "<pre style=\"white-space:pre;overflow-x:auto;line-height:normal;font-family:Menlo,'DejaVu Sans Mono',consolas,'Courier New',monospace\">Manim Community <span style=\"color: #008000; text-decoration-color: #008000\">v0.18.0</span>\n",
       "\n",
       "</pre>\n"
      ],
      "text/plain": [
       "Manim Community \u001b[32mv0.\u001b[0m\u001b[32m18.0\u001b[0m\n",
       "\n"
      ]
     },
     "metadata": {},
     "output_type": "display_data"
    },
    {
     "name": "stderr",
     "output_type": "stream",
     "text": [
      "Animation 9: FadeOut(Text('Filesystems in the Userspace')):  82%|▊| 49/60 ["
     ]
    }
   ],
   "source": [
    "class MyScene(Scene):\n",
    "    def construct(self):\n",
    "        text = (\n",
    "            Text(\"Filesystems in the Userspace\")\n",
    "            .to_edge(UP)\n",
    "        )\n",
    "        self.wait(4)\n",
    "        user = SVGMobject(\"user\", fill_color=BLUE, stroke_color=BLUE, fill_opacity=0.6)\n",
    "        disk = SVGMobject(\"disk\", fill_color=BLUE, stroke_color=BLUE, fill_opacity=0.6).scale(0.3).shift(0.5 * DOWN)\n",
    "        self.play(AnimationGroup(\n",
    "            Write(text),\n",
    "            Write(user),\n",
    "            Write(disk)\n",
    "        ))\n",
    "        self.wait()\n",
    "        _text = Text(\"FUSE\", font_size=50)\n",
    "        self.play(AnimationGroup(\n",
    "            Transform(text, _text),\n",
    "            FadeOut(user),\n",
    "            FadeOut(disk),\n",
    "        ))\n",
    "        self.wait(4)\n",
    "        podman = SVGMobject(\"podman\", fill_opacity=0.6).shift(4 * LEFT)\n",
    "        _text = Text(\"fuse-overlayfs\", font=\"monospace\").shift(2.8 * RIGHT)\n",
    "        arrow = Arrow(start=podman.get_center() + RIGHT, end=_text.get_center() + 2.6 * LEFT)\n",
    "        self.play(AnimationGroup(\n",
    "            FadeIn(podman),\n",
    "            Transform(text, _text),\n",
    "            Create(arrow)\n",
    "        ))\n",
    "        self.wait(4)\n",
    "        self.play(AnimationGroup(\n",
    "            FadeOut(podman),\n",
    "            FadeOut(arrow),\n",
    "            text.animate.shift(2.8 * LEFT),\n",
    "        ))\n",
    "        self.wait(6)\n",
    "        self.play(\n",
    "            FadeOut(text),\n",
    "        )\n",
    "%manim -qh -v WARNING MyScene"
   ]
  },
  {
   "cell_type": "code",
   "execution_count": null,
   "id": "574db496-c608-4964-8289-c253e9b5ee58",
   "metadata": {},
   "outputs": [],
   "source": []
  }
 ],
 "metadata": {
  "kernelspec": {
   "display_name": "Python 3 (ipykernel)",
   "language": "python",
   "name": "python3"
  },
  "language_info": {
   "codemirror_mode": {
    "name": "ipython",
    "version": 3
   },
   "file_extension": ".py",
   "mimetype": "text/x-python",
   "name": "python",
   "nbconvert_exporter": "python",
   "pygments_lexer": "ipython3",
   "version": "3.11.8"
  }
 },
 "nbformat": 4,
 "nbformat_minor": 5
}
