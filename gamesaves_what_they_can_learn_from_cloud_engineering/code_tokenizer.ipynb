{
 "cells": [
  {
   "cell_type": "code",
   "execution_count": 9,
   "id": "cfcc9621-945c-475e-8e67-cbfe8c5bf69a",
   "metadata": {},
   "outputs": [
    {
     "data": {
      "text/html": [
       "<pre style=\"white-space:pre;overflow-x:auto;line-height:normal;font-family:Menlo,'DejaVu Sans Mono',consolas,'Courier New',monospace\"><span style=\"color: #7fbfbf; text-decoration-color: #7fbfbf\">[03/27/24 12:26:03] </span><span style=\"color: #800000; text-decoration-color: #800000\">WARNING </span> Missing Plugins: <span style=\"font-weight: bold\">{</span><span style=\"color: #008000; text-decoration-color: #008000\">''</span><span style=\"font-weight: bold\">}</span>                                                   <a href=\"file:///usr/local/lib/python3.11/site-packages/manim/plugins/__init__.py\" target=\"_blank\"><span style=\"color: #7f7f7f; text-decoration-color: #7f7f7f\">__init__.py</span></a><span style=\"color: #7f7f7f; text-decoration-color: #7f7f7f\">:</span><a href=\"file:///usr/local/lib/python3.11/site-packages/manim/plugins/__init__.py#17\" target=\"_blank\"><span style=\"color: #7f7f7f; text-decoration-color: #7f7f7f\">17</span></a>\n",
       "</pre>\n"
      ],
      "text/plain": [
       "\u001b[2;36m[03/27/24 12:26:03]\u001b[0m\u001b[2;36m \u001b[0m\u001b[31mWARNING \u001b[0m Missing Plugins: \u001b[1m{\u001b[0m\u001b[32m''\u001b[0m\u001b[1m}\u001b[0m                                                   \u001b]8;id=216657;file:///usr/local/lib/python3.11/site-packages/manim/plugins/__init__.py\u001b\\\u001b[2m__init__.py\u001b[0m\u001b]8;;\u001b\\\u001b[2m:\u001b[0m\u001b]8;id=192968;file:///usr/local/lib/python3.11/site-packages/manim/plugins/__init__.py#17\u001b\\\u001b[2m17\u001b[0m\u001b]8;;\u001b\\\n"
      ]
     },
     "metadata": {},
     "output_type": "display_data"
    }
   ],
   "source": [
    "from manim import *\n",
    "import difflib"
   ]
  },
  {
   "cell_type": "code",
   "execution_count": 14,
   "id": "b4fd7c4f-7d3b-449b-a78a-23edbf250114",
   "metadata": {},
   "outputs": [],
   "source": [
    "def tokenize(code: Code) -> List[VMobjectFromSVGPath|Dot]:\n",
    "    tokens = []\n",
    "    for line in code[2]: # 0 = frame, 1 = dot, 2 = paragraph\n",
    "        current_vmobject_group = []\n",
    "        for vmobject in line:\n",
    "            if isinstance(vmobject, Dot):\n",
    "                if len(current_vmobject_group) > 0:\n",
    "                    tokens.append(VGroup(*current_vmobject_group))\n",
    "                    current_vmobject_group = []\n",
    "\n",
    "                # vmobject is a brace or a dot\n",
    "                tokens.append(vmobject)\n",
    "                continue\n",
    "\n",
    "            current_vmobject_group.append(vmobject)\n",
    "            \n",
    "        if len(current_vmobject_group) > 0:\n",
    "            tokens.append(VGroup(*current_vmobject_group))\n",
    "\n",
    "    return tokens"
   ]
  },
  {
   "cell_type": "code",
   "execution_count": 3,
   "id": "a2222161-025b-4ab6-867a-ad1524946c7b",
   "metadata": {},
   "outputs": [],
   "source": [
    "rust_code = \"\"\"impl From<u64> for Health {\n",
    "  fn from(bitfield: u64) -> Health {\n",
    "    // ...\n",
    "  }\n",
    "}\"\"\""
   ]
  },
  {
   "cell_type": "code",
   "execution_count": 12,
   "id": "0148d88d-84ed-4a97-a65c-aac6fd0bdf62",
   "metadata": {},
   "outputs": [
    {
     "data": {
      "text/html": [
       "<pre style=\"white-space:pre;overflow-x:auto;line-height:normal;font-family:Menlo,'DejaVu Sans Mono',consolas,'Courier New',monospace\">Manim Community <span style=\"color: #008000; text-decoration-color: #008000\">v0.18.0</span>\n",
       "\n",
       "</pre>\n"
      ],
      "text/plain": [
       "Manim Community \u001b[32mv0.\u001b[0m\u001b[32m18.0\u001b[0m\n",
       "\n"
      ]
     },
     "metadata": {},
     "output_type": "display_data"
    },
    {
     "name": "stderr",
     "output_type": "stream",
     "text": [
      "                                                                           \r"
     ]
    },
    {
     "data": {
      "text/html": [
       "<video src=\"media/jupyter/CodeBlock@2024-03-27@10-49-51.mp4\" controls autoplay loop style=\"max-width: 60%;\"  >\n",
       "      Your browser does not support the <code>video</code> element.\n",
       "    </video>"
      ],
      "text/plain": [
       "<IPython.core.display.Video object>"
      ]
     },
     "metadata": {},
     "output_type": "display_data"
    }
   ],
   "source": [
    "%%manim -qm -v WARNING CodeBlock\n",
    "\n",
    "class CodeBlock(Scene):\n",
    "    def construct(self):\n",
    "        impl_body = Code(code=rust_code, language=\"rust\", insert_line_no=False)\n",
    "        tokens = tokenize(impl_body)\n",
    "\n",
    "        for token in tokens:\n",
    "            token_anim = Write(token)\n",
    "            self.play(ChangeSpeed(\n",
    "                token_anim,\n",
    "                speedinfo={0:3},\n",
    "                rate_func=linear\n",
    "            ))"
   ]
  },
  {
   "cell_type": "code",
   "execution_count": 5,
   "id": "06706aa4-d2fd-47eb-abf3-6fecb0821b17",
   "metadata": {},
   "outputs": [],
   "source": [
    "rust_code = \"\"\"impl From<u64> for Health {\n",
    "  fn from(bitfield: u64) -> Health {\n",
    "    // ...\n",
    "  }\n",
    "}\"\"\"\n",
    "\n",
    "token_replacements = \"\"\"impl TryFrom<u64> for Health {\n",
    "  type Error = anyhow::Error;\n",
    "  fn from(bitfield: u64) -> Result<Self, Self::Error> {\n",
    "    // ...\n",
    "  }\n",
    "}\"\"\"\n"
   ]
  },
  {
   "cell_type": "code",
   "execution_count": 33,
   "id": "1b8fa27d-aee2-4068-83d8-1956e0a5aedc",
   "metadata": {},
   "outputs": [
    {
     "data": {
      "text/html": [
       "<pre style=\"white-space:pre;overflow-x:auto;line-height:normal;font-family:Menlo,'DejaVu Sans Mono',consolas,'Courier New',monospace\">Manim Community <span style=\"color: #008000; text-decoration-color: #008000\">v0.18.0</span>\n",
       "\n",
       "</pre>\n"
      ],
      "text/plain": [
       "Manim Community \u001b[32mv0.\u001b[0m\u001b[32m18.0\u001b[0m\n",
       "\n"
      ]
     },
     "metadata": {},
     "output_type": "display_data"
    },
    {
     "name": "stderr",
     "output_type": "stream",
     "text": [
      "                                                                           \r"
     ]
    },
    {
     "data": {
      "text/html": [
       "<video src=\"media/jupyter/CodeBlock@2024-03-27@12-05-51.mp4\" controls autoplay loop style=\"max-width: 60%;\"  >\n",
       "      Your browser does not support the <code>video</code> element.\n",
       "    </video>"
      ],
      "text/plain": [
       "<IPython.core.display.Video object>"
      ]
     },
     "metadata": {},
     "output_type": "display_data"
    }
   ],
   "source": [
    "%%manim -qm -v WARNING CodeBlock\n",
    "\n",
    "class CodeBlock(Scene):\n",
    "    def construct(self):\n",
    "        code = tokenize(Code(code=rust_code, language=\"rust\", insert_line_no=False))\n",
    "        replacement_code = tokenize(Code(code=token_replacements, language=\"rust\", insert_line_no=False))\n",
    "        for token in code:\n",
    "            anim = Write(token)\n",
    "            sped_up = ChangeSpeed(\n",
    "                anim,\n",
    "                speedinfo={0:3},\n",
    "                rate_func=linear\n",
    "            )\n",
    "            self.play(sped_up)\n",
    "\n",
    "        for token, replacement in zip(code, replacement_code):\n",
    "            anim = Transform(token, replacement)\n",
    "            sped_up = ChangeSpeed(\n",
    "                anim,\n",
    "                speedinfo={0:3},\n",
    "                rate_func=linear\n",
    "            )\n",
    "            self.play(sped_up)\n",
    "        self.wait()"
   ]
  },
  {
   "cell_type": "code",
   "execution_count": 36,
   "id": "734092e7-4957-48ea-a953-48807be020d2",
   "metadata": {},
   "outputs": [],
   "source": [
    "rust_code = \"impl From<u64> for Health {\"\n",
    "token_replacements = \"impl TryFrom<u64> for Health {\""
   ]
  },
  {
   "cell_type": "code",
   "execution_count": 24,
   "id": "4ac419ab-a22b-4ce2-9cc7-9193540ab1b5",
   "metadata": {},
   "outputs": [],
   "source": [
    "from dataclasses import dataclass\n",
    "@dataclass\n",
    "class CodeVGroup:\n",
    "    raw: str\n",
    "    vg: VGroup\n",
    "    rendered: bool\n",
    "\n",
    "def tokenize_from_str(s: str, language=\"rust\"):\n",
    "    tokens = s.split()\n",
    "    code = Code(code=s, language=language, insert_line_no=False)\n",
    "\n",
    "    tokenized_code = list(filter(lambda x: isinstance(x, VGroup), tokenize(code)))\n",
    "    vgmap = [CodeVGroup(raw, vg, False) for raw, vg in zip(tokens, tokenized_code)]\n",
    "\n",
    "    return vgmap"
   ]
  },
  {
   "cell_type": "code",
   "execution_count": 37,
   "id": "1bea22c7-a034-4536-9699-f85a8dfcccee",
   "metadata": {},
   "outputs": [],
   "source": [
    "def common_tokens(a: str, b: str):\n",
    "    l_stack = a.split()\n",
    "    r_stack = b.split()\n",
    "    l_ptr = 0\n",
    "    r_ptr = 0\n",
    "    l_list = []\n",
    "    r_list = []\n",
    "    \n",
    "    while l_ptr < len(l_stack) - 1 or r_ptr < len(r_stack) - 1:\n",
    "        if l_stack[l_ptr] == r_stack[r_ptr]:\n",
    "            l_list.append(l_ptr)\n",
    "            r_list.append(r_ptr)\n",
    "            l_ptr += 1\n",
    "            r_ptr += 1\n",
    "            continue\n",
    "        old_r_ptr = r_ptr\n",
    "        while r_ptr < len(r_stack):\n",
    "            if r_stack[r_ptr] == l_stack[l_ptr]:\n",
    "                l_list.append(l_ptr)\n",
    "                r_list.append(r_ptr)\n",
    "                l_ptr += 1\n",
    "                r_ptr += 1\n",
    "                break\n",
    "            r_ptr += 1\n",
    "        if r_ptr == len(r_stack):\n",
    "            r_ptr = old_r_ptr\n",
    "            l_ptr += 1\n",
    "    return l_list, r_list"
   ]
  },
  {
   "cell_type": "code",
   "execution_count": 38,
   "id": "d5a16310-6c3f-4514-a0a5-56ccc178c137",
   "metadata": {},
   "outputs": [
    {
     "data": {
      "text/plain": [
       "([0, 2, 3, 4, 5, 6, 7, 8, 10, 11, 12, 13],\n",
       " [0, 2, 3, 4, 9, 10, 11, 12, 15, 16, 17, 18])"
      ]
     },
     "execution_count": 38,
     "metadata": {},
     "output_type": "execute_result"
    }
   ],
   "source": [
    "common_tokens(rust_code, token_replacements)"
   ]
  },
  {
   "cell_type": "code",
   "execution_count": null,
   "id": "69f3d499-a175-4eb3-9742-c7630e82718d",
   "metadata": {},
   "outputs": [
    {
     "data": {
      "text/html": [
       "<pre style=\"white-space:pre;overflow-x:auto;line-height:normal;font-family:Menlo,'DejaVu Sans Mono',consolas,'Courier New',monospace\">Manim Community <span style=\"color: #008000; text-decoration-color: #008000\">v0.18.0</span>\n",
       "\n",
       "</pre>\n"
      ],
      "text/plain": [
       "Manim Community \u001b[32mv0.\u001b[0m\u001b[32m18.0\u001b[0m\n",
       "\n"
      ]
     },
     "metadata": {},
     "output_type": "display_data"
    },
    {
     "name": "stderr",
     "output_type": "stream",
     "text": [
      "                                                                           "
     ]
    }
   ],
   "source": [
    "%%manim -qm -v WARNING CodeBlock\n",
    "\n",
    "class CodeBlock(Scene):\n",
    "    def construct(self):\n",
    "        code = tokenize(Code(code=rust_code, language=\"rust\", insert_line_no=False))\n",
    "        replacement_code = tokenize(Code(code=token_replacements, language=\"rust\", insert_line_no=False))\n",
    "        for token in code:\n",
    "            anim = Write(token)\n",
    "            sped_up = ChangeSpeed(\n",
    "                anim,\n",
    "                speedinfo={0:3},\n",
    "                rate_func=linear\n",
    "            )\n",
    "            self.play(sped_up)\n",
    "\n",
    "        tokenized_code = list(filter(lambda x: isinstance(x, VGroup), code))\n",
    "        tokenized_rep = list(filter(lambda x: isinstance(x, VGroup), replacement_code))\n",
    "\n",
    "        l_list, r_list = common_tokens(rust_code, token_replacements)\n",
    "\n",
    "        for i, x in enumerate(tokenized_code):\n",
    "            if i not in l_list:\n",
    "                anim = Unwrite(x)\n",
    "                sped_up = ChangeSpeed(\n",
    "                    anim,\n",
    "                    speedinfo={0:3},\n",
    "                    rate_func=linear\n",
    "                )\n",
    "                self.play(sped_up)\n",
    "\n",
    "        for a, b in zip(l_list, r_list):\n",
    "            anim = Transform(tokenized_code[a], tokenized_rep[b])\n",
    "            sped_up = ChangeSpeed(\n",
    "                anim,\n",
    "                speedinfo={0:3},\n",
    "                rate_func=linear\n",
    "            )\n",
    "            self.play(sped_up)\n",
    "\n",
    "        for i, x in enumerate(tokenized_rep):\n",
    "            if i not in r_list:\n",
    "                anim = Write(x)\n",
    "                sped_up = ChangeSpeed(\n",
    "                    anim,\n",
    "                    speedinfo={0:3},\n",
    "                    rate_func=linear\n",
    "                )\n",
    "                self.play(sped_up)\n",
    "        self.wait()"
   ]
  },
  {
   "cell_type": "code",
   "execution_count": null,
   "id": "8148d6ea-7c3b-4523-a2cf-b15490216534",
   "metadata": {},
   "outputs": [],
   "source": []
  }
 ],
 "metadata": {
  "kernelspec": {
   "display_name": "Python 3 (ipykernel)",
   "language": "python",
   "name": "python3"
  },
  "language_info": {
   "codemirror_mode": {
    "name": "ipython",
    "version": 3
   },
   "file_extension": ".py",
   "mimetype": "text/x-python",
   "name": "python",
   "nbconvert_exporter": "python",
   "pygments_lexer": "ipython3",
   "version": "3.11.8"
  }
 },
 "nbformat": 4,
 "nbformat_minor": 5
}
