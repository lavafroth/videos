{
 "cells": [
  {
   "cell_type": "code",
   "execution_count": 1,
   "id": "93e5b549-c822-4698-8ff7-f847cdf7ad30",
   "metadata": {},
   "outputs": [
    {
     "data": {
      "text/html": [
       "<pre style=\"white-space:pre;overflow-x:auto;line-height:normal;font-family:Menlo,'DejaVu Sans Mono',consolas,'Courier New',monospace\"><span style=\"color: #7fbfbf; text-decoration-color: #7fbfbf\">[04/02/24 12:12:22] </span><span style=\"color: #800000; text-decoration-color: #800000\">WARNING </span> Missing Plugins: <span style=\"font-weight: bold\">{</span><span style=\"color: #008000; text-decoration-color: #008000\">''</span><span style=\"font-weight: bold\">}</span>                                                   <a href=\"file:///usr/local/lib/python3.11/site-packages/manim/plugins/__init__.py\" target=\"_blank\"><span style=\"color: #7f7f7f; text-decoration-color: #7f7f7f\">__init__.py</span></a><span style=\"color: #7f7f7f; text-decoration-color: #7f7f7f\">:</span><a href=\"file:///usr/local/lib/python3.11/site-packages/manim/plugins/__init__.py#17\" target=\"_blank\"><span style=\"color: #7f7f7f; text-decoration-color: #7f7f7f\">17</span></a>\n",
       "</pre>\n"
      ],
      "text/plain": [
       "\u001b[2;36m[04/02/24 12:12:22]\u001b[0m\u001b[2;36m \u001b[0m\u001b[31mWARNING \u001b[0m Missing Plugins: \u001b[1m{\u001b[0m\u001b[32m''\u001b[0m\u001b[1m}\u001b[0m                                                   \u001b]8;id=934938;file:///usr/local/lib/python3.11/site-packages/manim/plugins/__init__.py\u001b\\\u001b[2m__init__.py\u001b[0m\u001b]8;;\u001b\\\u001b[2m:\u001b[0m\u001b]8;id=105338;file:///usr/local/lib/python3.11/site-packages/manim/plugins/__init__.py#17\u001b\\\u001b[2m17\u001b[0m\u001b]8;;\u001b\\\n"
      ]
     },
     "metadata": {},
     "output_type": "display_data"
    }
   ],
   "source": [
    "from manim import *"
   ]
  },
  {
   "cell_type": "code",
   "execution_count": null,
   "id": "f37d1283-9f49-4653-87bd-8459958a3406",
   "metadata": {},
   "outputs": [
    {
     "data": {
      "text/html": [
       "<pre style=\"white-space:pre;overflow-x:auto;line-height:normal;font-family:Menlo,'DejaVu Sans Mono',consolas,'Courier New',monospace\">Manim Community <span style=\"color: #008000; text-decoration-color: #008000\">v0.18.0</span>\n",
       "\n",
       "</pre>\n"
      ],
      "text/plain": [
       "Manim Community \u001b[32mv0.\u001b[0m\u001b[32m18.0\u001b[0m\n",
       "\n"
      ]
     },
     "metadata": {},
     "output_type": "display_data"
    },
    {
     "name": "stderr",
     "output_type": "stream",
     "text": [
      "Animation 7: FadeOut(Paragraph of 2 submobjects):  43%|█████▏      | 26/60 [00:01<00:02, 13.81it/s]"
     ]
    }
   ],
   "source": [
    "class MyScene(Scene):\n",
    "    def construct(self):\n",
    "        text = (\n",
    "            Paragraph(\"If podman can run rootless containers,\\nhow does it mount an overlay?\", alignment=\"center\")\n",
    "            .to_edge(UP)\n",
    "        )\n",
    "        self.play(Write(text))\n",
    "\n",
    "        lowerdir = Square(color=BLUE, fill_opacity=0.6).shift(3 * DOWN).rotate(PI / 4)\n",
    "        lowerdir.apply_function(lambda p: np.array([\n",
    "            p[0],\n",
    "            p[1] * 0.5,\n",
    "            0\n",
    "        ]))\n",
    "        upperdir = lowerdir.copy().set_fill(TEAL).set_stroke(TEAL).shift(UP)\n",
    "        workdir = upperdir.copy().set_fill(YELLOW).set_stroke(YELLOW).shift(UP)\n",
    "\n",
    "        self.play(AnimationGroup(\n",
    "            Create(lowerdir),\n",
    "            Create(upperdir),\n",
    "            Create(workdir),\n",
    "        ))\n",
    "\n",
    "        lowerdir_path = ArcBetweenPoints(lowerdir.get_center(), workdir.get_center(), angle=PI, stroke_width=8)\n",
    "        workdir_path = ArcBetweenPoints(workdir.get_center(), upperdir.get_center(), angle=-PI, stroke_width=8)\n",
    "        upperdir_path = ArcBetweenPoints(upperdir.get_center(), lowerdir.get_center(), angle=PI, stroke_width=8)\n",
    "        self.play(AnimationGroup(\n",
    "            MoveAlongPath(lowerdir, lowerdir_path),\n",
    "            MoveAlongPath(upperdir, upperdir_path),\n",
    "            MoveAlongPath(workdir, workdir_path),\n",
    "\n",
    "            lag_ratio=0.5\n",
    "         ))\n",
    "        q_l = Text('?').move_to(lowerdir.get_center())\n",
    "        q_u = Text('?').move_to(upperdir.get_center())\n",
    "        q_w = Text('?').move_to(workdir.get_center())\n",
    "        self.play(AnimationGroup(\n",
    "            Transform(lowerdir, q_l),\n",
    "            Transform(upperdir, q_u),\n",
    "            Transform(workdir,  q_w)\n",
    "        ))\n",
    "        self.play(AnimationGroup(\n",
    "            Transform(lowerdir, workdir),\n",
    "            Transform(upperdir, workdir)\n",
    "        ))\n",
    "        self.play(AnimationGroup(FadeOut(lowerdir),FadeOut(upperdir), FadeOut(workdir)))\n",
    "        self.wait(3)\n",
    "        self.play(FadeOut(text))\n",
    "\n",
    "%manim -qh -v WARNING MyScene"
   ]
  },
  {
   "cell_type": "code",
   "execution_count": null,
   "id": "886ddfec-c856-4ddd-aa05-9378f2c999a5",
   "metadata": {},
   "outputs": [],
   "source": []
  }
 ],
 "metadata": {
  "kernelspec": {
   "display_name": "Python 3 (ipykernel)",
   "language": "python",
   "name": "python3"
  },
  "language_info": {
   "codemirror_mode": {
    "name": "ipython",
    "version": 3
   },
   "file_extension": ".py",
   "mimetype": "text/x-python",
   "name": "python",
   "nbconvert_exporter": "python",
   "pygments_lexer": "ipython3",
   "version": "3.11.8"
  }
 },
 "nbformat": 4,
 "nbformat_minor": 5
}
