{
 "cells": [
  {
   "cell_type": "code",
   "execution_count": 3,
   "id": "cfcc9621-945c-475e-8e67-cbfe8c5bf69a",
   "metadata": {},
   "outputs": [
    {
     "data": {
      "text/html": [
       "<pre style=\"white-space:pre;overflow-x:auto;line-height:normal;font-family:Menlo,'DejaVu Sans Mono',consolas,'Courier New',monospace\"><span style=\"color: #7fbfbf; text-decoration-color: #7fbfbf\">[04/02/24 07:38:08] </span><span style=\"color: #800000; text-decoration-color: #800000\">WARNING </span> Missing Plugins: <span style=\"font-weight: bold\">{</span><span style=\"color: #008000; text-decoration-color: #008000\">''</span><span style=\"font-weight: bold\">}</span>                                                   <a href=\"file:///usr/local/lib/python3.11/site-packages/manim/plugins/__init__.py\" target=\"_blank\"><span style=\"color: #7f7f7f; text-decoration-color: #7f7f7f\">__init__.py</span></a><span style=\"color: #7f7f7f; text-decoration-color: #7f7f7f\">:</span><a href=\"file:///usr/local/lib/python3.11/site-packages/manim/plugins/__init__.py#17\" target=\"_blank\"><span style=\"color: #7f7f7f; text-decoration-color: #7f7f7f\">17</span></a>\n",
       "</pre>\n"
      ],
      "text/plain": [
       "\u001b[2;36m[04/02/24 07:38:08]\u001b[0m\u001b[2;36m \u001b[0m\u001b[31mWARNING \u001b[0m Missing Plugins: \u001b[1m{\u001b[0m\u001b[32m''\u001b[0m\u001b[1m}\u001b[0m                                                   \u001b]8;id=820989;file:///usr/local/lib/python3.11/site-packages/manim/plugins/__init__.py\u001b\\\u001b[2m__init__.py\u001b[0m\u001b]8;;\u001b\\\u001b[2m:\u001b[0m\u001b]8;id=685267;file:///usr/local/lib/python3.11/site-packages/manim/plugins/__init__.py#17\u001b\\\u001b[2m17\u001b[0m\u001b]8;;\u001b\\\n"
      ]
     },
     "metadata": {},
     "output_type": "display_data"
    }
   ],
   "source": [
    "from manim import *"
   ]
  },
  {
   "cell_type": "code",
   "execution_count": 10,
   "id": "69f3d499-a175-4eb3-9742-c7630e82718d",
   "metadata": {},
   "outputs": [
    {
     "data": {
      "text/html": [
       "<pre style=\"white-space:pre;overflow-x:auto;line-height:normal;font-family:Menlo,'DejaVu Sans Mono',consolas,'Courier New',monospace\">Manim Community <span style=\"color: #008000; text-decoration-color: #008000\">v0.18.0</span>\n",
       "\n",
       "</pre>\n"
      ],
      "text/plain": [
       "Manim Community \u001b[32mv0.\u001b[0m\u001b[32m18.0\u001b[0m\n",
       "\n"
      ]
     },
     "metadata": {},
     "output_type": "display_data"
    },
    {
     "name": "stderr",
     "output_type": "stream",
     "text": [
      "                                                                                                     \r"
     ]
    },
    {
     "data": {
      "text/html": [
       "<video src=\"media/jupyter/CodeBlock@2024-04-02@07-50-13.mp4\" controls autoplay loop style=\"max-width: 60%;\"  >\n",
       "      Your browser does not support the <code>video</code> element.\n",
       "    </video>"
      ],
      "text/plain": [
       "<IPython.core.display.Video object>"
      ]
     },
     "metadata": {},
     "output_type": "display_data"
    }
   ],
   "source": [
    "%%manim -ql -v WARNING CodeBlock\n",
    "\n",
    "def str_to_text_mobject(i: int, s: Text):\n",
    "    shift = i * 0.5 * DOWN\n",
    "    return s.to_edge(UL).shift(shift)\n",
    "\n",
    "class CodeBlock(Scene):\n",
    "    def construct(self):\n",
    "        drawables = [\n",
    "            Text(\"fuse-overlayfs \\\\\", font_size=\"28\", font=\"monospace\"),\n",
    "            Text(\"-o lowerdir=lowerdir,upperdir=upperdir,work=work game\", t2c={\"upperdir\": TEAL, \"work\":YELLOW, \"lowerdir\": BLUE}, font_size=\"28\", font=\"monospace\"),\n",
    "        ]\n",
    "        drawables = [\n",
    "            str_to_text_mobject(i, s)\n",
    "            for i, s in enumerate(drawables)\n",
    "        ]\n",
    "        for i, drawable in enumerate(drawables):\n",
    "            self.play(Write(drawable))\n",
    "        self.wait(2)\n",
    "        \n",
    "        horizontal_line = DashedLine(start=np.array([-8, 2.25, 0]), end=np.array([8, 2.25, 0]), color=GRAY)\n",
    "        self.play(Create(horizontal_line))\n",
    "\n",
    "        lowerdir = Square(color=BLUE, fill_opacity=0.6).shift(3 * DOWN).rotate(PI / 4)\n",
    "        lowerdir.apply_function(lambda p: np.array([\n",
    "            p[0],\n",
    "            p[1] * 0.5,\n",
    "            0\n",
    "        ]))\n",
    "        upperdir = lowerdir.copy().set_fill(TEAL).set_stroke(TEAL).shift(UP)\n",
    "        workdir = upperdir.copy().set_fill(YELLOW).set_stroke(YELLOW).shift(UP)\n",
    "\n",
    "        self.play(AnimationGroup(\n",
    "            Create(lowerdir),\n",
    "            Create(upperdir),\n",
    "            Create(workdir),\n",
    "        ))\n",
    "\n",
    "        mergeddir = upperdir.copy().set_fill(WHITE).set_stroke(WHITE)\n",
    "\n",
    "        self.play(\n",
    "            AnimationGroup(\n",
    "                Transform(lowerdir, mergeddir),\n",
    "                Transform(upperdir, mergeddir),\n",
    "                Transform(workdir, mergeddir),\n",
    "            )\n",
    "        )\n",
    "\n",
    "        self.wait(4)"
   ]
  },
  {
   "cell_type": "code",
   "execution_count": null,
   "id": "6964e09a-dbd8-4907-a20f-4767b78d0b79",
   "metadata": {},
   "outputs": [],
   "source": []
  }
 ],
 "metadata": {
  "kernelspec": {
   "display_name": "Python 3 (ipykernel)",
   "language": "python",
   "name": "python3"
  },
  "language_info": {
   "codemirror_mode": {
    "name": "ipython",
    "version": 3
   },
   "file_extension": ".py",
   "mimetype": "text/x-python",
   "name": "python",
   "nbconvert_exporter": "python",
   "pygments_lexer": "ipython3",
   "version": "3.11.8"
  }
 },
 "nbformat": 4,
 "nbformat_minor": 5
}
