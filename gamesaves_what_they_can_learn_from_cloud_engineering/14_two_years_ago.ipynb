{
 "cells": [
  {
   "cell_type": "code",
   "execution_count": null,
   "id": "cfcc9621-945c-475e-8e67-cbfe8c5bf69a",
   "metadata": {},
   "outputs": [],
   "source": [
    "from manim import *"
   ]
  },
  {
   "cell_type": "code",
   "execution_count": null,
   "id": "69f3d499-a175-4eb3-9742-c7630e82718d",
   "metadata": {},
   "outputs": [],
   "source": [
    "%%manim -qh -v WARNING CodeBlock\n",
    "class CodeBlock(Scene):\n",
    "    def construct(self):\n",
    "        clock = SVGMobject(\"clock\", fill_color=BLUE, stroke_color=BLUE, fill_opacity=0.6)\n",
    "        self.play(Write(clock))\n",
    "        self.wait(4)\n",
    "        self.play(FadeOut(clock))"
   ]
  },
  {
   "cell_type": "code",
   "execution_count": null,
   "id": "f97c8ffe-76ff-4694-baea-a3ec34890047",
   "metadata": {},
   "outputs": [],
   "source": []
  }
 ],
 "metadata": {
  "kernelspec": {
   "display_name": "Python 3 (ipykernel)",
   "language": "python",
   "name": "python3"
  },
  "language_info": {
   "codemirror_mode": {
    "name": "ipython",
    "version": 3
   },
   "file_extension": ".py",
   "mimetype": "text/x-python",
   "name": "python",
   "nbconvert_exporter": "python",
   "pygments_lexer": "ipython3",
   "version": "3.11.8"
  }
 },
 "nbformat": 4,
 "nbformat_minor": 5
}
