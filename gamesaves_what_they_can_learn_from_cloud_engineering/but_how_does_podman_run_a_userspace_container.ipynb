{
 "cells": [
  {
   "cell_type": "code",
   "execution_count": 2,
   "id": "cfcc9621-945c-475e-8e67-cbfe8c5bf69a",
   "metadata": {},
   "outputs": [
    {
     "data": {
      "text/html": [
       "<pre style=\"white-space:pre;overflow-x:auto;line-height:normal;font-family:Menlo,'DejaVu Sans Mono',consolas,'Courier New',monospace\"><span style=\"color: #7fbfbf; text-decoration-color: #7fbfbf\">[03/28/24 06:31:37] </span><span style=\"color: #800000; text-decoration-color: #800000\">WARNING </span> Missing Plugins: <span style=\"font-weight: bold\">{</span><span style=\"color: #008000; text-decoration-color: #008000\">''</span><span style=\"font-weight: bold\">}</span>                                                   <a href=\"file:///usr/local/lib/python3.11/site-packages/manim/plugins/__init__.py\" target=\"_blank\"><span style=\"color: #7f7f7f; text-decoration-color: #7f7f7f\">__init__.py</span></a><span style=\"color: #7f7f7f; text-decoration-color: #7f7f7f\">:</span><a href=\"file:///usr/local/lib/python3.11/site-packages/manim/plugins/__init__.py#17\" target=\"_blank\"><span style=\"color: #7f7f7f; text-decoration-color: #7f7f7f\">17</span></a>\n",
       "</pre>\n"
      ],
      "text/plain": [
       "\u001b[2;36m[03/28/24 06:31:37]\u001b[0m\u001b[2;36m \u001b[0m\u001b[31mWARNING \u001b[0m Missing Plugins: \u001b[1m{\u001b[0m\u001b[32m''\u001b[0m\u001b[1m}\u001b[0m                                                   \u001b]8;id=695023;file:///usr/local/lib/python3.11/site-packages/manim/plugins/__init__.py\u001b\\\u001b[2m__init__.py\u001b[0m\u001b]8;;\u001b\\\u001b[2m:\u001b[0m\u001b]8;id=604516;file:///usr/local/lib/python3.11/site-packages/manim/plugins/__init__.py#17\u001b\\\u001b[2m17\u001b[0m\u001b]8;;\u001b\\\n"
      ]
     },
     "metadata": {},
     "output_type": "display_data"
    }
   ],
   "source": [
    "from manim import *\n",
    "from difflib import SequenceMatcher"
   ]
  },
  {
   "cell_type": "code",
   "execution_count": 3,
   "id": "b4fd7c4f-7d3b-449b-a78a-23edbf250114",
   "metadata": {},
   "outputs": [],
   "source": [
    "def tokenize(code: Code) -> List[VMobjectFromSVGPath|Dot]:\n",
    "    tokens = []\n",
    "    for line in code[2]: # 0 = frame, 1 = dot, 2 = paragraph\n",
    "        current_vmobject_group = []\n",
    "        for vmobject in line:\n",
    "            if isinstance(vmobject, Dot):\n",
    "                if len(current_vmobject_group) > 0:\n",
    "                    tokens.append(VGroup(*current_vmobject_group))\n",
    "                    current_vmobject_group = []\n",
    "\n",
    "                # tokens.append(vmobject)\n",
    "                continue\n",
    "\n",
    "            current_vmobject_group.append(vmobject)\n",
    "            \n",
    "        if len(current_vmobject_group) > 0:\n",
    "            tokens.append(VGroup(*current_vmobject_group))\n",
    "\n",
    "    return tokens"
   ]
  },
  {
   "cell_type": "code",
   "execution_count": 21,
   "id": "06706aa4-d2fd-47eb-abf3-6fecb0821b17",
   "metadata": {},
   "outputs": [],
   "source": [
    "rust_code = \"podman pull alpine\"\n",
    "token_replacements = \"podman run -it --rm alpine sh\"\n",
    "\n",
    "output_code = \"\"\"Trying to pull docker.io/library/alpine:latest...\n",
    "Getting image source signatures\n",
    "Copying blob 4abcf2066143 skipped: already exists  \n",
    "Copying config 05455a0888 done   | \n",
    "Writing manifest to image destination\n",
    "05455a08881ea9cf0e752bc48e61bbd71a34c029bb13df01e40e3e70e0d007bd\"\"\"\n",
    "tert_output_code = \"/ # \""
   ]
  },
  {
   "cell_type": "code",
   "execution_count": 25,
   "id": "69f3d499-a175-4eb3-9742-c7630e82718d",
   "metadata": {},
   "outputs": [
    {
     "data": {
      "text/html": [
       "<pre style=\"white-space:pre;overflow-x:auto;line-height:normal;font-family:Menlo,'DejaVu Sans Mono',consolas,'Courier New',monospace\">Manim Community <span style=\"color: #008000; text-decoration-color: #008000\">v0.18.0</span>\n",
       "\n",
       "</pre>\n"
      ],
      "text/plain": [
       "Manim Community \u001b[32mv0.\u001b[0m\u001b[32m18.0\u001b[0m\n",
       "\n"
      ]
     },
     "metadata": {},
     "output_type": "display_data"
    },
    {
     "name": "stderr",
     "output_type": "stream",
     "text": [
      "                                                                           \r"
     ]
    },
    {
     "data": {
      "text/html": [
       "<video src=\"media/jupyter/CodeBlock@2024-03-28@06-52-26.mp4\" controls autoplay loop style=\"max-width: 60%;\"  >\n",
       "      Your browser does not support the <code>video</code> element.\n",
       "    </video>"
      ],
      "text/plain": [
       "<IPython.core.display.Video object>"
      ]
     },
     "metadata": {},
     "output_type": "display_data"
    }
   ],
   "source": [
    "%%manim -qm -v WARNING CodeBlock\n",
    "\n",
    "class CodeBlock(Scene):\n",
    "    def construct(self):\n",
    "        code = Code(code=rust_code, language=\"rust\", insert_line_no=False)\n",
    "        code.shift(1.25 * UP + 4.6 * LEFT)\n",
    "\n",
    "        replacement = Code(code=token_replacements, language=\"rust\", insert_line_no=False)\n",
    "        replacement.shift(1.25 * UP + 3.4 * LEFT)\n",
    "        code = tokenize(code)\n",
    "        replacement = tokenize(replacement)\n",
    "\n",
    "        writes = [Write(token) for token in code]\n",
    "        self.play(AnimationGroup(writes, lag_ratio=0.30))\n",
    "        self.wait()\n",
    "\n",
    "        secondary_code = Code(code=output_code, language='rust', insert_line_no=False)[2]\n",
    "        self.play(Write(secondary_code))\n",
    "\n",
    "        sequence_matcher = SequenceMatcher(None, rust_code.split(), token_replacements.split())\n",
    "        opcodes = list(sequence_matcher.get_opcodes())\n",
    "\n",
    "        unwrites = []\n",
    "        for op, i0, i1, j0, j1 in opcodes:\n",
    "            if op == 'delete' or op == 'replace':\n",
    "                for x in range(i0, i1):\n",
    "                    unwrites.append(Unwrite(code[x]))\n",
    "        \n",
    "        unwrites.append(FadeOut(secondary_code))\n",
    "        self.play(AnimationGroup(*unwrites))\n",
    "\n",
    "        transforms = []\n",
    "        for op, i0, i1, j0, j1 in opcodes:\n",
    "            if op == 'equal':\n",
    "                for x, y in zip(range(i0, i1), range(j0, j1)):\n",
    "                    transforms.append(Transform(code[x], replacement[y]))\n",
    "\n",
    "        self.play(AnimationGroup(*transforms))\n",
    "\n",
    "        writes = []\n",
    "        for op, i0, i1, j0, j1 in opcodes:\n",
    "            if op == 'insert' or op == 'replace':\n",
    "                for x in range(j0, j1):\n",
    "                    writes.append(Write(replacement[x]))\n",
    "\n",
    "        self.play(AnimationGroup(*writes, lag_ratio=0.30))\n",
    "\n",
    "        tertiary = Code(code=tert_output_code, language='rust', insert_line_no=False)[2]\n",
    "        tertiary.shift(0.85 * UP + 6 * LEFT)\n",
    "        self.play(Write(tertiary))\n",
    "        self.wait()"
   ]
  },
  {
   "cell_type": "code",
   "execution_count": null,
   "id": "fd1f0042-3fc3-466d-8cad-e6fbcfa909b8",
   "metadata": {},
   "outputs": [],
   "source": []
  }
 ],
 "metadata": {
  "kernelspec": {
   "display_name": "Python 3 (ipykernel)",
   "language": "python",
   "name": "python3"
  },
  "language_info": {
   "codemirror_mode": {
    "name": "ipython",
    "version": 3
   },
   "file_extension": ".py",
   "mimetype": "text/x-python",
   "name": "python",
   "nbconvert_exporter": "python",
   "pygments_lexer": "ipython3",
   "version": "3.11.8"
  }
 },
 "nbformat": 4,
 "nbformat_minor": 5
}
