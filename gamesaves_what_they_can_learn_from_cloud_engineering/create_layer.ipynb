{
 "cells": [
  {
   "cell_type": "code",
   "execution_count": 23,
   "id": "159fb924-4008-42a7-9c00-330b17ec4a2e",
   "metadata": {},
   "outputs": [
    {
     "data": {
      "text/html": [
       "<pre style=\"white-space:pre;overflow-x:auto;line-height:normal;font-family:Menlo,'DejaVu Sans Mono',consolas,'Courier New',monospace\">Manim Community <span style=\"color: #008000; text-decoration-color: #008000\">v0.18.0</span>\n",
       "\n",
       "</pre>\n"
      ],
      "text/plain": [
       "Manim Community \u001b[32mv0.\u001b[0m\u001b[32m18.0\u001b[0m\n",
       "\n"
      ]
     },
     "metadata": {},
     "output_type": "display_data"
    },
    {
     "name": "stderr",
     "output_type": "stream",
     "text": [
      "                                                                           \r"
     ]
    },
    {
     "data": {
      "text/html": [
       "<video src=\"media/jupyter/MovingAround@2024-03-28@06-05-02.mp4\" controls autoplay loop style=\"max-width: 60%;\"  >\n",
       "      Your browser does not support the <code>video</code> element.\n",
       "    </video>"
      ],
      "text/plain": [
       "<IPython.core.display.Video object>"
      ]
     },
     "metadata": {},
     "output_type": "display_data"
    }
   ],
   "source": [
    "from manim import *\n",
    "\n",
    "class MovingAround(Scene):\n",
    "    def construct(self):\n",
    "        square = Square(color=BLUE, fill_opacity=0.6)\n",
    "        layer = square.copy()\n",
    "        layer.rotate(PI / 4)\n",
    "        layer.shift(LEFT)\n",
    "        layer.apply_function(lambda p: np.array([\n",
    "            p[0],\n",
    "            p[1] * 0.5,\n",
    "            0\n",
    "        ]))\n",
    "        self.play(Transform(square, layer))\n",
    "        self.wait(2)\n",
    "\n",
    "%manim -qm -v WARNING MovingAround"
   ]
  },
  {
   "cell_type": "code",
   "execution_count": null,
   "id": "4061be91-2f96-42ef-9599-42ea36756cb2",
   "metadata": {},
   "outputs": [],
   "source": []
  }
 ],
 "metadata": {
  "kernelspec": {
   "display_name": "Python 3 (ipykernel)",
   "language": "python",
   "name": "python3"
  },
  "language_info": {
   "codemirror_mode": {
    "name": "ipython",
    "version": 3
   },
   "file_extension": ".py",
   "mimetype": "text/x-python",
   "name": "python",
   "nbconvert_exporter": "python",
   "pygments_lexer": "ipython3",
   "version": "3.11.8"
  }
 },
 "nbformat": 4,
 "nbformat_minor": 5
}
