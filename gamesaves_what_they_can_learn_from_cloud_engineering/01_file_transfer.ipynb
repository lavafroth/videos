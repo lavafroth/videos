{
 "cells": [
  {
   "cell_type": "code",
   "execution_count": 2,
   "id": "93e5b549-c822-4698-8ff7-f847cdf7ad30",
   "metadata": {},
   "outputs": [
    {
     "data": {
      "text/html": [
       "<pre style=\"white-space:pre;overflow-x:auto;line-height:normal;font-family:Menlo,'DejaVu Sans Mono',consolas,'Courier New',monospace\"><span style=\"color: #7fbfbf; text-decoration-color: #7fbfbf\">[03/30/24 03:22:16] </span><span style=\"color: #800000; text-decoration-color: #800000\">WARNING </span> Missing Plugins: <span style=\"font-weight: bold\">{</span><span style=\"color: #008000; text-decoration-color: #008000\">''</span><span style=\"font-weight: bold\">}</span>                                                   <a href=\"file:///usr/local/lib/python3.11/site-packages/manim/plugins/__init__.py\" target=\"_blank\"><span style=\"color: #7f7f7f; text-decoration-color: #7f7f7f\">__init__.py</span></a><span style=\"color: #7f7f7f; text-decoration-color: #7f7f7f\">:</span><a href=\"file:///usr/local/lib/python3.11/site-packages/manim/plugins/__init__.py#17\" target=\"_blank\"><span style=\"color: #7f7f7f; text-decoration-color: #7f7f7f\">17</span></a>\n",
       "</pre>\n"
      ],
      "text/plain": [
       "\u001b[2;36m[03/30/24 03:22:16]\u001b[0m\u001b[2;36m \u001b[0m\u001b[31mWARNING \u001b[0m Missing Plugins: \u001b[1m{\u001b[0m\u001b[32m''\u001b[0m\u001b[1m}\u001b[0m                                                   \u001b]8;id=756941;file:///usr/local/lib/python3.11/site-packages/manim/plugins/__init__.py\u001b\\\u001b[2m__init__.py\u001b[0m\u001b]8;;\u001b\\\u001b[2m:\u001b[0m\u001b]8;id=430746;file:///usr/local/lib/python3.11/site-packages/manim/plugins/__init__.py#17\u001b\\\u001b[2m17\u001b[0m\u001b]8;;\u001b\\\n"
      ]
     },
     "metadata": {},
     "output_type": "display_data"
    }
   ],
   "source": [
    "from manim import *"
   ]
  },
  {
   "cell_type": "code",
   "execution_count": 55,
   "id": "f37d1283-9f49-4653-87bd-8459958a3406",
   "metadata": {},
   "outputs": [
    {
     "data": {
      "text/html": [
       "<pre style=\"white-space:pre;overflow-x:auto;line-height:normal;font-family:Menlo,'DejaVu Sans Mono',consolas,'Courier New',monospace\">Manim Community <span style=\"color: #008000; text-decoration-color: #008000\">v0.18.0</span>\n",
       "\n",
       "</pre>\n"
      ],
      "text/plain": [
       "Manim Community \u001b[32mv0.\u001b[0m\u001b[32m18.0\u001b[0m\n",
       "\n"
      ]
     },
     "metadata": {},
     "output_type": "display_data"
    },
    {
     "name": "stderr",
     "output_type": "stream",
     "text": [
      "                                                                           \r"
     ]
    },
    {
     "data": {
      "text/html": [
       "<video src=\"media/jupyter/FileTransfer@2024-03-30@04-12-40.mp4\" controls autoplay loop style=\"max-width: 60%;\"  >\n",
       "      Your browser does not support the <code>video</code> element.\n",
       "    </video>"
      ],
      "text/plain": [
       "<IPython.core.display.Video object>"
      ]
     },
     "metadata": {},
     "output_type": "display_data"
    }
   ],
   "source": [
    "class FileTransfer(Scene):\n",
    "    def construct(self):\n",
    "        directory = SVGMobject(\"file-directory-fill.svg\", fill_color=BLUE, stroke_color=BLUE, fill_opacity=0.6)\n",
    "        directory.shift(4*LEFT)\n",
    "\n",
    "        codespace = SVGMobject(\"codespaces.svg\", fill_color=BLUE, stroke_color=BLUE, fill_opacity=0.6)\n",
    "        codespace.scale(0.5)\n",
    "        codespace.shift(4.5 * RIGHT + 0.25 * DOWN)\n",
    "\n",
    "        dir_codespace_group = AnimationGroup(Write(directory), Write(codespace))\n",
    "        self.play(dir_codespace_group)\n",
    "        \n",
    "        file_icon = SVGMobject(\"file.svg\", fill_color=BLUE, stroke_color=BLUE, fill_opacity=0.6)\n",
    "        file_icon.scale(0.3)\n",
    "        file_icon.shift(4.5*LEFT + 0.25 * UP)\n",
    "\n",
    "        files = [file_icon]\n",
    "        file_icon = file_icon.copy()\n",
    "        file_icon.shift(RIGHT)\n",
    "        files.append(file_icon)\n",
    "        file_icon = file_icon.copy()\n",
    "        file_icon.shift(0.75 * DOWN)\n",
    "        files.append(file_icon)\n",
    "        file_icon = files[0].copy()\n",
    "        file_icon.shift(0.75 * DOWN)\n",
    "        files.append(file_icon)\n",
    "\n",
    "        file_group = AnimationGroup((Write(file) for file in files))\n",
    "        self.play(file_group)\n",
    "\n",
    "        target = codespace.get_center() + 1.5 * LEFT + 0.2 * DOWN\n",
    "        for i, file in enumerate(files):\n",
    "            self.play(\n",
    "                file.animate.move_to(target + i/8 * (RIGHT + UP))\n",
    "            )\n",
    "\n",
    "        run_icon = SVGMobject(\"rel-file-path.svg\", fill_color=BLUE, stroke_color=BLUE, fill_opacity=0.6)\n",
    "        run_icon.scale(0.4)\n",
    "        run_icon.shift(0.5 * LEFT + 0.25 * DOWN)\n",
    "\n",
    "        run_action = []\n",
    "        for i, file in enumerate(files):\n",
    "            run_action.append(\n",
    "                file.animate.shift(2.75 * LEFT)\n",
    "            )\n",
    "        run_action = AnimationGroup(\n",
    "            *run_action,\n",
    "            FadeOut(directory),\n",
    "            Transform(codespace, run_icon)\n",
    "        )\n",
    "\n",
    "        self.play(run_action)\n",
    "\n",
    "        self.wait(4)\n",
    "\n",
    "%manim -qm -v WARNING FileTransfer"
   ]
  },
  {
   "cell_type": "code",
   "execution_count": null,
   "id": "3ffecb68-583e-45d1-8a8a-211f76af0300",
   "metadata": {},
   "outputs": [],
   "source": []
  }
 ],
 "metadata": {
  "kernelspec": {
   "display_name": "Python 3 (ipykernel)",
   "language": "python",
   "name": "python3"
  },
  "language_info": {
   "codemirror_mode": {
    "name": "ipython",
    "version": 3
   },
   "file_extension": ".py",
   "mimetype": "text/x-python",
   "name": "python",
   "nbconvert_exporter": "python",
   "pygments_lexer": "ipython3",
   "version": "3.11.8"
  }
 },
 "nbformat": 4,
 "nbformat_minor": 5
}
